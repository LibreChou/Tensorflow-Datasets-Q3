{
 "cells": [
  {
   "cell_type": "markdown",
   "metadata": {},
   "source": [
    "# Download Imdb data from\n",
    " http://mng.bz/0tIo\n",
    "\n",
    "let’s collect the individual training reviews into a list of strings, one string per\n",
    "review. We’ll also collect the review labels (positive/negative) into a labels list. "
   ]
  },
  {
   "cell_type": "code",
   "execution_count": 1,
   "metadata": {},
   "outputs": [
    {
     "name": "stdout",
     "output_type": "stream",
     "text": [
      "['.DS_Store', 'test', 'train']\n",
      "['.DS_Store', 'neg', 'pos', 'urls_neg.txt', 'urls_pos.txt']\n"
     ]
    }
   ],
   "source": [
    "# Lets take a look at the downloaded dada\n",
    "\n",
    "import os\n",
    "\n",
    "print(os.listdir('aclImdb'))\n",
    "print(os.listdir('aclImdb/train'))"
   ]
  },
  {
   "cell_type": "code",
   "execution_count": 2,
   "metadata": {},
   "outputs": [],
   "source": [
    "# IMDB Dataset contain negative and positive reviews in text format "
   ]
  },
  {
   "cell_type": "code",
   "execution_count": 3,
   "metadata": {},
   "outputs": [
    {
     "name": "stdout",
     "output_type": "stream",
     "text": [
      "I loved Dedee Pfeiffer (is that spelled right?) in Cybil. Haven't seen her for awhile and forgot how much I missed her. I thought she did a great job in this. The supporting cast was pretty good too. In some angles, the daughter even looked like a young Nicole Kidman. The abductor was pretty creepy and the story generally had some good twists. The young boyfriend was a hottie. I thought the husband definitely had something to do with it for sure.<br /><br />Just got the Lifetime Movie Network for Christmas and am loving these movies. Kept my interest and I'll watch it again when they rerun it. Can anyone else recommend any similar movies to this? You can post on the board or send me a private email if you want. Thanks in advance. Aboutagirly.\n"
     ]
    }
   ],
   "source": [
    "f = open(\"aclImdb/train/pos/268_8.txt\", \"r\")\n",
    "print(f.read())"
   ]
  },
  {
   "cell_type": "code",
   "execution_count": 4,
   "metadata": {},
   "outputs": [
    {
     "name": "stdout",
     "output_type": "stream",
     "text": [
      "Sorry everyone,,, I know this is supposed to be an \"art\" film,, but wow, they should have handed out guns at the screening so people could blow their brains out and not watch. Although the scene design and photographic direction was excellent, this story is too painful to watch. The absence of a sound track was brutal. The loooonnnnng shots were too long. How long can you watch two people just sitting there and talking? Especially when the dialogue is two people complaining. I really had a hard time just getting through this film. The performances were excellent, but how much of that dark, sombre, uninspired, stuff can you take? The only thing i liked was Maureen Stapleton and her red dress and dancing scene. Otherwise this was a ripoff of Bergman. And i'm no fan f his either. I think anyone who says they enjoyed 1 1/2 hours of this is,, well, lying.\n"
     ]
    }
   ],
   "source": [
    "f = open(\"aclImdb/train/neg/10002_1.txt\", \"r\")\n",
    "print(f.read())"
   ]
  },
  {
   "cell_type": "markdown",
   "metadata": {},
   "source": [
    "# Processing the labels of the raw IMDB data"
   ]
  },
  {
   "cell_type": "code",
   "execution_count": 5,
   "metadata": {},
   "outputs": [],
   "source": [
    "# With this entire code we just created labels for the neg and pos text\n",
    "\n",
    "import os\n",
    "imdb_dir = 'aclImdb'\n",
    "train_dir = os.path.join(imdb_dir, 'train') #train_dir = aclImdb\\train\n",
    "labels = []\n",
    "texts = []\n",
    "for label_type in ['neg', 'pos']:\n",
    "    dir_name = os.path.join(train_dir, label_type) #dir_name = aclImdb\\train\\neg\n",
    "                                                   #dir_name = aclImdb\\train\\pos\n",
    "        \n",
    "    for fname in os.listdir(dir_name):\n",
    "        if fname[-4:] == '.txt':                  # if file is text file\n",
    "            f = open(os.path.join(dir_name, fname),encoding=\"utf8\") # open it\n",
    "            texts.append(f.read())               # add in that empty texts list we made before\n",
    "            f.close()\n",
    "        if label_type == 'neg':                 # ager neg folder ka ho to 0 label\n",
    "            labels.append(0)                    # aur labels list mai daldo jo upper bnaya tha\n",
    "        else:\n",
    "            labels.append(1)                   # pos hoto 1 label deke labels folder mai daldo"
   ]
  },
  {
   "cell_type": "markdown",
   "metadata": {},
   "source": [
    "# Tokenizing the text of the raw IMDB data\n",
    "we’ll add the following twist:\n",
    "restricting the training data to the first 200 samples. So you’ll learn to classify movie\n",
    "reviews after looking at just 200 examples."
   ]
  },
  {
   "cell_type": "code",
   "execution_count": 6,
   "metadata": {},
   "outputs": [],
   "source": [
    "maxlen = 100               # Cuts off reviews after 100 words\n",
    "training_samples = 200     # Trains on 200 samples\n",
    "validation_samples = 10000 # Validates on 10,000 samples\n",
    "max_words = 10000          # Considers only the top 10,000 words in the dataset"
   ]
  },
  {
   "cell_type": "code",
   "execution_count": 7,
   "metadata": {},
   "outputs": [],
   "source": [
    "from tensorflow.keras.preprocessing.text import Tokenizer\n",
    "from tensorflow.keras.preprocessing.sequence import pad_sequences\n",
    "\n",
    "tokenizer = Tokenizer(num_words=max_words)    # max_words = 10000 \n",
    "tokenizer.fit_on_texts(texts)\n",
    "sequences = tokenizer.texts_to_sequences(texts)"
   ]
  },
  {
   "cell_type": "code",
   "execution_count": 8,
   "metadata": {},
   "outputs": [
    {
     "name": "stdout",
     "output_type": "stream",
     "text": [
      "Found 88582 unique tokens.\n",
      "\n"
     ]
    }
   ],
   "source": [
    "word_index = tokenizer.word_index\n",
    "print('Found %s unique tokens.' % len(word_index))\n",
    "print()\n",
    "#print(tokenizer.word_index)"
   ]
  },
  {
   "cell_type": "code",
   "execution_count": 9,
   "metadata": {},
   "outputs": [],
   "source": [
    "# pad_sequences is used to ensure that all sequences in a list have the same length.\n",
    "\n",
    "from tensorflow.keras.preprocessing.sequence import pad_sequences\n",
    "data = pad_sequences(sequences, maxlen=maxlen)                    # maxlen = 100   "
   ]
  },
  {
   "cell_type": "code",
   "execution_count": 10,
   "metadata": {},
   "outputs": [
    {
     "name": "stdout",
     "output_type": "stream",
     "text": [
      "Shape of data tensor: (25000, 100)\n",
      "Shape of label tensor: (25000,)\n"
     ]
    }
   ],
   "source": [
    "import numpy as np\n",
    "\n",
    "labels = np.asarray(labels)\n",
    "print('Shape of data tensor:', data.shape)\n",
    "print('Shape of label tensor:', labels.shape)"
   ]
  },
  {
   "cell_type": "code",
   "execution_count": 11,
   "metadata": {},
   "outputs": [],
   "source": [
    "# randomizing data\n",
    "\n",
    "indices = np.arange(data.shape[0])   # same length ke range bnai \n",
    "np.random.shuffle(indices)           # uske position shuffle ke\n",
    "data = data[indices]                 # same shuffle position data ke bhe kerde\n",
    "labels = labels[indices]             # aur label ke bhe"
   ]
  },
  {
   "cell_type": "code",
   "execution_count": 12,
   "metadata": {},
   "outputs": [
    {
     "name": "stdout",
     "output_type": "stream",
     "text": [
      "(200, 100)\n",
      "(200,)\n",
      "(10000, 100)\n",
      "(10000,)\n"
     ]
    }
   ],
   "source": [
    "# spliting data\n",
    "\n",
    "x_train = data[:training_samples]  # training_samples = 200 \n",
    "y_train = labels[:training_samples]\n",
    "x_val = data[training_samples: training_samples + validation_samples] # validation_samples = 10000\n",
    "y_val = labels[training_samples: training_samples + validation_samples]\n",
    "\n",
    "print(x_train.shape)\n",
    "print(y_train.shape)\n",
    "print(x_val.shape)\n",
    "print(y_val.shape)"
   ]
  },
  {
   "cell_type": "markdown",
   "metadata": {},
   "source": [
    "# DOWNLOAD THE GLOVE WORD EMBEDDINGS\n",
    "Its a pretrained Word Embedding : \n",
    "https://nlp.stanford.edu/projects/glove\n",
    "\n",
    "It’s an 822 MB zip file called glove.6B.zip,\n",
    "containing 100-dimensional embedding vectors for 400,000 words (or nonword\n",
    "tokens).\n",
    "\n",
    "PREPROCESSING THE EMBEDDINGS\n",
    "Let’s parse the unzipped file (a .txt file) to build an index that maps words (as strings)\n",
    "to their vector representation (as number vectors)."
   ]
  },
  {
   "cell_type": "markdown",
   "metadata": {},
   "source": [
    "# Parsing the GloVe word-embeddings file"
   ]
  },
  {
   "cell_type": "code",
   "execution_count": 13,
   "metadata": {},
   "outputs": [
    {
     "name": "stdout",
     "output_type": "stream",
     "text": [
      "Folder contain : ['glove.6B.100d.txt', 'glove.6B.200d.txt', 'glove.6B.300d.txt', 'glove.6B.50d.txt']\n",
      "\n",
      "Printing first value :\n",
      "\n",
      " ['sandberger', '0.28365', '-0.6263', '-0.44351', '0.2177', '-0.087421', '-0.17062', '0.29266', '-0.024899', '0.26414', '-0.17023', '0.25817', '0.097484', '-0.33103', '-0.43859', '0.0095799', '0.095624', '-0.17777', '0.38886', '0.27151', '0.14742', '-0.43973', '-0.26588', '-0.024271', '0.27186', '-0.36761', '-0.24827', '-0.20815', '0.22128', '-0.044409', '0.021373', '0.24594', '0.26143', '0.29303', '0.13281', '0.082232', '-0.12869', '0.1622', '-0.22567', '-0.060348', '0.28703', '0.11381', '0.34839', '0.3419', '0.36996', '-0.13592', '0.0062694', '0.080317', '0.0036251', '0.43093', '0.01882', '0.31008', '0.16722', '0.074112', '-0.37745', '0.47363', '0.41284', '0.24471', '0.075965', '-0.51725', '-0.49481', '0.526', '-0.074645', '0.41434', '-0.1956', '-0.16544', '-0.045649', '-0.40153', '-0.13136', '-0.4672', '0.18825', '0.2612', '0.16854', '0.22615', '0.62992', '-0.1288', '0.055841', '0.01928', '0.024572', '0.46875', '0.2582', '-0.31672', '0.048591', '0.3277', '-0.50141', '0.30855', '0.11997', '-0.25768', '-0.039867', '-0.059672', '0.5525', '0.13885', '-0.22862', '0.071792', '-0.43208', '0.5398', '-0.085806', '0.032651', '0.43678', '-0.82607', '-0.15701']\n"
     ]
    }
   ],
   "source": [
    "# lets check the downloaded glove file\n",
    "\n",
    "import os\n",
    "print(\"Folder contain :\",os.listdir(\"glove.6B\"))\n",
    "print()\n",
    "\n",
    "# each file colntain word with its vextor lets check\n",
    "\n",
    "f = open('glove.6B/glove.6B.100d.txt',encoding=\"utf8\")\n",
    "for i in f:\n",
    "    values = i.split()\n",
    "f.close()\n",
    "print(\"Printing first value :\\n\\n\",values)"
   ]
  },
  {
   "cell_type": "code",
   "execution_count": 14,
   "metadata": {},
   "outputs": [
    {
     "name": "stdout",
     "output_type": "stream",
     "text": [
      "Found 400000 word vectors.\n",
      "\n"
     ]
    }
   ],
   "source": [
    "# lets put the same format in a dictionary\n",
    "\n",
    "glove_dir = 'glove.6B'                                                   \n",
    "embeddings_index = {}\n",
    "f = open(os.path.join(glove_dir, 'glove.6B.100d.txt'),encoding=\"utf8\")\n",
    "\n",
    "for line in f:\n",
    "    values = line.split()\n",
    "    word = values[0]\n",
    "    coefs = np.asarray(values[1:], dtype='float32')\n",
    "    embeddings_index[word] = coefs\n",
    "f.close()\n",
    "print('Found %s word vectors.' % len(embeddings_index))\n",
    "print()\n",
    "#print(embeddings_index)"
   ]
  },
  {
   "cell_type": "markdown",
   "metadata": {},
   "source": [
    "Next, you’ll build an embedding matrix that you can load into an Embedding layer. It\n",
    "must be a matrix of shape (max_words, embedding_dim), where each entry i contains\n",
    "the embedding_dim-dimensional vector for the word of index i in the reference word\n",
    "index (built during tokenization). Note that index 0 isn’t supposed to stand for any\n",
    "word or token—it’s a placeholder."
   ]
  },
  {
   "cell_type": "markdown",
   "metadata": {},
   "source": [
    "# Preparing the GloVe word-embeddings matrix"
   ]
  },
  {
   "cell_type": "code",
   "execution_count": 15,
   "metadata": {},
   "outputs": [],
   "source": [
    "# we have\n",
    "# print(word_index) # word and its number (built during tokenization) in dict format\n",
    "\n",
    "# and we have\n",
    "# print(embeddings_index) # word and its vector (Gloves) in dict format"
   ]
  },
  {
   "cell_type": "code",
   "execution_count": 16,
   "metadata": {},
   "outputs": [
    {
     "name": "stdout",
     "output_type": "stream",
     "text": [
      "(10000, 100)\n",
      "\n"
     ]
    }
   ],
   "source": [
    "# ab hum embeding matrix bnainge jise embeding layer mai dalsake\n",
    "# word tokinizer wala ho aue uska vector glove wala\n",
    "\n",
    "# zero ke matrix bnaya\n",
    "\n",
    "# max_words = 10000\n",
    "embedding_dim = 100\n",
    "\n",
    "embedding_matrix = np.zeros((max_words, embedding_dim))\n",
    "\n",
    "print(embedding_matrix.shape)\n",
    "print()\n",
    "#print(embedding_matrix)"
   ]
  },
  {
   "cell_type": "code",
   "execution_count": 17,
   "metadata": {},
   "outputs": [
    {
     "name": "stdout",
     "output_type": "stream",
     "text": [
      "(10000, 100)\n",
      "\n"
     ]
    }
   ],
   "source": [
    "for word, i in word_index.items():\n",
    "    if i < max_words:   # 10000 index uthai tokinizer ke\n",
    "        embedding_vector = embeddings_index.get(word) # aur gloves ka vector usay dedo\n",
    "        if embedding_vector is not None: # aur word na mile embading mai to zero ka bnado\n",
    "            embedding_matrix[i] = embedding_vector # embedding_matrix mai save kerdo\n",
    "\n",
    "# ab hamare pass tokinizer wale value ke vector bhe hai embedding_matrix mai\n",
    "print(embedding_matrix.shape)\n",
    "print()\n",
    "#print(embedding_matrix)"
   ]
  },
  {
   "cell_type": "markdown",
   "metadata": {},
   "source": [
    "# Model definition\n",
    "We’ll use the same model architecture as before. "
   ]
  },
  {
   "cell_type": "code",
   "execution_count": 18,
   "metadata": {},
   "outputs": [
    {
     "name": "stdout",
     "output_type": "stream",
     "text": [
      "Model: \"sequential\"\n",
      "_________________________________________________________________\n",
      "Layer (type)                 Output Shape              Param #   \n",
      "=================================================================\n",
      "embedding (Embedding)        (None, 100, 100)          1000000   \n",
      "_________________________________________________________________\n",
      "flatten (Flatten)            (None, 10000)             0         \n",
      "_________________________________________________________________\n",
      "dense (Dense)                (None, 32)                320032    \n",
      "_________________________________________________________________\n",
      "dense_1 (Dense)              (None, 1)                 33        \n",
      "=================================================================\n",
      "Total params: 1,320,065\n",
      "Trainable params: 1,320,065\n",
      "Non-trainable params: 0\n",
      "_________________________________________________________________\n"
     ]
    }
   ],
   "source": [
    "from tensorflow.keras.models import Sequential\n",
    "from tensorflow.keras.layers import Embedding, Flatten, Dense\n",
    "model = Sequential()\n",
    "model.add(Embedding(max_words, embedding_dim, input_length=maxlen))\n",
    "model.add(Flatten())\n",
    "model.add(Dense(32, activation='relu'))\n",
    "model.add(Dense(1, activation='sigmoid'))\n",
    "model.summary()"
   ]
  },
  {
   "cell_type": "markdown",
   "metadata": {},
   "source": [
    "# Loading pretrained word embeddings into the Embedding layer\n",
    "The Embedding layer has a single weight matrix: a 2D float matrix where each entry i is\n",
    "the word vector meant to be associated with index i. Simple enough. Load the GloVe\n",
    "matrix you prepared into the Embedding layer, the first layer in the model."
   ]
  },
  {
   "cell_type": "code",
   "execution_count": 19,
   "metadata": {},
   "outputs": [],
   "source": [
    "model.layers[0].set_weights([embedding_matrix]) # pretrained use kare\n",
    "model.layers[0].trainable = False               # aur usko freeze kerdia ke mazed train na ho"
   ]
  },
  {
   "cell_type": "markdown",
   "metadata": {},
   "source": [
    "Additionally, you’ll freeze the Embedding layer (set its trainable attribute to False),\n",
    "following the same rationale you’re already familiar with in the context of pretrained\n",
    "convnet features: when parts of a model are pretrained (like your Embedding layer)\n",
    "and parts are randomly initialized (like your classifier), the pretrained parts shouldn’t\n",
    "be updated during training, to avoid forgetting what they already know. The large gradient updates triggered by the randomly initialized layers would be disruptive to the\n",
    "already-learned features. "
   ]
  },
  {
   "cell_type": "markdown",
   "metadata": {},
   "source": [
    "# Training and evaluation"
   ]
  },
  {
   "cell_type": "code",
   "execution_count": 20,
   "metadata": {},
   "outputs": [
    {
     "name": "stdout",
     "output_type": "stream",
     "text": [
      "Train on 200 samples, validate on 10000 samples\n",
      "Epoch 1/10\n",
      "200/200 [==============================] - 3s 16ms/sample - loss: 1.5624 - acc: 0.5000 - val_loss: 0.6917 - val_acc: 0.4946\n",
      "Epoch 2/10\n",
      "200/200 [==============================] - 2s 10ms/sample - loss: 0.6345 - acc: 0.6600 - val_loss: 0.9594 - val_acc: 0.5073\n",
      "Epoch 3/10\n",
      "200/200 [==============================] - 2s 11ms/sample - loss: 0.7499 - acc: 0.6650 - val_loss: 0.7998 - val_acc: 0.5262\n",
      "Epoch 4/10\n",
      "200/200 [==============================] - 2s 9ms/sample - loss: 0.3650 - acc: 0.8300 - val_loss: 0.8181 - val_acc: 0.5472\n",
      "Epoch 5/10\n",
      "200/200 [==============================] - 2s 9ms/sample - loss: 0.2617 - acc: 0.8950 - val_loss: 0.7696 - val_acc: 0.5353\n",
      "Epoch 6/10\n",
      "200/200 [==============================] - 2s 9ms/sample - loss: 0.2819 - acc: 0.8700 - val_loss: 0.9572 - val_acc: 0.5345\n",
      "Epoch 7/10\n",
      "200/200 [==============================] - 2s 9ms/sample - loss: 0.1049 - acc: 0.9750 - val_loss: 1.1792 - val_acc: 0.4988\n",
      "Epoch 8/10\n",
      "200/200 [==============================] - 2s 10ms/sample - loss: 0.0717 - acc: 1.0000 - val_loss: 1.3338 - val_acc: 0.5177\n",
      "Epoch 9/10\n",
      "200/200 [==============================] - 2s 10ms/sample - loss: 0.0808 - acc: 0.9900 - val_loss: 0.8725 - val_acc: 0.5517\n",
      "Epoch 10/10\n",
      "200/200 [==============================] - 2s 10ms/sample - loss: 0.0210 - acc: 1.0000 - val_loss: 0.7917 - val_acc: 0.5747\n"
     ]
    }
   ],
   "source": [
    "model.compile(optimizer='rmsprop',\n",
    "loss='binary_crossentropy',\n",
    "metrics=['acc'])\n",
    "\n",
    "history = model.fit(x_train, y_train,\n",
    "                    epochs=10,\n",
    "                    batch_size=32,\n",
    "                    validation_data=(x_val, y_val))\n",
    "\n",
    "model.save_weights('pre_trained_glove_model.h5')"
   ]
  },
  {
   "cell_type": "markdown",
   "metadata": {},
   "source": [
    "# Plotting the results"
   ]
  },
  {
   "cell_type": "code",
   "execution_count": 21,
   "metadata": {},
   "outputs": [
    {
     "data": {
      "image/png": "[encoded data removed]",
      "text/plain": [
       "<Figure size 432x288 with 1 Axes>"
      ]
     },
     "metadata": {
      "needs_background": "light"
     },
     "output_type": "display_data"
    },
    {
     "data": {
      "image/png": "[encoded data removed]",
      "text/plain": [
       "<Figure size 432x288 with 1 Axes>"
      ]
     },
     "metadata": {
      "needs_background": "light"
     },
     "output_type": "display_data"
    }
   ],
   "source": [
    "import matplotlib.pyplot as plt\n",
    "acc = history.history['acc']\n",
    "val_acc = history.history['val_acc']\n",
    "loss = history.history['loss']\n",
    "val_loss = history.history['val_loss']\n",
    "epochs = range(1, len(acc) + 1)\n",
    "plt.plot(epochs, acc, 'bo', label='Training acc')\n",
    "plt.plot(epochs, val_acc, 'b', label='Validation acc')\n",
    "plt.title('Training and validation accuracy')\n",
    "plt.legend()\n",
    "plt.figure()\n",
    "plt.plot(epochs, loss, 'bo', label='Training loss')\n",
    "plt.plot(epochs, val_loss, 'b', label='Validation loss')\n",
    "plt.title('Training and validation loss')\n",
    "plt.legend()\n",
    "plt.show()"
   ]
  },
  {
   "cell_type": "markdown",
   "metadata": {},
   "source": [
    "The model quickly starts overfitting, which is unsurprising given the small number of\n",
    "training samples. Validation accuracy has high variance for the same reason, but it\n",
    "seems to reach the high 50s.\n",
    " Note that your mileage may vary: because you have so few training samples, performance is heavily dependent on exactly which 200 samples you choose—and you’re\n",
    "choosing them at random. If this works poorly for you, try choosing a different random set of 200 samples, for the sake of the exercise (in real life, you don’t get to\n",
    "choose your training data).\n",
    " You can also train the same model without loading the pretrained word embeddings and without freezing the embedding layer. In that case, you’ll learn a taskspecific embedding of the input tokens, which is generally more powerful than\n",
    "pretrained word embeddings when lots of data is available. But in this case, you have\n",
    "only 200 training samples."
   ]
  },
  {
   "cell_type": "markdown",
   "metadata": {},
   "source": [
    "# Training the same model without pretrained word embeddings"
   ]
  },
  {
   "cell_type": "code",
   "execution_count": 22,
   "metadata": {},
   "outputs": [],
   "source": [
    "# ab pretrained word embeding use nahe ker rahe\n",
    "# apne bna rahe hai aur freeze bhe nahe ker rahe\n",
    "# jese pichle example mai kia tha\n",
    "# but data humne kam lia hai sirf 200 to performance ache nahe hoge "
   ]
  },
  {
   "cell_type": "code",
   "execution_count": 23,
   "metadata": {},
   "outputs": [
    {
     "name": "stdout",
     "output_type": "stream",
     "text": [
      "Model: \"sequential_1\"\n",
      "_________________________________________________________________\n",
      "Layer (type)                 Output Shape              Param #   \n",
      "=================================================================\n",
      "embedding_1 (Embedding)      (None, 100, 100)          1000000   \n",
      "_________________________________________________________________\n",
      "flatten_1 (Flatten)          (None, 10000)             0         \n",
      "_________________________________________________________________\n",
      "dense_2 (Dense)              (None, 32)                320032    \n",
      "_________________________________________________________________\n",
      "dense_3 (Dense)              (None, 1)                 33        \n",
      "=================================================================\n",
      "Total params: 1,320,065\n",
      "Trainable params: 1,320,065\n",
      "Non-trainable params: 0\n",
      "_________________________________________________________________\n",
      "Train on 200 samples, validate on 10000 samples\n",
      "Epoch 1/10\n",
      "200/200 [==============================] - 3s 13ms/sample - loss: 0.6897 - acc: 0.5150 - val_loss: 0.6941 - val_acc: 0.5205\n",
      "Epoch 2/10\n",
      "200/200 [==============================] - 2s 10ms/sample - loss: 0.4705 - acc: 0.9700 - val_loss: 0.7022 - val_acc: 0.5232\n",
      "Epoch 3/10\n",
      "200/200 [==============================] - 2s 10ms/sample - loss: 0.2501 - acc: 0.9950 - val_loss: 0.7058 - val_acc: 0.5256\n",
      "Epoch 4/10\n",
      "200/200 [==============================] - 2s 10ms/sample - loss: 0.1032 - acc: 1.0000 - val_loss: 0.7068 - val_acc: 0.5271\n",
      "Epoch 5/10\n",
      "200/200 [==============================] - 2s 10ms/sample - loss: 0.0496 - acc: 1.0000 - val_loss: 0.7107 - val_acc: 0.5305\n",
      "Epoch 6/10\n",
      "200/200 [==============================] - 2s 10ms/sample - loss: 0.0251 - acc: 1.0000 - val_loss: 0.7189 - val_acc: 0.5331\n",
      "Epoch 7/10\n",
      "200/200 [==============================] - 2s 10ms/sample - loss: 0.0139 - acc: 1.0000 - val_loss: 0.7253 - val_acc: 0.5313\n",
      "Epoch 8/10\n",
      "200/200 [==============================] - 2s 10ms/sample - loss: 0.0082 - acc: 1.0000 - val_loss: 0.7361 - val_acc: 0.5313\n",
      "Epoch 9/10\n",
      "200/200 [==============================] - 2s 10ms/sample - loss: 0.0049 - acc: 1.0000 - val_loss: 0.7370 - val_acc: 0.5339\n",
      "Epoch 10/10\n",
      "200/200 [==============================] - 2s 9ms/sample - loss: 0.0030 - acc: 1.0000 - val_loss: 0.7475 - val_acc: 0.5339\n"
     ]
    }
   ],
   "source": [
    "from tensorflow.keras.models import Sequential\n",
    "from tensorflow.keras.layers import Embedding, Flatten, Dense\n",
    "\n",
    "model = Sequential()\n",
    "model.add(Embedding(max_words, embedding_dim, input_length=maxlen))\n",
    "model.add(Flatten())\n",
    "model.add(Dense(32, activation='relu'))\n",
    "model.add(Dense(1, activation='sigmoid'))\n",
    "model.summary()\n",
    "\n",
    "model.compile(optimizer='rmsprop',\n",
    "loss='binary_crossentropy',\n",
    "metrics=['acc'])\n",
    "\n",
    "history = model.fit(x_train, y_train,\n",
    "                    epochs=10,\n",
    "                    batch_size=32,\n",
    "                    validation_data=(x_val, y_val))"
   ]
  },
  {
   "cell_type": "code",
   "execution_count": 24,
   "metadata": {},
   "outputs": [
    {
     "data": {
      "image/png": "[encoded data removed]",
      "text/plain": [
       "<Figure size 432x288 with 1 Axes>"
      ]
     },
     "metadata": {
      "needs_background": "light"
     },
     "output_type": "display_data"
    },
    {
     "data": {
      "image/png": "[encoded data removed]",
      "text/plain": [
       "<Figure size 432x288 with 1 Axes>"
      ]
     },
     "metadata": {
      "needs_background": "light"
     },
     "output_type": "display_data"
    }
   ],
   "source": [
    "import matplotlib.pyplot as plt\n",
    "acc = history.history['acc']\n",
    "val_acc = history.history['val_acc']\n",
    "loss = history.history['loss']\n",
    "val_loss = history.history['val_loss']\n",
    "epochs = range(1, len(acc) + 1)\n",
    "plt.plot(epochs, acc, 'bo', label='Training acc')\n",
    "plt.plot(epochs, val_acc, 'b', label='Validation acc')\n",
    "plt.title('Training and validation accuracy')\n",
    "plt.legend()\n",
    "plt.figure()\n",
    "plt.plot(epochs, loss, 'bo', label='Training loss')\n",
    "plt.plot(epochs, val_loss, 'b', label='Validation loss')\n",
    "plt.title('Training and validation loss')\n",
    "plt.legend()\n",
    "plt.show()"
   ]
  },
  {
   "cell_type": "markdown",
   "metadata": {},
   "source": [
    "Validation accuracy stalls in the low 50s. So in this case, pretrained word embeddings\n",
    "outperform jointly learned embeddings. If you increase the number of training samples, this will quickly stop being the case—try it as an exercise.\n",
    "\n",
    " Finally, let’s evaluate the model on the test data. First, you need to tokenize the test\n",
    "data."
   ]
  },
  {
   "cell_type": "markdown",
   "metadata": {},
   "source": [
    "# Tokenizing the data of the test set"
   ]
  },
  {
   "cell_type": "code",
   "execution_count": 25,
   "metadata": {},
   "outputs": [],
   "source": [
    "# With this entire code we just created labels for the neg and pos text\n",
    "\n",
    "import os\n",
    "imdb_dir = 'aclImdb'\n",
    "test_dir = os.path.join(imdb_dir, 'test') #test_dir = aclImdb\\test\n",
    "labels = []\n",
    "texts = []\n",
    "for label_type in ['neg', 'pos']:\n",
    "    dir_name = os.path.join(test_dir, label_type) #dir_name = aclImdb\\test\\neg\n",
    "                                                   #dir_name = aclImdb\\test\\pos\n",
    "        \n",
    "    for fname in os.listdir(dir_name):\n",
    "        if fname[-4:] == '.txt':                  # if file is text file\n",
    "            f = open(os.path.join(dir_name, fname),encoding=\"utf8\") # open it\n",
    "            texts.append(f.read())               # add in that empty texts list we made before\n",
    "            f.close()\n",
    "        if label_type == 'neg':                 # ager neg folder ka ho to 0 label\n",
    "            labels.append(0)                    # aur labels list mai daldo jo upper bnaya tha\n",
    "        else:\n",
    "            labels.append(1)                   # pos hoto 1 label deke labels folder mai daldo"
   ]
  },
  {
   "cell_type": "code",
   "execution_count": 26,
   "metadata": {},
   "outputs": [],
   "source": [
    "sequences = tokenizer.texts_to_sequences(texts) # number me convert kia\n",
    "x_test = pad_sequences(sequences, maxlen=maxlen) # sentence ke max length set ke\n",
    "y_test = np.asarray(labels) # labels ko array mai convert kia"
   ]
  },
  {
   "cell_type": "markdown",
   "metadata": {},
   "source": [
    "Next, load and evaluate the first model.\n",
    "pretrained Glove embeding wala"
   ]
  },
  {
   "cell_type": "markdown",
   "metadata": {},
   "source": [
    "# Evaluating the model on the test set"
   ]
  },
  {
   "cell_type": "code",
   "execution_count": 27,
   "metadata": {},
   "outputs": [
    {
     "name": "stdout",
     "output_type": "stream",
     "text": [
      "25000/1 - 4s - loss: 0.6767 - acc: 0.5726\n",
      "\n",
      "Loss:  80.43322939109802 %\n",
      "Accuracy:  57.256001234054565 %\n"
     ]
    }
   ],
   "source": [
    "model.load_weights('pre_trained_glove_model.h5')\n",
    "\n",
    "evaluation = model.evaluate(x_test,y_test,verbose=2)\n",
    "print()\n",
    "print(\"Loss: \",evaluation[0]*100,\"%\")\n",
    "print(\"Accuracy: \",evaluation[1]*100,\"%\")"
   ]
  },
  {
   "cell_type": "markdown",
   "metadata": {},
   "source": [
    "You get an appalling test accuracy of 56%. Working with just a handful of training\n",
    "samples is difficult!"
   ]
  },
  {
   "cell_type": "markdown",
   "metadata": {},
   "source": [
    "# Wrapping up\n",
    "Now you’re able to do the following:\n",
    "\n",
    " Turn raw text into something a neural network can process\n",
    "\n",
    " Use the Embedding layer in a Keras model to learn task-specific token embeddings\n",
    "\n",
    " Use pretrained word embeddings to get an extra boost on small naturallanguage-processing problems"
   ]
  },
  {
   "cell_type": "code",
   "execution_count": null,
   "metadata": {},
   "outputs": [],
   "source": []
  }
 ],
 "metadata": {
  "kernelspec": {
   "display_name": "conda_gpu",
   "language": "python",
   "name": "conda_gpu"
  },
  "language_info": {
   "codemirror_mode": {
    "name": "ipython",
    "version": 3
   },
   "file_extension": ".py",
   "mimetype": "text/x-python",
   "name": "python",
   "nbconvert_exporter": "python",
   "pygments_lexer": "ipython3",
   "version": "3.7.7"
  }
 },
 "nbformat": 4,
 "nbformat_minor": 2
}
