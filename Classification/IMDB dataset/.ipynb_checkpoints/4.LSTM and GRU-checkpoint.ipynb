{
 "cells": [
  {
   "cell_type": "code",
   "execution_count": null,
   "metadata": {},
   "outputs": [],
   "source": []
  },
  {
   "cell_type": "markdown",
   "metadata": {},
   "source": [
    "# Understanding the LSTM and GRU layers"
   ]
  },
  {
   "cell_type": "markdown",
   "metadata": {},
   "source": [
    "SimpleRNN isn’t the only recurrent layer available in Keras.\n",
    "\n",
    "There are two others: LSTM(Long Short-Term Memory) and GRU(Gated Recurrent Unit).\n",
    "\n",
    "Recurrent Neural Network (RNN) has a problem of vanishing gradient problem.\n",
    "Mean it can remember back but can't remember a lot of steps back.\n",
    "\n",
    "The LSTM and GRU layers are designed to solve this problem.\n",
    "\n",
    "Long Short-Term Memory (LSTM) adds a way to carry information across many timesteps.\n",
    "Mean it can remember for longer then Rnn.\n",
    "\n",
    "what LSTM does: it saves information for later,\n",
    "thus preventing older signals from gradually vanishing during processing."
   ]
  },
  {
   "cell_type": "code",
   "execution_count": null,
   "metadata": {},
   "outputs": [],
   "source": []
  },
  {
   "cell_type": "markdown",
   "metadata": {},
   "source": [
    "# SimpleRNN cell\n",
    "\n",
    "y = activation(dot(state_t, U) + dot(input_t, W) + b)\n",
    "\n",
    "# Pseudocode details of the LSTM architecture (1/2)\n",
    "\n",
    "output_t = activation(dot(state_t, Uo) + dot(input_t, Wo) + dot(C_t, Vo) + bo)\n",
    "\n",
    "i_t = activation(dot(state_t, Ui) + dot(input_t, Wi) + bi)\n",
    "\n",
    "f_t = activation(dot(state_t, Uf) + dot(input_t, Wf) + bf)\n",
    "\n",
    "k_t = activation(dot(state_t, Uk) + dot(input_t, Wk) + bk)\n",
    "\n",
    "You obtain the new carry state (the next c_t) by combining i_t, f_t, and k_t.\n",
    "\n",
    "# Listing 6.26 Pseudocode details of the LSTM architecture (2/2)\n",
    "\n",
    "c_t+1 = i_t * k_t + c_t * f_t\n",
    "\n",
    "#### as a human, it shouldn’t be your job to understand it. Just keep in mind what the LSTM cell is meant to do: allow past information to be reinjected at a later time, thus fighting the vanishing-gradient problem. "
   ]
  },
  {
   "cell_type": "code",
   "execution_count": null,
   "metadata": {},
   "outputs": [],
   "source": []
  },
  {
   "cell_type": "markdown",
   "metadata": {},
   "source": [
    "# Using LSTM on IMDB Movie Review Classification Problem\n",
    " Enough with the examples lets implement the LSTM (Long Short-Term Memory)"
   ]
  },
  {
   "cell_type": "code",
   "execution_count": 1,
   "metadata": {},
   "outputs": [
    {
     "name": "stdout",
     "output_type": "stream",
     "text": [
      "25000 train sequences\n",
      "25000 test sequences\n"
     ]
    }
   ],
   "source": [
    "# Preparing data \n",
    "\n",
    "from tensorflow.keras.datasets import imdb  # loading IMdb from keras\n",
    "max_features = 10000                        # Max word\n",
    "\n",
    "(input_train, y_train), (input_test, y_test) = imdb.load_data(num_words=max_features)\n",
    "\n",
    "print(len(input_train), 'train sequences')\n",
    "print(len(input_test), 'test sequences')"
   ]
  },
  {
   "cell_type": "code",
   "execution_count": 2,
   "metadata": {},
   "outputs": [
    {
     "name": "stdout",
     "output_type": "stream",
     "text": [
      "input_train shape: (25000, 500)\n",
      "input_test shape: (25000, 500)\n"
     ]
    }
   ],
   "source": [
    "from tensorflow.keras.preprocessing import sequence\n",
    "maxlen = 500                # lenth of sentence\n",
    "\n",
    "input_train = sequence.pad_sequences(input_train, maxlen=maxlen)\n",
    "input_test = sequence.pad_sequences(input_test, maxlen=maxlen)\n",
    "\n",
    "print('input_train shape:', input_train.shape)\n",
    "print('input_test shape:', input_test.shape)"
   ]
  },
  {
   "cell_type": "markdown",
   "metadata": {},
   "source": [
    "# Using the LSTM layer in Keras"
   ]
  },
  {
   "cell_type": "code",
   "execution_count": 3,
   "metadata": {},
   "outputs": [
    {
     "name": "stdout",
     "output_type": "stream",
     "text": [
      "Train on 20000 samples, validate on 5000 samples\n",
      "Epoch 1/10\n",
      "20000/20000 [==============================] - 12s 580us/sample - loss: 0.5151 - acc: 0.7524 - val_loss: 0.3457 - val_acc: 0.8634\n",
      "Epoch 2/10\n",
      "20000/20000 [==============================] - 8s 381us/sample - loss: 0.3013 - acc: 0.8834 - val_loss: 0.3197 - val_acc: 0.8730\n",
      "Epoch 3/10\n",
      "20000/20000 [==============================] - 8s 379us/sample - loss: 0.2338 - acc: 0.9111 - val_loss: 0.3229 - val_acc: 0.8680\n",
      "Epoch 4/10\n",
      "20000/20000 [==============================] - 8s 379us/sample - loss: 0.1993 - acc: 0.9258 - val_loss: 0.3041 - val_acc: 0.8714\n",
      "Epoch 5/10\n",
      "20000/20000 [==============================] - 8s 381us/sample - loss: 0.1776 - acc: 0.9377 - val_loss: 0.2988 - val_acc: 0.8716\n",
      "Epoch 6/10\n",
      "20000/20000 [==============================] - 8s 391us/sample - loss: 0.1579 - acc: 0.9458 - val_loss: 0.2999 - val_acc: 0.8848\n",
      "Epoch 7/10\n",
      "20000/20000 [==============================] - 8s 393us/sample - loss: 0.1456 - acc: 0.9488 - val_loss: 0.3792 - val_acc: 0.8786\n",
      "Epoch 8/10\n",
      "20000/20000 [==============================] - 8s 394us/sample - loss: 0.1300 - acc: 0.9548 - val_loss: 0.4362 - val_acc: 0.8450\n",
      "Epoch 9/10\n",
      "20000/20000 [==============================] - 8s 393us/sample - loss: 0.1224 - acc: 0.9582 - val_loss: 0.3304 - val_acc: 0.8740\n",
      "Epoch 10/10\n",
      "20000/20000 [==============================] - 8s 390us/sample - loss: 0.1104 - acc: 0.9625 - val_loss: 0.5648 - val_acc: 0.8494\n"
     ]
    }
   ],
   "source": [
    "from tensorflow.keras.models import Sequential\n",
    "from tensorflow.keras.layers import Embedding  #, SimpleRNN\n",
    "from tensorflow.keras.layers import Dense\n",
    "from tensorflow.keras.layers import LSTM\n",
    "\n",
    "\n",
    "model = Sequential()\n",
    "model.add(Embedding(max_features, 32))\n",
    "model.add(LSTM(32))\n",
    "model.add(Dense(1, activation='sigmoid'))\n",
    "\n",
    "model.compile(optimizer='rmsprop',\n",
    "                loss='binary_crossentropy',\n",
    "                metrics=['acc'])\n",
    "\n",
    "history = model.fit(input_train, y_train,\n",
    "                    epochs=10,\n",
    "                    batch_size=128,\n",
    "                    validation_split=0.2)"
   ]
  },
  {
   "cell_type": "code",
   "execution_count": 4,
   "metadata": {},
   "outputs": [
    {
     "data": {
      "image/png": "[encoded data removed]",
      "text/plain": [
       "<Figure size 432x288 with 1 Axes>"
      ]
     },
     "metadata": {
      "needs_background": "light"
     },
     "output_type": "display_data"
    },
    {
     "data": {
      "image/png": "[encoded data removed]",
      "text/plain": [
       "<Figure size 432x288 with 1 Axes>"
      ]
     },
     "metadata": {
      "needs_background": "light"
     },
     "output_type": "display_data"
    }
   ],
   "source": [
    "import matplotlib.pyplot as plt\n",
    "\n",
    "acc = history.history['acc']\n",
    "val_acc = history.history['val_acc']\n",
    "loss = history.history['loss']\n",
    "val_loss = history.history['val_loss']\n",
    "epochs = range(1, len(acc) + 1)\n",
    "plt.plot(epochs, acc, 'bo', label='Training acc')\n",
    "plt.plot(epochs, val_acc, 'b', label='Validation acc')\n",
    "plt.title('Training and validation accuracy')\n",
    "plt.legend()\n",
    "plt.figure()\n",
    "plt.plot(epochs, loss, 'bo', label='Training loss')\n",
    "plt.plot(epochs, val_loss, 'b', label='Validation loss')\n",
    "plt.title('Training and validation loss')\n",
    "plt.legend()\n",
    "plt.show()"
   ]
  },
  {
   "cell_type": "markdown",
   "metadata": {},
   "source": [
    " Here LSTM perform much better than the SimpleRNN network\n",
    "\n",
    "# Wrapping up\n",
    "\n",
    "Now you understand the following:\n",
    "\n",
    " What RNNs are and how they work\n",
    "\n",
    " What LSTM is, and why it works better on long sequences than a naive RNN\n",
    "\n",
    " How to use Keras RNN layers to process sequence data"
   ]
  },
  {
   "cell_type": "code",
   "execution_count": null,
   "metadata": {},
   "outputs": [],
   "source": []
  },
  {
   "cell_type": "markdown",
   "metadata": {},
   "source": [
    "# Using the GRU layer in Keras\n",
    "In book example we talked about GRU (Gated Recurrent Unit) but didn't use it so lets try it on our own."
   ]
  },
  {
   "cell_type": "code",
   "execution_count": 5,
   "metadata": {},
   "outputs": [
    {
     "name": "stdout",
     "output_type": "stream",
     "text": [
      "Train on 20000 samples, validate on 5000 samples\n",
      "Epoch 1/10\n",
      "20000/20000 [==============================] - 10s 495us/sample - loss: 0.5574 - acc: 0.7202 - val_loss: 0.4369 - val_acc: 0.8000\n",
      "Epoch 2/10\n",
      "20000/20000 [==============================] - 8s 379us/sample - loss: 0.3127 - acc: 0.8722 - val_loss: 0.3457 - val_acc: 0.8514\n",
      "Epoch 3/10\n",
      "20000/20000 [==============================] - 8s 379us/sample - loss: 0.2575 - acc: 0.9000 - val_loss: 0.3181 - val_acc: 0.8628\n",
      "Epoch 4/10\n",
      "20000/20000 [==============================] - 8s 381us/sample - loss: 0.2228 - acc: 0.9139 - val_loss: 0.3442 - val_acc: 0.8584\n",
      "Epoch 5/10\n",
      "20000/20000 [==============================] - 8s 381us/sample - loss: 0.1933 - acc: 0.9287 - val_loss: 0.3461 - val_acc: 0.8692\n",
      "Epoch 6/10\n",
      "20000/20000 [==============================] - 8s 380us/sample - loss: 0.1822 - acc: 0.9346 - val_loss: 0.3363 - val_acc: 0.8638\n",
      "Epoch 7/10\n",
      "20000/20000 [==============================] - 8s 378us/sample - loss: 0.1668 - acc: 0.9418 - val_loss: 0.3905 - val_acc: 0.8680\n",
      "Epoch 8/10\n",
      "20000/20000 [==============================] - 8s 378us/sample - loss: 0.1509 - acc: 0.9467 - val_loss: 0.4636 - val_acc: 0.8528\n",
      "Epoch 9/10\n",
      "20000/20000 [==============================] - 8s 378us/sample - loss: 0.1422 - acc: 0.9481 - val_loss: 0.3394 - val_acc: 0.8750\n",
      "Epoch 10/10\n",
      "20000/20000 [==============================] - 8s 379us/sample - loss: 0.1307 - acc: 0.9544 - val_loss: 0.5764 - val_acc: 0.8454\n"
     ]
    }
   ],
   "source": [
    "from tensorflow.keras.models import Sequential\n",
    "from tensorflow.keras.layers import Embedding  #, SimpleRNN\n",
    "from tensorflow.keras.layers import Dense\n",
    "#from tensorflow.keras.layers import LSTM\n",
    "from tensorflow.keras.layers import GRU\n",
    "\n",
    "\n",
    "model = Sequential()\n",
    "model.add(Embedding(max_features, 32))\n",
    "model.add(GRU(32))\n",
    "model.add(Dense(1, activation='sigmoid'))\n",
    "\n",
    "model.compile(optimizer='rmsprop',\n",
    "                loss='binary_crossentropy',\n",
    "                metrics=['acc'])\n",
    "\n",
    "history = model.fit(input_train, y_train,\n",
    "                    epochs=10,\n",
    "                    batch_size=128,\n",
    "                    validation_split=0.2)"
   ]
  },
  {
   "cell_type": "code",
   "execution_count": 6,
   "metadata": {},
   "outputs": [
    {
     "data": {
      "image/png": "[encoded data removed]",
      "text/plain": [
       "<Figure size 432x288 with 1 Axes>"
      ]
     },
     "metadata": {
      "needs_background": "light"
     },
     "output_type": "display_data"
    },
    {
     "data": {
      "image/png": "[encoded data removed]",
      "text/plain": [
       "<Figure size 432x288 with 1 Axes>"
      ]
     },
     "metadata": {
      "needs_background": "light"
     },
     "output_type": "display_data"
    }
   ],
   "source": [
    "import matplotlib.pyplot as plt\n",
    "\n",
    "acc = history.history['acc']\n",
    "val_acc = history.history['val_acc']\n",
    "loss = history.history['loss']\n",
    "val_loss = history.history['val_loss']\n",
    "epochs = range(1, len(acc) + 1)\n",
    "plt.plot(epochs, acc, 'bo', label='Training acc')\n",
    "plt.plot(epochs, val_acc, 'b', label='Validation acc')\n",
    "plt.title('Training and validation accuracy')\n",
    "plt.legend()\n",
    "plt.figure()\n",
    "plt.plot(epochs, loss, 'bo', label='Training loss')\n",
    "plt.plot(epochs, val_loss, 'b', label='Validation loss')\n",
    "plt.title('Training and validation loss')\n",
    "plt.legend()\n",
    "plt.show()"
   ]
  },
  {
   "cell_type": "markdown",
   "metadata": {},
   "source": [
    "Here above GRU performed slightly less than LSTM but better than RNN\n",
    "\n",
    "# Information found on Stackoverflow\n",
    "\n",
    "GRU is related to LSTM as both are utilizing different way if gating information to prevent vanishing gradient problem. Here are some pin-points about GRU vs LSTM-\n",
    "\n",
    "The GRU controls the flow of information like the LSTM unit, but without having to use a memory unit. It just exposes the full hidden content without any control.\n",
    "\n",
    "GRU is relatively new, and from my perspective, the performance is on par with LSTM, but computationally more efficient (less complex structure as pointed out). So we are seeing it being used more and more.\n",
    "\n",
    "# To complement already great answers above.\n",
    "\n",
    "From my experience, GRUs train faster and perform better than LSTMs on less training data if you are doing language modeling (not sure about other tasks).\n",
    "\n",
    "GRUs are simpler and thus easier to modify, for example adding new gates in case of additional input to the network. It's just less code in general.\n",
    "\n",
    "LSTMs should in theory remember longer sequences than GRUs and outperform them in tasks requiring modeling long-distance relations."
   ]
  },
  {
   "cell_type": "code",
   "execution_count": null,
   "metadata": {},
   "outputs": [],
   "source": []
  }
 ],
 "metadata": {
  "kernelspec": {
   "display_name": "conda_gpu",
   "language": "python",
   "name": "conda_gpu"
  },
  "language_info": {
   "codemirror_mode": {
    "name": "ipython",
    "version": 3
   },
   "file_extension": ".py",
   "mimetype": "text/x-python",
   "name": "python",
   "nbconvert_exporter": "python",
   "pygments_lexer": "ipython3",
   "version": "3.7.7"
  }
 },
 "nbformat": 4,
 "nbformat_minor": 2
}
