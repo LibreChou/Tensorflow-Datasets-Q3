{
  "nbformat": 4,
  "nbformat_minor": 0,
  "metadata": {
    "colab": {
      "name": "1.jena_climate.ipynb",
      "provenance": [],
      "collapsed_sections": []
    },
    "kernelspec": {
      "name": "python3",
      "display_name": "Python 3"
    },
    "accelerator": "GPU"
  },
  "cells": [
    {
      "cell_type": "code",
      "metadata": {
        "id": "1Z_qtACv7yK9",
        "colab_type": "code",
        "colab": {
          "base_uri": "https://localhost:8080/",
          "height": 122
        },
        "outputId": "dcbc3728-4794-4fbb-c9d1-f581d6f29781"
      },
      "source": [
        "from google.colab import drive\n",
        "drive.mount('/content/drive')"
      ],
      "execution_count": 1,
      "outputs": [
        {
          "output_type": "stream",
          "text": [
            "Go to this URL in a browser: https://accounts.google.com/o/oauth2/auth?client_id=947318989803-6bn6qk8qdgf4n4g3pfee6491hc0brc4i.apps.googleusercontent.com&redirect_uri=urn%3aietf%3awg%3aoauth%3a2.0%3aoob&response_type=code&scope=email%20https%3a%2f%2fwww.googleapis.com%2fauth%2fdocs.test%20https%3a%2f%2fwww.googleapis.com%2fauth%2fdrive%20https%3a%2f%2fwww.googleapis.com%2fauth%2fdrive.photos.readonly%20https%3a%2f%2fwww.googleapis.com%2fauth%2fpeopleapi.readonly\n",
            "\n",
            "Enter your authorization code:\n",
            "··········\n",
            "Mounted at /content/drive\n"
          ],
          "name": "stdout"
        }
      ]
    },
    {
      "cell_type": "markdown",
      "metadata": {
        "id": "W1R7L4jgsKAT",
        "colab_type": "text"
      },
      "source": [
        "# New Section"
      ]
    },
    {
      "cell_type": "code",
      "metadata": {
        "id": "0ELWa7T3GOIe",
        "colab_type": "code",
        "colab": {
          "base_uri": "https://localhost:8080/",
          "height": 208
        },
        "outputId": "810a556d-8b37-489e-a554-59d45041487f"
      },
      "source": [
        "import os\n",
        "os.listdir(\"/content/drive/My Drive/ML and AI/Datasets\") # datasets save in my google drive"
      ],
      "execution_count": null,
      "outputs": [
        {
          "output_type": "execute_result",
          "data": {
            "text/plain": [
              "['cat vs dog',\n",
              " 'compresive_strength_concrete',\n",
              " 'Mnist_fashion_dataset',\n",
              " 'Boston Housing dataset',\n",
              " 'sonar dataset',\n",
              " 'Iris dataset',\n",
              " 'diabetes dataset',\n",
              " 'bbc dataset',\n",
              " 'IMDB dataset',\n",
              " 'jena_climate',\n",
              " 'Amazon_Reviews']"
            ]
          },
          "metadata": {
            "tags": []
          },
          "execution_count": 2
        }
      ]
    },
    {
      "cell_type": "markdown",
      "metadata": {
        "id": "ockIhaQ8BXOr",
        "colab_type": "text"
      },
      "source": [
        "Dr Noman Islam Video Lecture link :\n",
        "\n",
        "https://www.youtube.com/watch?v=-neSx9_5f6w&list=PLkvOxJFQW9RHc90a0atm9Ubxi7cZcNA9C&index=24"
      ]
    },
    {
      "cell_type": "markdown",
      "metadata": {
        "id": "85quDKeBBf_J",
        "colab_type": "text"
      },
      "source": [
        "# Advanced use of recurrent neural networks\n",
        "We’ll cover the following techniques:\n",
        "\n",
        " Recurrent dropout—This is a specific, built-in way to use dropout to fight overfitting in recurrent layers.\n",
        "\n",
        " Stacking recurrent layers—This increases the representational power of the network (at the cost of higher computational loads).\n",
        "\n",
        " Bidirectional recurrent layers—These present the same information to a recurrent\n",
        "network in different ways, increasing accuracy and mitigating forgetting issues"
      ]
    },
    {
      "cell_type": "markdown",
      "metadata": {
        "id": "OSnDCbbNBj5w",
        "colab_type": "text"
      },
      "source": [
        "# Download Weather data\n",
        "https://s3.amazonaws.com/keras-datasets/jena_climate_2009_2016.csv.zip\n",
        "    \n",
        "Until now we did language processing (IMDB) But sequence data is found in many more problems.\n",
        "\n",
        "jena_climate is a dataset,that were recorded every 10 minutes 2009–2016 in this case."
      ]
    },
    {
      "cell_type": "code",
      "metadata": {
        "id": "rXjfcf_4z4kq",
        "colab_type": "code",
        "colab": {
          "base_uri": "https://localhost:8080/",
          "height": 89
        },
        "outputId": "b01731fb-9ec0-40aa-c2e7-b025f0c7f3d5"
      },
      "source": [
        "# This cell is of book code\n",
        "# This can be done easily with less code\n",
        "# as i did in cell below \n",
        "\n",
        "import os\n",
        "\n",
        "data_dir = 'jena_climate'\n",
        "fname = os.path.join(data_dir, '/content/drive/My Drive/ML and AI/Datasets/jena_climate/jena_climate_2009_2016.csv')\n",
        "\n",
        "f = open(fname)\n",
        "data = f.read()\n",
        "f.close()\n",
        "\n",
        "lines = data.split('\\n')\n",
        "header = lines[0].split(',')\n",
        "lines = lines[1:]\n",
        "\n",
        "print(header)\n",
        "print()\n",
        "print(\"Length of dataset :\",len(lines))\n",
        "\n",
        "# Now, convert all 420,551 lines of data into a Numpy array\n",
        "\n",
        "import numpy as np\n",
        "float_data = np.zeros((len(lines), len(header) - 1))\n",
        "for i, line in enumerate(lines):\n",
        "    values = [float(x) for x in line.split(',')[1:]]\n",
        "    float_data[i, :] = values"
      ],
      "execution_count": null,
      "outputs": [
        {
          "output_type": "stream",
          "text": [
            "['\"Date Time\"', '\"p (mbar)\"', '\"T (degC)\"', '\"Tpot (K)\"', '\"Tdew (degC)\"', '\"rh (%)\"', '\"VPmax (mbar)\"', '\"VPact (mbar)\"', '\"VPdef (mbar)\"', '\"sh (g/kg)\"', '\"H2OC (mmol/mol)\"', '\"rho (g/m**3)\"', '\"wv (m/s)\"', '\"max. wv (m/s)\"', '\"wd (deg)\"']\n",
            "\n",
            "Length of dataset : 420551\n"
          ],
          "name": "stdout"
        }
      ]
    },
    {
      "cell_type": "code",
      "metadata": {
        "id": "q_ULt5pF8WOW",
        "colab_type": "code",
        "colab": {
          "base_uri": "https://localhost:8080/",
          "height": 345
        },
        "outputId": "772efa14-9259-421a-d2e6-c5697182a7fb"
      },
      "source": [
        "import pandas as pd\n",
        "import numpy as np\n",
        "\n",
        "df = pd.read_csv(\"/content/drive/My Drive/ML and AI/Datasets/jena_climate/jena_climate_2009_2016.csv\")\n",
        "print(\"Length of dataset :\",len(df))\n",
        "print()\n",
        "display(df.head())\n",
        "values = df.iloc[:,1:] # excluded date\n",
        "float_data = np.asarray(values) # converting in numpy array"
      ],
      "execution_count": null,
      "outputs": [
        {
          "output_type": "stream",
          "text": [
            "Length of dataset : 420551\n",
            "\n"
          ],
          "name": "stdout"
        },
        {
          "output_type": "display_data",
          "data": {
            "text/html": [
              "<div>\n",
              "<style scoped>\n",
              "    .dataframe tbody tr th:only-of-type {\n",
              "        vertical-align: middle;\n",
              "    }\n",
              "\n",
              "    .dataframe tbody tr th {\n",
              "        vertical-align: top;\n",
              "    }\n",
              "\n",
              "    .dataframe thead th {\n",
              "        text-align: right;\n",
              "    }\n",
              "</style>\n",
              "<table border=\"1\" class=\"dataframe\">\n",
              "  <thead>\n",
              "    <tr style=\"text-align: right;\">\n",
              "      <th></th>\n",
              "      <th>Date Time</th>\n",
              "      <th>p (mbar)</th>\n",
              "      <th>T (degC)</th>\n",
              "      <th>Tpot (K)</th>\n",
              "      <th>Tdew (degC)</th>\n",
              "      <th>rh (%)</th>\n",
              "      <th>VPmax (mbar)</th>\n",
              "      <th>VPact (mbar)</th>\n",
              "      <th>VPdef (mbar)</th>\n",
              "      <th>sh (g/kg)</th>\n",
              "      <th>H2OC (mmol/mol)</th>\n",
              "      <th>rho (g/m**3)</th>\n",
              "      <th>wv (m/s)</th>\n",
              "      <th>max. wv (m/s)</th>\n",
              "      <th>wd (deg)</th>\n",
              "    </tr>\n",
              "  </thead>\n",
              "  <tbody>\n",
              "    <tr>\n",
              "      <th>0</th>\n",
              "      <td>01.01.2009 00:10:00</td>\n",
              "      <td>996.52</td>\n",
              "      <td>-8.02</td>\n",
              "      <td>265.40</td>\n",
              "      <td>-8.90</td>\n",
              "      <td>93.3</td>\n",
              "      <td>3.33</td>\n",
              "      <td>3.11</td>\n",
              "      <td>0.22</td>\n",
              "      <td>1.94</td>\n",
              "      <td>3.12</td>\n",
              "      <td>1307.75</td>\n",
              "      <td>1.03</td>\n",
              "      <td>1.75</td>\n",
              "      <td>152.3</td>\n",
              "    </tr>\n",
              "    <tr>\n",
              "      <th>1</th>\n",
              "      <td>01.01.2009 00:20:00</td>\n",
              "      <td>996.57</td>\n",
              "      <td>-8.41</td>\n",
              "      <td>265.01</td>\n",
              "      <td>-9.28</td>\n",
              "      <td>93.4</td>\n",
              "      <td>3.23</td>\n",
              "      <td>3.02</td>\n",
              "      <td>0.21</td>\n",
              "      <td>1.89</td>\n",
              "      <td>3.03</td>\n",
              "      <td>1309.80</td>\n",
              "      <td>0.72</td>\n",
              "      <td>1.50</td>\n",
              "      <td>136.1</td>\n",
              "    </tr>\n",
              "    <tr>\n",
              "      <th>2</th>\n",
              "      <td>01.01.2009 00:30:00</td>\n",
              "      <td>996.53</td>\n",
              "      <td>-8.51</td>\n",
              "      <td>264.91</td>\n",
              "      <td>-9.31</td>\n",
              "      <td>93.9</td>\n",
              "      <td>3.21</td>\n",
              "      <td>3.01</td>\n",
              "      <td>0.20</td>\n",
              "      <td>1.88</td>\n",
              "      <td>3.02</td>\n",
              "      <td>1310.24</td>\n",
              "      <td>0.19</td>\n",
              "      <td>0.63</td>\n",
              "      <td>171.6</td>\n",
              "    </tr>\n",
              "    <tr>\n",
              "      <th>3</th>\n",
              "      <td>01.01.2009 00:40:00</td>\n",
              "      <td>996.51</td>\n",
              "      <td>-8.31</td>\n",
              "      <td>265.12</td>\n",
              "      <td>-9.07</td>\n",
              "      <td>94.2</td>\n",
              "      <td>3.26</td>\n",
              "      <td>3.07</td>\n",
              "      <td>0.19</td>\n",
              "      <td>1.92</td>\n",
              "      <td>3.08</td>\n",
              "      <td>1309.19</td>\n",
              "      <td>0.34</td>\n",
              "      <td>0.50</td>\n",
              "      <td>198.0</td>\n",
              "    </tr>\n",
              "    <tr>\n",
              "      <th>4</th>\n",
              "      <td>01.01.2009 00:50:00</td>\n",
              "      <td>996.51</td>\n",
              "      <td>-8.27</td>\n",
              "      <td>265.15</td>\n",
              "      <td>-9.04</td>\n",
              "      <td>94.1</td>\n",
              "      <td>3.27</td>\n",
              "      <td>3.08</td>\n",
              "      <td>0.19</td>\n",
              "      <td>1.92</td>\n",
              "      <td>3.09</td>\n",
              "      <td>1309.00</td>\n",
              "      <td>0.32</td>\n",
              "      <td>0.63</td>\n",
              "      <td>214.3</td>\n",
              "    </tr>\n",
              "  </tbody>\n",
              "</table>\n",
              "</div>"
            ],
            "text/plain": [
              "             Date Time  p (mbar)  T (degC)  ...  wv (m/s)  max. wv (m/s)  wd (deg)\n",
              "0  01.01.2009 00:10:00    996.52     -8.02  ...      1.03           1.75     152.3\n",
              "1  01.01.2009 00:20:00    996.57     -8.41  ...      0.72           1.50     136.1\n",
              "2  01.01.2009 00:30:00    996.53     -8.51  ...      0.19           0.63     171.6\n",
              "3  01.01.2009 00:40:00    996.51     -8.31  ...      0.34           0.50     198.0\n",
              "4  01.01.2009 00:50:00    996.51     -8.27  ...      0.32           0.63     214.3\n",
              "\n",
              "[5 rows x 15 columns]"
            ]
          },
          "metadata": {
            "tags": []
          }
        }
      ]
    },
    {
      "cell_type": "code",
      "metadata": {
        "id": "M939-3QmBy1I",
        "colab_type": "code",
        "colab": {
          "base_uri": "https://localhost:8080/",
          "height": 243
        },
        "outputId": "4c168f57-9ce6-41ae-b130-527fdd9dd490"
      },
      "source": [
        "float_data"
      ],
      "execution_count": null,
      "outputs": [
        {
          "output_type": "execute_result",
          "data": {
            "text/plain": [
              "array([[ 9.9652e+02, -8.0200e+00,  2.6540e+02, ...,  1.0300e+00,\n",
              "         1.7500e+00,  1.5230e+02],\n",
              "       [ 9.9657e+02, -8.4100e+00,  2.6501e+02, ...,  7.2000e-01,\n",
              "         1.5000e+00,  1.3610e+02],\n",
              "       [ 9.9653e+02, -8.5100e+00,  2.6491e+02, ...,  1.9000e-01,\n",
              "         6.3000e-01,  1.7160e+02],\n",
              "       ...,\n",
              "       [ 9.9982e+02, -3.1600e+00,  2.7001e+02, ...,  1.0800e+00,\n",
              "         2.0000e+00,  2.1520e+02],\n",
              "       [ 9.9981e+02, -4.2300e+00,  2.6894e+02, ...,  1.4900e+00,\n",
              "         2.1600e+00,  2.2580e+02],\n",
              "       [ 9.9982e+02, -4.8200e+00,  2.6836e+02, ...,  1.2300e+00,\n",
              "         1.9600e+00,  1.8490e+02]])"
            ]
          },
          "metadata": {
            "tags": []
          },
          "execution_count": 3
        }
      ]
    },
    {
      "cell_type": "markdown",
      "metadata": {
        "id": "7BWVIuT-CBf7",
        "colab_type": "text"
      },
      "source": [
        "# Plotting the temperature timeseries\n",
        "For instance, here is the plot of temperature (in degrees Celsius) over time. On this plot, you can clearly see the yearly periodicity of temperature."
      ]
    },
    {
      "cell_type": "code",
      "metadata": {
        "id": "t4X7GAfeB8TL",
        "colab_type": "code",
        "colab": {
          "base_uri": "https://localhost:8080/",
          "height": 282
        },
        "outputId": "20312598-e2e7-4119-cf52-2c23a0d6eb9a"
      },
      "source": [
        "from matplotlib import pyplot as plt\n",
        "temp = float_data[:, 1] #<1> temperature (in degrees Celsius)\n",
        "plt.plot(range(len(temp)), temp)"
      ],
      "execution_count": null,
      "outputs": [
        {
          "output_type": "execute_result",
          "data": {
            "text/plain": [
              "[<matplotlib.lines.Line2D at 0x7f6beb9d10b8>]"
            ]
          },
          "metadata": {
            "tags": []
          },
          "execution_count": 12
        },
        {
          "output_type": "display_data",
          "data": {
            "image/png": "[encoded data removed]",
            "text/plain": [
              "<Figure size 432x288 with 1 Axes>"
            ]
          },
          "metadata": {
            "tags": [],
            "needs_background": "light"
          }
        }
      ]
    },
    {
      "cell_type": "markdown",
      "metadata": {
        "id": "a05saUoaCHx3",
        "colab_type": "text"
      },
      "source": [
        "# Plotting the first 10 days of the temperature timeseries\n",
        "Here is a more narrow plot of the first 10 days of temperature data.\n",
        "Because the data is recorded every 10 minutes, you get 144 data points per day."
      ]
    },
    {
      "cell_type": "code",
      "metadata": {
        "id": "XEr-mBbUCDzz",
        "colab_type": "code",
        "colab": {
          "base_uri": "https://localhost:8080/",
          "height": 282
        },
        "outputId": "c2aa932a-17a5-4b50-a2a5-f25ccc19517e"
      },
      "source": [
        "plt.plot(range(1440), temp[:1440])"
      ],
      "execution_count": null,
      "outputs": [
        {
          "output_type": "execute_result",
          "data": {
            "text/plain": [
              "[<matplotlib.lines.Line2D at 0x7f548b402908>]"
            ]
          },
          "metadata": {
            "tags": []
          },
          "execution_count": 7
        },
        {
          "output_type": "display_data",
          "data": {
            "image/png": "[encoded data removed]",
            "text/plain": [
              "<Figure size 432x288 with 1 Axes>"
            ]
          },
          "metadata": {
            "tags": [],
            "needs_background": "light"
          }
        }
      ]
    },
    {
      "cell_type": "markdown",
      "metadata": {
        "id": "lLUwZJFsCLP4",
        "colab_type": "text"
      },
      "source": [
        "# Normalizing the data\n",
        "We are going to use the first 200,000 timesteps as training data"
      ]
    },
    {
      "cell_type": "code",
      "metadata": {
        "id": "R4ZXPPqbCKKJ",
        "colab_type": "code",
        "colab": {}
      },
      "source": [
        "mean = float_data[:200000].mean(axis=0)\n",
        "float_data -= mean\n",
        "std = float_data[:200000].std(axis=0)\n",
        "float_data /= std"
      ],
      "execution_count": null,
      "outputs": []
    },
    {
      "cell_type": "code",
      "metadata": {
        "id": "WtPs0Gyg8I7A",
        "colab_type": "code",
        "colab": {
          "base_uri": "https://localhost:8080/",
          "height": 282
        },
        "outputId": "bef1f568-1f9f-40b5-9965-7d653b65a057"
      },
      "source": [
        "# PLOT ranges of float_data from VALIDATION range\n",
        "import matplotlib.pyplot as plt\n",
        "\n",
        "Ulim = 202000\n",
        "Llim = 200000\n",
        "SamSize = Ulim - Llim\n",
        "\n",
        "plt.plot(range(SamSize), temp[Llim:Ulim], 'r')\n",
        "#plt.plot(range(SamSize), pBar[Llim:Ulim], 'g')\n",
        "#plt.plot(range(SamSize), rh[Llim:Ulim], 'b')"
      ],
      "execution_count": null,
      "outputs": [
        {
          "output_type": "execute_result",
          "data": {
            "text/plain": [
              "[<matplotlib.lines.Line2D at 0x7f6bef40c7b8>]"
            ]
          },
          "metadata": {
            "tags": []
          },
          "execution_count": 13
        },
        {
          "output_type": "display_data",
          "data": {
            "image/png": "[encoded data removed]",
            "text/plain": [
              "<Figure size 432x288 with 1 Axes>"
            ]
          },
          "metadata": {
            "tags": [],
            "needs_background": "light"
          }
        }
      ]
    },
    {
      "cell_type": "markdown",
      "metadata": {
        "id": "KMdo-ZA8CQmv",
        "colab_type": "text"
      },
      "source": [
        "# Generator yielding timeseries samples and their targets\n",
        "The data generator you’ll use. It yields a tuple (samples, targets),\n",
        "where samples is one batch of input data and targets is the corresponding array of\n",
        "target temperatures. It takes the following arguments:\n",
        "\n",
        "data—The original array of floating-point data, which you normalized.\n",
        "\n",
        " lookback—How many timesteps back the input data should go.\n",
        "\n",
        " delay—How many timesteps in the future the target should be.\n",
        "\n",
        " min_index and max_index—Indices in the data array that delimit which timesteps to draw from. This is useful for keeping a segment of the data for validation and another for testing.\n",
        "\n",
        " shuffle—Whether to shuffle the samples or draw them in chronological order.\n",
        "\n",
        " batch_size—The number of samples per batch.\n",
        "\n",
        " step—The period, in timesteps, at which you sample data. You’ll set it to 6 in\n",
        "order to draw one data point every hour."
      ]
    },
    {
      "cell_type": "markdown",
      "metadata": {
        "id": "sh_OqtracmrQ",
        "colab_type": "text"
      },
      "source": [
        ""
      ]
    },
    {
      "cell_type": "code",
      "metadata": {
        "id": "4P8uNzeKCOyv",
        "colab_type": "code",
        "colab": {}
      },
      "source": [
        "def generator(data, lookback, delay, min_index, max_index,shuffle=False, batch_size=128, step=6):\n",
        "    if max_index is None: #If max index is not specified, we will set it to very end of the data\n",
        "        max_index = len(data) - delay - 1 # 1 step peche kharehoke agay ka data pridict kara sakte hai\n",
        "    i = min_index + lookback # 0 se start nahe kersakte lookback kerna hai to utna agay se stat kerna parega\n",
        "    while 1:\n",
        "        if shuffle: \n",
        "            #Generate random rows\n",
        "            rows = np.random.randint(min_index + lookback, max_index, size=batch_size)\n",
        "        else:\n",
        "            if i + batch_size >= max_index: \n",
        "                i = min_index + lookback    # ager data khatam ho raha ho to yeah set kerdo\n",
        "            rows = np.arange(i, min(i + batch_size, max_index))\n",
        "            i += len(rows) # \n",
        "        samples = np.zeros((len(rows),lookback // step,data.shape[-1])) # past data\n",
        "        targets = np.zeros((len(rows),))\n",
        "        for j, row in enumerate(rows):\n",
        "            indices = range(rows[j] - lookback, rows[j], step)\n",
        "            samples[j] = data[indices]\n",
        "            targets[j] = data[rows[j] + delay][1]\n",
        "        yield samples, targets # sample pe lookback aur target mai delay ka bht sara data hai"
      ],
      "execution_count": null,
      "outputs": []
    },
    {
      "cell_type": "markdown",
      "metadata": {
        "id": "TF4qPKQwCV94",
        "colab_type": "text"
      },
      "source": [
        "# Preparing the training, validation, and test generators\n",
        "Now, let’s use the abstract generator function to instantiate three generators: one for\n",
        "training, one for validation, and one for testing. Each will look at different temporal\n",
        "segments of the original data:\n",
        "\n",
        "the training generator looks at the first 200,000 timesteps,\n",
        "\n",
        "the validation generator looks at the following 100,000,and\n",
        "\n",
        "the test generator looks at the remainder."
      ]
    },
    {
      "cell_type": "code",
      "metadata": {
        "id": "2I5oNdIFCS0w",
        "colab_type": "code",
        "colab": {}
      },
      "source": [
        "lookback = 1440   # 1440/6 = 240(samples) kitna past data dekhna hai\n",
        "step = 6          # 10 min bt ka data hai, 6 step matlab 60 min(1 hour) ke bt ka data lo\n",
        "delay = 144\n",
        "batch_size = 128  # kitne line uthane hai\n",
        "\n",
        "train_gen = generator(float_data,\n",
        "                        lookback=lookback,\n",
        "                        delay=delay,\n",
        "                        min_index=0,\n",
        "                        max_index=200000,\n",
        "                        shuffle=True,\n",
        "                        step=step,\n",
        "                        batch_size=batch_size)\n",
        "\n",
        "val_gen = generator(float_data,\n",
        "                    lookback=lookback,\n",
        "                    delay=delay,\n",
        "                    min_index=200001,\n",
        "                    max_index=300000,\n",
        "                    step=step,\n",
        "                    batch_size=batch_size)\n",
        "\n",
        "test_gen = generator(float_data,\n",
        "                    lookback=lookback,\n",
        "                    delay=delay,\n",
        "                    min_index=300001,\n",
        "                    max_index=None,\n",
        "                    step=step,\n",
        "                    batch_size=batch_size)\n",
        "\n",
        "val_steps = (300000 - 200001 - lookback) // batch_size # in book code batch size was not divided\n",
        "# How many steps to draw from val_gen in order to see the entire validation set\n",
        "\n",
        "test_steps = (len(float_data) - 300001 - lookback) // batch_size # in book code batch size was not divided\n",
        "# How many steps to draw from test_gen in order to see the entire test set "
      ],
      "execution_count": null,
      "outputs": []
    },
    {
      "cell_type": "code",
      "metadata": {
        "id": "m1Bo_WJ7CVI-",
        "colab_type": "code",
        "colab": {}
      },
      "source": [
        "################# Data is ready ######################"
      ],
      "execution_count": null,
      "outputs": []
    },
    {
      "cell_type": "markdown",
      "metadata": {
        "id": "c9mM8PaAhKJ8",
        "colab_type": "text"
      },
      "source": [
        "#A common-sense, non-machine-learning baseline\n",
        "Before you start using black-box deep-learning models to solve the temperature-\n",
        "prediction problem, let’s try a simple, common-sense approach."
      ]
    },
    {
      "cell_type": "code",
      "metadata": {
        "id": "yYAzacjNg1jM",
        "colab_type": "code",
        "colab": {
          "base_uri": "https://localhost:8080/",
          "height": 34
        },
        "outputId": "f45e46c4-878a-41d5-c80f-df930fe76c45"
      },
      "source": [
        "def evaluate_naive_method():\n",
        "    batch_maes = []\n",
        "    for step in range(val_steps):\n",
        "        samples, targets = next(val_gen)\n",
        "        #print(samples.shape)\n",
        "        #print(targets.shape)\n",
        "        preds = samples[:,-1,1]\n",
        "        mae = np.mean(np.abs(preds - targets))\n",
        "        batch_maes.append(mae)\n",
        "    print(np.mean(batch_maes))\n",
        "evaluate_naive_method()"
      ],
      "execution_count": null,
      "outputs": [
        {
          "output_type": "stream",
          "text": [
            "0.28973597299054815\n"
          ],
          "name": "stdout"
        }
      ]
    },
    {
      "cell_type": "markdown",
      "metadata": {
        "id": "IJ2RPVzihdXo",
        "colab_type": "text"
      },
      "source": [
        "This yields an MAE of 0.29. Because the temperature data has been normalized to be\n",
        "centered on 0 and have a standard deviation of 1, this number isn’t immediately inter-\n",
        "pretable. It translates to an average absolute error of 0.29 × temperature_std degrees\n",
        "Celsius: 2.57 ̊C."
      ]
    },
    {
      "cell_type": "code",
      "metadata": {
        "id": "lk5CZXlvg1rA",
        "colab_type": "code",
        "colab": {
          "base_uri": "https://localhost:8080/",
          "height": 34
        },
        "outputId": "43a9c8c3-a6f0-453f-8499-cfc2ad5d6e8f"
      },
      "source": [
        "celsius_mae = 0.3 * std[1]\n",
        "celsius_mae"
      ],
      "execution_count": null,
      "outputs": [
        {
          "output_type": "execute_result",
          "data": {
            "text/plain": [
              "2.65574972466139"
            ]
          },
          "metadata": {
            "tags": []
          },
          "execution_count": 13
        }
      ]
    },
    {
      "cell_type": "markdown",
      "metadata": {
        "id": "x3NrnqA7I9-o",
        "colab_type": "text"
      },
      "source": [
        "You use MAE as the loss.\n",
        "Because you evaluate on the exact same data and with the exact same metric you did\n",
        "with the common-sense approach, the results will be directly comparable."
      ]
    },
    {
      "cell_type": "code",
      "metadata": {
        "id": "fDRpikOPMB6A",
        "colab_type": "code",
        "colab": {
          "base_uri": "https://localhost:8080/",
          "height": 282
        },
        "outputId": "9404c55b-08ab-49ff-e856-73cba1ce7547"
      },
      "source": [
        "maeC = 0.28974\n",
        "Ulim = 202000\n",
        "Llim = 200000\n",
        "SampleSize = Ulim - Llim\n",
        "\n",
        "plt.plot(range(SampleSize), temp[Llim:Ulim], 'r')\n",
        "plt.plot(range(SampleSize), temp[Llim:Ulim]+maeC, 'b', linewidth=0.3)\n",
        "plt.plot(range(SampleSize), temp[Llim:Ulim]-maeC, 'b', linewidth=0.3)"
      ],
      "execution_count": null,
      "outputs": [
        {
          "output_type": "execute_result",
          "data": {
            "text/plain": [
              "[<matplotlib.lines.Line2D at 0x7f6bef388390>]"
            ]
          },
          "metadata": {
            "tags": []
          },
          "execution_count": 16
        },
        {
          "output_type": "display_data",
          "data": {
            "image/png": "[encoded data removed]",
            "text/plain": [
              "<Figure size 432x288 with 1 Axes>"
            ]
          },
          "metadata": {
            "tags": [],
            "needs_background": "light"
          }
        }
      ]
    },
    {
      "cell_type": "markdown",
      "metadata": {
        "id": "Nhp3bXC5hj78",
        "colab_type": "text"
      },
      "source": [
        "# A basic machine-learning approach"
      ]
    },
    {
      "cell_type": "code",
      "metadata": {
        "id": "2nIz3gzQg1uI",
        "colab_type": "code",
        "colab": {
          "base_uri": "https://localhost:8080/",
          "height": 260
        },
        "outputId": "9d60f064-3e68-4f3d-e824-f38f3505a07c"
      },
      "source": [
        "from tensorflow.keras.models import Sequential\n",
        "from tensorflow.keras.layers import Flatten,Dense\n",
        "from tensorflow.keras.optimizers import RMSprop\n",
        "\n",
        "model = Sequential()\n",
        "model.add(Flatten(input_shape=(lookback//step,float_data.shape[-1])))\n",
        "model.add(Dense(32, activation='relu'))\n",
        "model.add(Dense(1))\n",
        "\n",
        "model.compile(optimizer=RMSprop(),loss='mae')\n",
        "model.summary()"
      ],
      "execution_count": null,
      "outputs": [
        {
          "output_type": "stream",
          "text": [
            "Model: \"sequential\"\n",
            "_________________________________________________________________\n",
            "Layer (type)                 Output Shape              Param #   \n",
            "=================================================================\n",
            "flatten (Flatten)            (None, 3360)              0         \n",
            "_________________________________________________________________\n",
            "dense (Dense)                (None, 32)                107552    \n",
            "_________________________________________________________________\n",
            "dense_1 (Dense)              (None, 1)                 33        \n",
            "=================================================================\n",
            "Total params: 107,585\n",
            "Trainable params: 107,585\n",
            "Non-trainable params: 0\n",
            "_________________________________________________________________\n"
          ],
          "name": "stdout"
        }
      ]
    },
    {
      "cell_type": "code",
      "metadata": {
        "id": "oBo8w5mgg1vs",
        "colab_type": "code",
        "colab": {
          "base_uri": "https://localhost:8080/",
          "height": 784
        },
        "outputId": "48081e9f-a07f-4b3f-e0dc-bb302b96890b"
      },
      "source": [
        "history = model.fit_generator(train_gen,\n",
        "                              steps_per_epoch=500, #500\n",
        "                              epochs=20,           #20\n",
        "                              validation_data=val_gen,\n",
        "                              validation_steps=val_steps)"
      ],
      "execution_count": null,
      "outputs": [
        {
          "output_type": "stream",
          "text": [
            "WARNING:tensorflow:From <ipython-input-15-380c4945092a>:5: Model.fit_generator (from tensorflow.python.keras.engine.training) is deprecated and will be removed in a future version.\n",
            "Instructions for updating:\n",
            "Please use Model.fit, which supports generators.\n",
            "Epoch 1/20\n",
            "500/500 [==============================] - 11s 22ms/step - loss: 1.1411 - val_loss: 0.5559\n",
            "Epoch 2/20\n",
            "500/500 [==============================] - 11s 22ms/step - loss: 0.3971 - val_loss: 0.4205\n",
            "Epoch 3/20\n",
            "500/500 [==============================] - 11s 22ms/step - loss: 0.2914 - val_loss: 0.3167\n",
            "Epoch 4/20\n",
            "500/500 [==============================] - 11s 22ms/step - loss: 0.2666 - val_loss: 0.3767\n",
            "Epoch 5/20\n",
            "500/500 [==============================] - 11s 22ms/step - loss: 0.2533 - val_loss: 0.3210\n",
            "Epoch 6/20\n",
            "500/500 [==============================] - 11s 21ms/step - loss: 0.2432 - val_loss: 0.3190\n",
            "Epoch 7/20\n",
            "500/500 [==============================] - 11s 21ms/step - loss: 0.2407 - val_loss: 0.3147\n",
            "Epoch 8/20\n",
            "500/500 [==============================] - 11s 22ms/step - loss: 0.2332 - val_loss: 0.3187\n",
            "Epoch 9/20\n",
            "500/500 [==============================] - 11s 22ms/step - loss: 0.2286 - val_loss: 0.3101\n",
            "Epoch 10/20\n",
            "500/500 [==============================] - 11s 21ms/step - loss: 0.2250 - val_loss: 0.3432\n",
            "Epoch 11/20\n",
            "500/500 [==============================] - 11s 21ms/step - loss: 0.2207 - val_loss: 0.3222\n",
            "Epoch 12/20\n",
            "500/500 [==============================] - 11s 22ms/step - loss: 0.2167 - val_loss: 0.3244\n",
            "Epoch 13/20\n",
            "500/500 [==============================] - 11s 21ms/step - loss: 0.2152 - val_loss: 0.3500\n",
            "Epoch 14/20\n",
            "500/500 [==============================] - 11s 21ms/step - loss: 0.2121 - val_loss: 0.3335\n",
            "Epoch 15/20\n",
            "500/500 [==============================] - 11s 21ms/step - loss: 0.2107 - val_loss: 0.3360\n",
            "Epoch 16/20\n",
            "500/500 [==============================] - 11s 21ms/step - loss: 0.2097 - val_loss: 0.3351\n",
            "Epoch 17/20\n",
            "500/500 [==============================] - 11s 22ms/step - loss: 0.2073 - val_loss: 0.3347\n",
            "Epoch 18/20\n",
            "500/500 [==============================] - 11s 21ms/step - loss: 0.2058 - val_loss: 0.3337\n",
            "Epoch 19/20\n",
            "500/500 [==============================] - 11s 21ms/step - loss: 0.2038 - val_loss: 0.3416\n",
            "Epoch 20/20\n",
            "500/500 [==============================] - 11s 21ms/step - loss: 0.2011 - val_loss: 0.3268\n"
          ],
          "name": "stdout"
        }
      ]
    },
    {
      "cell_type": "code",
      "metadata": {
        "id": "DyZsp_xLg1y0",
        "colab_type": "code",
        "colab": {
          "base_uri": "https://localhost:8080/",
          "height": 281
        },
        "outputId": "98f52d95-051e-4086-c209-dc8b1228309c"
      },
      "source": [
        "import matplotlib.pyplot as plt\n",
        "loss = history.history['loss']\n",
        "val_loss = history.history['val_loss']\n",
        "epochs = range(1, len(loss) + 1)\n",
        "plt.figure()\n",
        "plt.plot(epochs, loss, 'bo', label='Training loss')\n",
        "plt.plot(epochs, val_loss, 'b', label='Validation loss')\n",
        "plt.title('Training and validation loss')\n",
        "plt.legend()\n",
        "plt.show()"
      ],
      "execution_count": null,
      "outputs": [
        {
          "output_type": "display_data",
          "data": {
            "image/png": "[encoded data removed]",
            "text/plain": [
              "<Figure size 432x288 with 1 Axes>"
            ]
          },
          "metadata": {
            "tags": [],
            "needs_background": "light"
          }
        }
      ]
    },
    {
      "cell_type": "code",
      "metadata": {
        "id": "cImaq6dpg15E",
        "colab_type": "code",
        "colab": {
          "base_uri": "https://localhost:8080/",
          "height": 320
        },
        "outputId": "7cfb698a-f728-46e5-cc8d-cf2174e3a07f"
      },
      "source": [
        "import matplotlib.pyplot as plt\n",
        "def show_all(history):\n",
        "    def show(history,acc,val_acc,label):\n",
        "        epochs = range(1, len(history.history[acc])+1)\n",
        "        plt.plot(epochs,history.history[acc],label='Training '+label)\n",
        "        plt.plot(epochs,history.history[val_acc],label='Validation '+label)\n",
        "        plt.legend()\n",
        "        \n",
        "    plt.figure(figsize=(15,5))\n",
        "    \n",
        "    #plt.subplot(121)\n",
        "    #show(history,'acc','val_acc','acc')\n",
        "    #plt.subplot(122)\n",
        "    show(history,'loss','val_loss','loss')\n",
        "show_all(history)"
      ],
      "execution_count": null,
      "outputs": [
        {
          "output_type": "display_data",
          "data": {
            "image/png": "[encoded data removed]",
            "text/plain": [
              "<Figure size 1080x360 with 1 Axes>"
            ]
          },
          "metadata": {
            "tags": [],
            "needs_background": "light"
          }
        }
      ]
    },
    {
      "cell_type": "markdown",
      "metadata": {
        "id": "5zfQooAuJnVg",
        "colab_type": "text"
      },
      "source": [
        "Some of the validation losses are close to the no-learning baseline, but not reliably.\n",
        "This goes to show the merit of having this baseline in the first place: it turns out to be\n",
        "not easy to outperform. Your common sense contains a lot of valuable information\n",
        "that a machine-learning model doesn’t have access to.\n"
      ]
    },
    {
      "cell_type": "markdown",
      "metadata": {
        "id": "al27XeMCiXD0",
        "colab_type": "text"
      },
      "source": [
        "#Training and evaluating a GRU-based model\n",
        "A first recurrent baseline\n",
        "\n",
        "Gated recurrent unit ( GRU ) layers work\n",
        "using the same principle as LSTM , but they’re somewhat streamlined and thus\n",
        "cheaper to run (although they may not have as much representational power as\n",
        "LSTM )."
      ]
    },
    {
      "cell_type": "code",
      "metadata": {
        "id": "Aa-ZkvX6g118",
        "colab_type": "code",
        "colab": {
          "base_uri": "https://localhost:8080/",
          "height": 225
        },
        "outputId": "df732b4a-2734-4c3f-f3e2-2eeeb3779c27"
      },
      "source": [
        "from tensorflow.keras.models import Sequential\n",
        "from tensorflow.keras import layers\n",
        "from tensorflow.keras.optimizers import RMSprop\n",
        "\n",
        "model = Sequential()\n",
        "model.add(layers.GRU(32, input_shape=(None, float_data.shape[-1])))\n",
        "model.add(layers.Dense(1))\n",
        "model.compile(optimizer=RMSprop(), loss='mae')\n",
        "model.summary()"
      ],
      "execution_count": null,
      "outputs": [
        {
          "output_type": "stream",
          "text": [
            "Model: \"sequential_1\"\n",
            "_________________________________________________________________\n",
            "Layer (type)                 Output Shape              Param #   \n",
            "=================================================================\n",
            "gru (GRU)                    (None, 32)                4608      \n",
            "_________________________________________________________________\n",
            "dense_2 (Dense)              (None, 1)                 33        \n",
            "=================================================================\n",
            "Total params: 4,641\n",
            "Trainable params: 4,641\n",
            "Non-trainable params: 0\n",
            "_________________________________________________________________\n"
          ],
          "name": "stdout"
        }
      ]
    },
    {
      "cell_type": "code",
      "metadata": {
        "id": "kYvYDEh9ikMc",
        "colab_type": "code",
        "colab": {
          "base_uri": "https://localhost:8080/",
          "height": 712
        },
        "outputId": "3c6f6b4e-03cb-46f9-a03c-e8f436ad5bd9"
      },
      "source": [
        "history = model.fit_generator(train_gen,\n",
        "                              steps_per_epoch=500, #500\n",
        "                              epochs=20,           #20\n",
        "                              validation_data=val_gen,\n",
        "                              validation_steps=val_steps)"
      ],
      "execution_count": null,
      "outputs": [
        {
          "output_type": "stream",
          "text": [
            "Epoch 1/20\n",
            "500/500 [==============================] - 15s 30ms/step - loss: 0.3062 - val_loss: 0.2813\n",
            "Epoch 2/20\n",
            "500/500 [==============================] - 14s 29ms/step - loss: 0.2855 - val_loss: 0.2674\n",
            "Epoch 3/20\n",
            "500/500 [==============================] - 14s 29ms/step - loss: 0.2789 - val_loss: 0.2664\n",
            "Epoch 4/20\n",
            "500/500 [==============================] - 15s 29ms/step - loss: 0.2744 - val_loss: 0.2646\n",
            "Epoch 5/20\n",
            "500/500 [==============================] - 15s 29ms/step - loss: 0.2718 - val_loss: 0.2616\n",
            "Epoch 6/20\n",
            "500/500 [==============================] - 15s 30ms/step - loss: 0.2668 - val_loss: 0.2671\n",
            "Epoch 7/20\n",
            "500/500 [==============================] - 15s 30ms/step - loss: 0.2636 - val_loss: 0.2626\n",
            "Epoch 8/20\n",
            "500/500 [==============================] - 15s 29ms/step - loss: 0.2601 - val_loss: 0.2632\n",
            "Epoch 9/20\n",
            "500/500 [==============================] - 15s 29ms/step - loss: 0.2560 - val_loss: 0.2697\n",
            "Epoch 10/20\n",
            "500/500 [==============================] - 15s 31ms/step - loss: 0.2524 - val_loss: 0.2665\n",
            "Epoch 11/20\n",
            "500/500 [==============================] - 15s 30ms/step - loss: 0.2451 - val_loss: 0.2684\n",
            "Epoch 12/20\n",
            "500/500 [==============================] - 15s 30ms/step - loss: 0.2405 - val_loss: 0.2742\n",
            "Epoch 13/20\n",
            "500/500 [==============================] - 15s 29ms/step - loss: 0.2370 - val_loss: 0.2783\n",
            "Epoch 14/20\n",
            "500/500 [==============================] - 15s 30ms/step - loss: 0.2333 - val_loss: 0.2843\n",
            "Epoch 15/20\n",
            "500/500 [==============================] - 15s 29ms/step - loss: 0.2300 - val_loss: 0.2888\n",
            "Epoch 16/20\n",
            "500/500 [==============================] - 18s 36ms/step - loss: 0.2270 - val_loss: 0.2855\n",
            "Epoch 17/20\n",
            "500/500 [==============================] - 15s 29ms/step - loss: 0.2242 - val_loss: 0.2881\n",
            "Epoch 18/20\n",
            "500/500 [==============================] - 15s 29ms/step - loss: 0.2209 - val_loss: 0.2957\n",
            "Epoch 19/20\n",
            "500/500 [==============================] - 14s 29ms/step - loss: 0.2184 - val_loss: 0.3011\n",
            "Epoch 20/20\n",
            "500/500 [==============================] - 15s 29ms/step - loss: 0.2144 - val_loss: 0.3017\n"
          ],
          "name": "stdout"
        }
      ]
    },
    {
      "cell_type": "code",
      "metadata": {
        "id": "bjpGDh2EikRI",
        "colab_type": "code",
        "colab": {
          "base_uri": "https://localhost:8080/",
          "height": 320
        },
        "outputId": "a18cb813-1909-4e77-dfe6-1534980501a1"
      },
      "source": [
        "show_all(history)"
      ],
      "execution_count": null,
      "outputs": [
        {
          "output_type": "display_data",
          "data": {
            "image/png": "[encoded data removed]",
            "text/plain": [
              "<Figure size 1080x360 with 1 Axes>"
            ]
          },
          "metadata": {
            "tags": [],
            "needs_background": "light"
          }
        }
      ]
    },
    {
      "cell_type": "markdown",
      "metadata": {
        "id": "VBbCEk6CKs8M",
        "colab_type": "text"
      },
      "source": [
        "Much better! You can significantly beat the common-\n",
        "sense baseline,compared to recurrent networks on this type\n",
        "of task."
      ]
    },
    {
      "cell_type": "markdown",
      "metadata": {
        "id": "DCD5BctQLBt4",
        "colab_type": "text"
      },
      "source": [
        "The new validation MAE of ~0.265 (before you start significantly overfitting) translates\n",
        "to a mean absolute error of 2.35 ̊C after denormalization. That’s a solid gain on the\n",
        "initial error of 2.57 ̊C, but you probably still have a bit of a margin for improvement."
      ]
    },
    {
      "cell_type": "markdown",
      "metadata": {
        "id": "rjtUiXyvjEB8",
        "colab_type": "text"
      },
      "source": [
        "# Using recurrent dropout to fight overfitting\n",
        "It’s evident from the training and validation curves that the model is overfitting.\n",
        "\n",
        "It has long been known that\n",
        "applying dropout before a recurrent layer hinders learning rather than helping with\n",
        "regularization.Thats why we will use recurrent dropout\n",
        "\n",
        "Every recurrent layer in Keras has two dropout-related\n",
        "arguments: dropout , a float specifying the dropout rate for input units of the layer,and recurrent_dropout,networks being regularized with dropout always take longer to fully con-\n",
        "verge, you’ll train the network for twice as many epochs.\n"
      ]
    },
    {
      "cell_type": "code",
      "metadata": {
        "id": "zitUGcBfikSs",
        "colab_type": "code",
        "colab": {
          "base_uri": "https://localhost:8080/",
          "height": 263
        },
        "outputId": "2473f676-a360-4023-eb0a-97fa4e93049f"
      },
      "source": [
        "from tensorflow.keras.models import Sequential\n",
        "from tensorflow.keras import layers\n",
        "from tensorflow.keras.optimizers import RMSprop\n",
        "\n",
        "model = Sequential()\n",
        "model.add(layers.GRU(32,dropout=0.2,recurrent_dropout=0.2,input_shape=(None, float_data.shape[-1])))\n",
        "model.add(layers.Dense(1))\n",
        "\n",
        "model.compile(optimizer=RMSprop(), loss='mae')\n",
        "model.summary()"
      ],
      "execution_count": null,
      "outputs": [
        {
          "output_type": "stream",
          "text": [
            "WARNING:tensorflow:Layer gru will not use cuDNN kernel since it doesn't meet the cuDNN kernel criteria. It will use generic GPU kernel as fallback when running on GPU\n",
            "Model: \"sequential\"\n",
            "_________________________________________________________________\n",
            "Layer (type)                 Output Shape              Param #   \n",
            "=================================================================\n",
            "gru (GRU)                    (None, 32)                4608      \n",
            "_________________________________________________________________\n",
            "dense (Dense)                (None, 1)                 33        \n",
            "=================================================================\n",
            "Total params: 4,641\n",
            "Trainable params: 4,641\n",
            "Non-trainable params: 0\n",
            "_________________________________________________________________\n"
          ],
          "name": "stdout"
        }
      ]
    },
    {
      "cell_type": "code",
      "metadata": {
        "id": "u2tDx79yikV0",
        "colab_type": "code",
        "colab": {
          "base_uri": "https://localhost:8080/",
          "height": 1000
        },
        "outputId": "420d2a80-c0e4-484e-c310-c7e7a3df6984"
      },
      "source": [
        "history = model.fit_generator(train_gen,\n",
        "                              steps_per_epoch=500,       #500\n",
        "                              epochs=40,                 #40\n",
        "                              validation_data=val_gen,\n",
        "                              validation_steps=val_steps)"
      ],
      "execution_count": null,
      "outputs": [
        {
          "output_type": "stream",
          "text": [
            "Epoch 1/40\n",
            "500/500 [==============================] - 283s 566ms/step - loss: 75350210443677663232.0000 - val_loss: 0.7727\n",
            "Epoch 2/40\n",
            "500/500 [==============================] - 280s 561ms/step - loss: 55375702378829537280.0000 - val_loss: 0.7925\n",
            "Epoch 3/40\n",
            "500/500 [==============================] - 288s 575ms/step - loss: 53969126703340453888.0000 - val_loss: 0.7894\n",
            "Epoch 4/40\n",
            "500/500 [==============================] - 284s 567ms/step - loss: 51714189459613622272.0000 - val_loss: 0.7989\n",
            "Epoch 5/40\n",
            "500/500 [==============================] - 278s 556ms/step - loss: 51647098569605079040.0000 - val_loss: 0.7728\n",
            "Epoch 6/40\n",
            "500/500 [==============================] - 281s 561ms/step - loss: 50531826216701100032.0000 - val_loss: 0.7848\n",
            "Epoch 7/40\n",
            "500/500 [==============================] - 282s 563ms/step - loss: 50587466477058138112.0000 - val_loss: 0.7752\n",
            "Epoch 8/40\n",
            "500/500 [==============================] - 280s 560ms/step - loss: 51411917871374467072.0000 - val_loss: 0.7936\n",
            "Epoch 9/40\n",
            "500/500 [==============================] - 289s 577ms/step - loss: 50713899160806424576.0000 - val_loss: 0.7789\n",
            "Epoch 10/40\n",
            "500/500 [==============================] - 284s 568ms/step - loss: 50530973896177967104.0000 - val_loss: 0.7710\n",
            "Epoch 11/40\n",
            "500/500 [==============================] - 287s 574ms/step - loss: 52595277631362064384.0000 - val_loss: 0.7888\n",
            "Epoch 12/40\n",
            "500/500 [==============================] - 281s 561ms/step - loss: 51002510647479533568.0000 - val_loss: 0.7751\n",
            "Epoch 13/40\n",
            "500/500 [==============================] - 278s 555ms/step - loss: 47318132397152337920.0000 - val_loss: 0.7874\n",
            "Epoch 14/40\n",
            "500/500 [==============================] - 279s 558ms/step - loss: 49473001837490544640.0000 - val_loss: 0.7828\n",
            "Epoch 15/40\n",
            "500/500 [==============================] - 278s 557ms/step - loss: 50864234155318730752.0000 - val_loss: 0.7734\n",
            "Epoch 16/40\n",
            "500/500 [==============================] - 274s 549ms/step - loss: 50235171317586173952.0000 - val_loss: 0.7768\n",
            "Epoch 17/40\n",
            "500/500 [==============================] - 282s 563ms/step - loss: 49853268854797869056.0000 - val_loss: 0.7816\n",
            "Epoch 18/40\n",
            "500/500 [==============================] - 276s 552ms/step - loss: 49779247794126741504.0000 - val_loss: 0.7622\n",
            "Epoch 19/40\n",
            "500/500 [==============================] - 279s 558ms/step - loss: 50097508381500973056.0000 - val_loss: 0.7708\n",
            "Epoch 20/40\n",
            "500/500 [==============================] - 278s 556ms/step - loss: 50435145661741744128.0000 - val_loss: 0.7817\n",
            "Epoch 21/40\n",
            "500/500 [==============================] - 283s 566ms/step - loss: 51793879139892920320.0000 - val_loss: 0.7708\n",
            "Epoch 22/40\n",
            "500/500 [==============================] - 289s 579ms/step - loss: 49262701792171819008.0000 - val_loss: 0.7854\n",
            "Epoch 23/40\n",
            "500/500 [==============================] - 291s 583ms/step - loss: 50659838506132848640.0000 - val_loss: 0.7767\n",
            "Epoch 24/40\n",
            "500/500 [==============================] - 285s 570ms/step - loss: 49114949505393180672.0000 - val_loss: 0.7763\n",
            "Epoch 25/40\n",
            "500/500 [==============================] - 284s 568ms/step - loss: 50725389577935446016.0000 - val_loss: 0.7554\n",
            "Epoch 26/40\n",
            "500/500 [==============================] - 289s 578ms/step - loss: 48691035584016367616.0000 - val_loss: 0.7745\n",
            "Epoch 27/40\n",
            "500/500 [==============================] - 294s 589ms/step - loss: 49840767928758566912.0000 - val_loss: 0.7751\n",
            "Epoch 28/40\n",
            "500/500 [==============================] - 295s 590ms/step - loss: 47618297892858716160.0000 - val_loss: 0.7673\n",
            "Epoch 29/40\n",
            "500/500 [==============================] - 295s 591ms/step - loss: 49035267568974282752.0000 - val_loss: 0.7863\n",
            "Epoch 30/40\n",
            "500/500 [==============================] - 301s 601ms/step - loss: 48382385527064100864.0000 - val_loss: 0.7640\n",
            "Epoch 31/40\n",
            "500/500 [==============================] - 298s 596ms/step - loss: 48794165915965693952.0000 - val_loss: 0.7741\n",
            "Epoch 32/40\n",
            "500/500 [==============================] - 300s 600ms/step - loss: 50193580370518245376.0000 - val_loss: 0.7634\n",
            "Epoch 33/40\n",
            "500/500 [==============================] - 300s 599ms/step - loss: 49918195446327083008.0000 - val_loss: 0.7839\n",
            "Epoch 34/40\n",
            "500/500 [==============================] - 301s 602ms/step - loss: 48435808511173058560.0000 - val_loss: 0.7790\n",
            "Epoch 35/40\n",
            "500/500 [==============================] - 301s 602ms/step - loss: 49571186091149123584.0000 - val_loss: 0.7828\n",
            "Epoch 36/40\n",
            "500/500 [==============================] - 295s 590ms/step - loss: 48525736120251555840.0000 - val_loss: 0.7675\n",
            "Epoch 37/40\n",
            "500/500 [==============================] - 296s 593ms/step - loss: 50942158888538005504.0000 - val_loss: 0.7767\n",
            "Epoch 38/40\n",
            "500/500 [==============================] - 284s 568ms/step - loss: 48009547133570449408.0000 - val_loss: 0.7975\n",
            "Epoch 39/40\n",
            "500/500 [==============================] - 284s 569ms/step - loss: 50329552596369522688.0000 - val_loss: 0.7723\n",
            "Epoch 40/40\n",
            "500/500 [==============================] - 292s 584ms/step - loss: 51043479788836126720.0000 - val_loss: 0.7675\n"
          ],
          "name": "stdout"
        }
      ]
    },
    {
      "cell_type": "code",
      "metadata": {
        "id": "VcY1R3TTikY8",
        "colab_type": "code",
        "colab": {
          "base_uri": "https://localhost:8080/",
          "height": 331
        },
        "outputId": "6efd4bcb-46ff-4114-92bd-46cbf0c6b5cf"
      },
      "source": [
        "show_all(history)"
      ],
      "execution_count": null,
      "outputs": [
        {
          "output_type": "display_data",
          "data": {
            "image/png": "[encoded data removed]",
            "text/plain": [
              "<Figure size 1080x360 with 1 Axes>"
            ]
          },
          "metadata": {
            "tags": [],
            "needs_background": "light"
          }
        }
      ]
    },
    {
      "cell_type": "markdown",
      "metadata": {
        "id": "X9BzR23-MOCQ",
        "colab_type": "text"
      },
      "source": [
        "You’re no longer overfitting during the first 30\n",
        "epochs. But although you have more stable evaluation scores, your best scores aren’t\n",
        "much lower than they were previously"
      ]
    },
    {
      "cell_type": "markdown",
      "metadata": {
        "id": "MSKoW7BajnYc",
        "colab_type": "text"
      },
      "source": [
        "# Training and evaluating a dropout-regularized, stacked GRU model\n",
        "Because you’re no longer overfitting but seem to have hit a performance bottleneck,\n",
        "you should consider increasing the capacity of the network."
      ]
    },
    {
      "cell_type": "markdown",
      "metadata": {
        "id": "dW9NuBA-MuNo",
        "colab_type": "text"
      },
      "source": [
        "Increasing network capacity is typically done by increasing the number of units in\n",
        "the layers or adding more layers. Recurrent layer stacking is a classic way to build\n",
        "more-powerful recurrent networks: for instance, what currently powers the Google\n",
        "Translate algorithm is a stack of seven large LSTM layers—that’s huge."
      ]
    },
    {
      "cell_type": "markdown",
      "metadata": {
        "id": "Ib0TCsvbMvYo",
        "colab_type": "text"
      },
      "source": [
        "To stack recurrent layers on top of each other in Keras, all intermediate layers\n",
        "should return their full sequence of outputs (a 3D tensor) rather than their output at\n",
        "the last timestep.\n",
        "\n",
        "This is done by specifying return_sequences=True"
      ]
    },
    {
      "cell_type": "code",
      "metadata": {
        "id": "Z-1Er1HVikdo",
        "colab_type": "code",
        "colab": {
          "base_uri": "https://localhost:8080/",
          "height": 72
        },
        "outputId": "9bc77899-5eae-4c47-faaa-b83a1470ed61"
      },
      "source": [
        "from tensorflow.keras.models import Sequential\n",
        "from tensorflow.keras import layers\n",
        "from tensorflow.keras.optimizers import RMSprop\n",
        "\n",
        "model = Sequential()\n",
        "model.add(layers.GRU(32,dropout=0.1,recurrent_dropout=0.5,return_sequences=True,input_shape=(None, float_data.shape[-1])))\n",
        "model.add(layers.GRU(64, activation='relu',dropout=0.1,recurrent_dropout=0.5))\n",
        "model.add(layers.Dense(1))\n",
        "\n",
        "model.compile(optimizer=RMSprop(), loss='mae')"
      ],
      "execution_count": null,
      "outputs": [
        {
          "output_type": "stream",
          "text": [
            "WARNING:tensorflow:Layer gru_1 will not use cuDNN kernel since it doesn't meet the cuDNN kernel criteria. It will use generic GPU kernel as fallback when running on GPU\n",
            "WARNING:tensorflow:Layer gru_2 will not use cuDNN kernel since it doesn't meet the cuDNN kernel criteria. It will use generic GPU kernel as fallback when running on GPU\n"
          ],
          "name": "stdout"
        }
      ]
    },
    {
      "cell_type": "code",
      "metadata": {
        "id": "UHJJT4OZikcE",
        "colab_type": "code",
        "colab": {
          "base_uri": "https://localhost:8080/",
          "height": 1000
        },
        "outputId": "d3d9516e-c728-429c-ae55-0d19e36fb29f"
      },
      "source": [
        "history = model.fit_generator(train_gen,\n",
        "                              steps_per_epoch=500,      #500\n",
        "                              epochs=40,               #40\n",
        "                              validation_data=val_gen,\n",
        "                              validation_steps=val_steps)"
      ],
      "execution_count": null,
      "outputs": [
        {
          "output_type": "stream",
          "text": [
            "WARNING:tensorflow:From <ipython-input-10-30eef2a2f90f>:5: Model.fit_generator (from tensorflow.python.keras.engine.training) is deprecated and will be removed in a future version.\n",
            "Instructions for updating:\n",
            "Please use Model.fit, which supports generators.\n",
            "Epoch 1/40\n",
            "500/500 [==============================] - 767s 2s/step - loss: 0.3193 - val_loss: 0.2810\n",
            "Epoch 2/40\n",
            "500/500 [==============================] - 769s 2s/step - loss: 0.2997 - val_loss: 0.2713\n",
            "Epoch 3/40\n",
            "500/500 [==============================] - 775s 2s/step - loss: 0.2933 - val_loss: 0.2691\n",
            "Epoch 4/40\n",
            "500/500 [==============================] - 777s 2s/step - loss: 0.2845 - val_loss: 0.2766\n",
            "Epoch 5/40\n",
            "500/500 [==============================] - 784s 2s/step - loss: 0.2789 - val_loss: 0.2782\n",
            "Epoch 6/40\n",
            "500/500 [==============================] - 775s 2s/step - loss: 0.2736 - val_loss: 0.2739\n",
            "Epoch 7/40\n",
            "500/500 [==============================] - 776s 2s/step - loss: 0.2682 - val_loss: 0.2708\n",
            "Epoch 8/40\n",
            "500/500 [==============================] - 775s 2s/step - loss: 0.2622 - val_loss: 0.2737\n",
            "Epoch 9/40\n",
            "500/500 [==============================] - 778s 2s/step - loss: 0.2587 - val_loss: 0.2800\n",
            "Epoch 10/40\n",
            "500/500 [==============================] - 778s 2s/step - loss: 0.2532 - val_loss: 0.2810\n",
            "Epoch 11/40\n",
            "500/500 [==============================] - 773s 2s/step - loss: 0.2496 - val_loss: 0.2909\n",
            "Epoch 12/40\n",
            "500/500 [==============================] - 757s 2s/step - loss: 0.2446 - val_loss: 0.2882\n",
            "Epoch 13/40\n",
            "500/500 [==============================] - 748s 1s/step - loss: 0.2405 - val_loss: 0.2985\n",
            "Epoch 14/40\n",
            "500/500 [==============================] - 763s 2s/step - loss: 0.2357 - val_loss: 0.3016\n",
            "Epoch 15/40\n",
            "500/500 [==============================] - 754s 2s/step - loss: 0.2316 - val_loss: 0.3119\n",
            "Epoch 16/40\n",
            "500/500 [==============================] - 743s 1s/step - loss: 0.2290 - val_loss: 0.3109\n",
            "Epoch 17/40\n",
            "500/500 [==============================] - 763s 2s/step - loss: 0.2259 - val_loss: 0.3095\n",
            "Epoch 18/40\n",
            "500/500 [==============================] - 768s 2s/step - loss: 0.2222 - val_loss: 0.3121\n",
            "Epoch 19/40\n",
            "500/500 [==============================] - 773s 2s/step - loss: 0.2195 - val_loss: 0.3240\n",
            "Epoch 20/40\n",
            "500/500 [==============================] - 773s 2s/step - loss: 0.2173 - val_loss: 0.3134\n",
            "Epoch 21/40\n",
            "500/500 [==============================] - 767s 2s/step - loss: 0.2142 - val_loss: 0.3219\n",
            "Epoch 22/40\n",
            "500/500 [==============================] - 768s 2s/step - loss: 0.2108 - val_loss: 0.3182\n",
            "Epoch 23/40\n",
            "500/500 [==============================] - 778s 2s/step - loss: 0.2090 - val_loss: 0.3215\n",
            "Epoch 24/40\n",
            "500/500 [==============================] - 781s 2s/step - loss: 0.2066 - val_loss: 0.3213\n",
            "Epoch 25/40\n",
            "500/500 [==============================] - 777s 2s/step - loss: 0.2049 - val_loss: 0.3264\n",
            "Epoch 26/40\n",
            "500/500 [==============================] - 780s 2s/step - loss: 0.2025 - val_loss: 0.3306\n",
            "Epoch 27/40\n",
            "500/500 [==============================] - 783s 2s/step - loss: 0.2014 - val_loss: 0.3297\n",
            "Epoch 28/40\n",
            "500/500 [==============================] - 783s 2s/step - loss: 0.1987 - val_loss: 0.3290\n",
            "Epoch 29/40\n",
            "500/500 [==============================] - 792s 2s/step - loss: 0.1970 - val_loss: 0.3327\n",
            "Epoch 30/40\n",
            "500/500 [==============================] - 804s 2s/step - loss: 0.1955 - val_loss: 0.3281\n",
            "Epoch 31/40\n",
            "500/500 [==============================] - 802s 2s/step - loss: 0.1942 - val_loss: 0.3297\n",
            "Epoch 32/40\n",
            "500/500 [==============================] - 791s 2s/step - loss: 0.1931 - val_loss: 0.3312\n",
            "Epoch 33/40\n",
            "500/500 [==============================] - 788s 2s/step - loss: 0.1920 - val_loss: 0.3279\n",
            "Epoch 34/40\n",
            "500/500 [==============================] - 786s 2s/step - loss: 0.1906 - val_loss: 0.3339\n",
            "Epoch 35/40\n",
            "500/500 [==============================] - 790s 2s/step - loss: 0.1889 - val_loss: 0.3330\n",
            "Epoch 36/40\n",
            "500/500 [==============================] - 792s 2s/step - loss: 0.1885 - val_loss: 0.3352\n",
            "Epoch 37/40\n",
            "500/500 [==============================] - 798s 2s/step - loss: 0.1862 - val_loss: 0.3305\n",
            "Epoch 38/40\n",
            "500/500 [==============================] - 797s 2s/step - loss: 0.1859 - val_loss: 0.3307\n",
            "Epoch 39/40\n",
            "500/500 [==============================] - 799s 2s/step - loss: 0.1833 - val_loss: 0.3335\n",
            "Epoch 40/40\n",
            "500/500 [==============================] - 791s 2s/step - loss: 0.1836 - val_loss: 0.3314\n"
          ],
          "name": "stdout"
        }
      ]
    },
    {
      "cell_type": "code",
      "metadata": {
        "id": "i1aVOAAENYWg",
        "colab_type": "code",
        "colab": {
          "base_uri": "https://localhost:8080/",
          "height": 320
        },
        "outputId": "f9c850f8-7386-40e9-afe4-2cbef19ff0a9"
      },
      "source": [
        "import matplotlib.pyplot as plt\n",
        "def show_all(history):\n",
        "    def show(history,acc,val_acc,label):\n",
        "        epochs = range(1, len(history.history[acc])+1)\n",
        "        plt.plot(epochs,history.history[acc],label='Training '+label)\n",
        "        plt.plot(epochs,history.history[val_acc],label='Validation '+label)\n",
        "        plt.legend()\n",
        "        \n",
        "    plt.figure(figsize=(15,5))\n",
        "    \n",
        "    #plt.subplot(121)\n",
        "    #show(history,'acc','val_acc','acc')\n",
        "    #plt.subplot(122)\n",
        "    show(history,'loss','val_loss','loss')\n",
        "show_all(history)"
      ],
      "execution_count": null,
      "outputs": [
        {
          "output_type": "display_data",
          "data": {
            "image/png": "[encoded data removed]",
            "text/plain": [
              "<Figure size 1080x360 with 1 Axes>"
            ]
          },
          "metadata": {
            "tags": [],
            "needs_background": "light"
          }
        }
      ]
    },
    {
      "cell_type": "code",
      "metadata": {
        "id": "3GyoKwhOmvZg",
        "colab_type": "code",
        "colab": {}
      },
      "source": [
        "# Saving model\n",
        "model.save('jena_climate_Stacked_Gru.h5')"
      ],
      "execution_count": null,
      "outputs": []
    },
    {
      "cell_type": "markdown",
      "metadata": {
        "id": "hMdNCjkwNnu4",
        "colab_type": "text"
      },
      "source": [
        "You can see that the added layer does improve the\n",
        "results a bit, though not significantly. You can draw two conclusions:\n",
        "\n",
        " Because you’re still not overfitting too badly, you could safely increase the size of\n",
        "your layers in a quest for validation-loss improvement. This has a non-negligible\n",
        "computational cost, though.\n",
        "\n",
        " Adding a layer didn’t help by a significant factor, so you may be seeing diminish-\n",
        "ing returns from increasing network capacity at this point."
      ]
    },
    {
      "cell_type": "markdown",
      "metadata": {
        "id": "7eFcfUe1kaCo",
        "colab_type": "text"
      },
      "source": [
        "# Using bidirectional RNNs\n",
        "All you need to\n",
        "do is write a variant of the data generator where the input sequences are reverted along\n",
        "the time dimension (replace the last line with yield samples[:, ::-1, :], targets ).\n",
        "Training the same one- GRU -layer network that you used in the first experiment in this\n",
        "section,"
      ]
    },
    {
      "cell_type": "markdown",
      "metadata": {
        "id": "7ubhtOdoN-Ek",
        "colab_type": "text"
      },
      "source": [
        "# Practice below is not done in Book"
      ]
    },
    {
      "cell_type": "code",
      "metadata": {
        "id": "M4GMt4kCkJ-g",
        "colab_type": "code",
        "colab": {}
      },
      "source": [
        "def generator(data, lookback, delay, min_index, max_index,shuffle=False, batch_size=128, step=6):\n",
        "    if max_index is None: #If max index is not specified, we will set it to very end of the data\n",
        "        max_index = len(data) - delay - 1 # 1 step peche kharehoke agay ka data pridict kara sakte hai\n",
        "    i = min_index + lookback # 0 se start nahe kersakte lookback kerna hai to utna agay se stat kerna parega\n",
        "    while 1:\n",
        "        if shuffle: \n",
        "            #Generate random rows\n",
        "            rows = np.random.randint(min_index + lookback, max_index, size=batch_size)\n",
        "        else:\n",
        "            if i + batch_size >= max_index: \n",
        "                i = min_index + lookback    # ager data khatam ho raha ho to yeah set kerdo\n",
        "            rows = np.arange(i, min(i + batch_size, max_index))\n",
        "            i += len(rows) # \n",
        "        samples = np.zeros((len(rows),lookback // step,data.shape[-1])) # past data\n",
        "        targets = np.zeros((len(rows),))\n",
        "        for j, row in enumerate(rows):\n",
        "            indices = range(rows[j] - lookback, rows[j], step)\n",
        "            samples[j] = data[indices]\n",
        "            targets[j] = data[rows[j] + delay][1]\n",
        "        yield samples[:, ::-1, :], targets        # only changed this line for reverce sequence\n",
        "        #yield samples, targets # sample pe lookback aur target mai delay ka bht sara data hai"
      ],
      "execution_count": null,
      "outputs": []
    },
    {
      "cell_type": "code",
      "metadata": {
        "id": "AQwoijCukKAE",
        "colab_type": "code",
        "colab": {
          "base_uri": "https://localhost:8080/",
          "height": 225
        },
        "outputId": "26d64381-d255-4a3a-cfc2-7f5c0a85af57"
      },
      "source": [
        "from tensorflow.keras.models import Sequential\n",
        "from tensorflow.keras import layers\n",
        "from tensorflow.keras.optimizers import RMSprop\n",
        "\n",
        "model = Sequential()\n",
        "model.add(layers.Bidirectional(layers.GRU(32), input_shape=(None, float_data.shape[-1]))) # changed this layer\n",
        "#model.add(layers.GRU(32, input_shape=(None, float_data.shape[-1])))\n",
        "model.add(layers.Dense(1))\n",
        "model.compile(optimizer=RMSprop(), loss='mae')\n",
        "model.summary()"
      ],
      "execution_count": null,
      "outputs": [
        {
          "output_type": "stream",
          "text": [
            "Model: \"sequential_2\"\n",
            "_________________________________________________________________\n",
            "Layer (type)                 Output Shape              Param #   \n",
            "=================================================================\n",
            "bidirectional (Bidirectional (None, 64)                9216      \n",
            "_________________________________________________________________\n",
            "dense_2 (Dense)              (None, 1)                 65        \n",
            "=================================================================\n",
            "Total params: 9,281\n",
            "Trainable params: 9,281\n",
            "Non-trainable params: 0\n",
            "_________________________________________________________________\n"
          ],
          "name": "stdout"
        }
      ]
    },
    {
      "cell_type": "code",
      "metadata": {
        "id": "UCd-kxW_mjqc",
        "colab_type": "code",
        "colab": {
          "base_uri": "https://localhost:8080/",
          "height": 712
        },
        "outputId": "a89ba9b2-511a-4a85-d225-c018833cb1b0"
      },
      "source": [
        "history = model.fit_generator(train_gen,\n",
        "                              steps_per_epoch=500, #500\n",
        "                              epochs=20,           #20\n",
        "                              validation_data=val_gen,\n",
        "                              validation_steps=val_steps)"
      ],
      "execution_count": null,
      "outputs": [
        {
          "output_type": "stream",
          "text": [
            "Epoch 1/20\n",
            "500/500 [==============================] - 22s 44ms/step - loss: 0.2913 - val_loss: 0.2741\n",
            "Epoch 2/20\n",
            "500/500 [==============================] - 21s 42ms/step - loss: 0.2748 - val_loss: 0.2658\n",
            "Epoch 3/20\n",
            "500/500 [==============================] - 21s 43ms/step - loss: 0.2689 - val_loss: 0.2673\n",
            "Epoch 4/20\n",
            "500/500 [==============================] - 21s 42ms/step - loss: 0.2624 - val_loss: 0.2645\n",
            "Epoch 5/20\n",
            "500/500 [==============================] - 21s 42ms/step - loss: 0.2571 - val_loss: 0.2682\n",
            "Epoch 6/20\n",
            "500/500 [==============================] - 21s 42ms/step - loss: 0.2501 - val_loss: 0.2693\n",
            "Epoch 7/20\n",
            "500/500 [==============================] - 21s 42ms/step - loss: 0.2461 - val_loss: 0.2686\n",
            "Epoch 8/20\n",
            "500/500 [==============================] - 21s 42ms/step - loss: 0.2394 - val_loss: 0.2718\n",
            "Epoch 9/20\n",
            "500/500 [==============================] - 21s 42ms/step - loss: 0.2343 - val_loss: 0.2785\n",
            "Epoch 10/20\n",
            "500/500 [==============================] - 21s 43ms/step - loss: 0.2273 - val_loss: 0.2790\n",
            "Epoch 11/20\n",
            "500/500 [==============================] - 21s 42ms/step - loss: 0.2210 - val_loss: 0.2867\n",
            "Epoch 12/20\n",
            "500/500 [==============================] - 21s 43ms/step - loss: 0.2159 - val_loss: 0.2901\n",
            "Epoch 13/20\n",
            "500/500 [==============================] - 21s 42ms/step - loss: 0.2109 - val_loss: 0.2979\n",
            "Epoch 14/20\n",
            "500/500 [==============================] - 21s 42ms/step - loss: 0.2059 - val_loss: 0.3016\n",
            "Epoch 15/20\n",
            "500/500 [==============================] - 21s 42ms/step - loss: 0.2003 - val_loss: 0.3083\n",
            "Epoch 16/20\n",
            "500/500 [==============================] - 21s 42ms/step - loss: 0.1954 - val_loss: 0.3100\n",
            "Epoch 17/20\n",
            "500/500 [==============================] - 21s 42ms/step - loss: 0.1890 - val_loss: 0.3114\n",
            "Epoch 18/20\n",
            "500/500 [==============================] - 21s 43ms/step - loss: 0.1856 - val_loss: 0.3147\n",
            "Epoch 19/20\n",
            "500/500 [==============================] - 21s 42ms/step - loss: 0.1820 - val_loss: 0.3177\n",
            "Epoch 20/20\n",
            "500/500 [==============================] - 21s 42ms/step - loss: 0.1769 - val_loss: 0.3203\n"
          ],
          "name": "stdout"
        }
      ]
    },
    {
      "cell_type": "markdown",
      "metadata": {
        "id": "-ieLUFx8OwUM",
        "colab_type": "text"
      },
      "source": [
        "The reversed-order GRU strongly underperforms even the common-sense baseline,\n",
        "indicating that in this case, chronological processing is important to the success of your\n",
        "approach. This makes perfect sense: the underlying GRU layer will typically be better at\n",
        "remembering the recent past than the distant past"
      ]
    },
    {
      "cell_type": "markdown",
      "metadata": {
        "id": "DKuvbAv6PCYc",
        "colab_type": "text"
      },
      "source": [
        "Importantly, this isn’t\n",
        "true for many other problems, including natural language(IMDB): intuitively, the importance\n",
        "of a word in understanding a sentence isn’t usually dependent on its position in the sen-\n",
        "tence."
      ]
    },
    {
      "cell_type": "code",
      "metadata": {
        "id": "RcmeAcXjv8lj",
        "colab_type": "code",
        "colab": {}
      },
      "source": [
        "######## Finish #################"
      ],
      "execution_count": null,
      "outputs": []
    },
    {
      "cell_type": "markdown",
      "metadata": {
        "id": "EcV4bDxHBTJI",
        "colab_type": "text"
      },
      "source": [
        "# We Saved a Model Above lets try to use that for Preediction"
      ]
    },
    {
      "cell_type": "code",
      "metadata": {
        "id": "54KV_SuTSBCA",
        "colab_type": "code",
        "colab": {
          "base_uri": "https://localhost:8080/",
          "height": 34
        },
        "outputId": "6fc3c039-0566-4a72-881f-91302344ab26"
      },
      "source": [
        "# files in current folders\n",
        "ls"
      ],
      "execution_count": null,
      "outputs": [
        {
          "output_type": "stream",
          "text": [
            "\u001b[0m\u001b[01;34mdrive\u001b[0m/  jena_climate_Stacked_Gru.h5  \u001b[01;34msample_data\u001b[0m/\n"
          ],
          "name": "stdout"
        }
      ]
    },
    {
      "cell_type": "code",
      "metadata": {
        "id": "1R9U43i9C4go",
        "colab_type": "code",
        "colab": {
          "base_uri": "https://localhost:8080/",
          "height": 173
        },
        "outputId": "50d1c59b-351d-421c-ce35-ac57d7d6cf95"
      },
      "source": [
        "# moving saved model in a folder\n",
        "import shutil\n",
        "shutil.move(\"jena_climate_Stacked_Gru.h5\", \"/content/drive/My Drive/ML and AI\")"
      ],
      "execution_count": null,
      "outputs": [
        {
          "output_type": "stream",
          "text": [
            "mkdir: cannot create directory ‘/content/drive/My’: Operation not supported\n",
            "mkdir: cannot create directory ‘Drive/ML’: No such file or directory\n",
            "mkdir: cannot create directory ‘and’: File exists\n",
            "mkdir: cannot create directory ‘AI/Models’: No such file or directory\n",
            "mkdir: cannot create directory ‘/content/drive/My’: Operation not supported\n",
            "mkdir: cannot create directory ‘Drive/ML’: No such file or directory\n",
            "mkdir: cannot create directory ‘and’: File exists\n",
            "mkdir: cannot create directory ‘AI/Models/Mymodels’: No such file or directory\n"
          ],
          "name": "stdout"
        },
        {
          "output_type": "execute_result",
          "data": {
            "text/plain": [
              "'/content/drive/My Drive/ML and AI/jena_climate_Stacked_Gru.h5'"
            ]
          },
          "metadata": {
            "tags": []
          },
          "execution_count": 21
        }
      ]
    },
    {
      "cell_type": "code",
      "metadata": {
        "id": "3AKl6_XgELXw",
        "colab_type": "code",
        "colab": {
          "base_uri": "https://localhost:8080/",
          "height": 34
        },
        "outputId": "371b91b0-a60f-4a61-a112-7804f46a5136"
      },
      "source": [
        "ls"
      ],
      "execution_count": null,
      "outputs": [
        {
          "output_type": "stream",
          "text": [
            "\u001b[0m\u001b[01;34mand\u001b[0m/  \u001b[01;34mdrive\u001b[0m/  \u001b[01;34msample_data\u001b[0m/\n"
          ],
          "name": "stdout"
        }
      ]
    },
    {
      "cell_type": "code",
      "metadata": {
        "id": "EFjond35Fr1M",
        "colab_type": "code",
        "colab": {
          "base_uri": "https://localhost:8080/",
          "height": 34
        },
        "outputId": "f34f4272-e689-402f-a507-c7e839d889ca"
      },
      "source": [
        "import os\n",
        "os.listdir(\"/content/drive/My Drive/ML and AI\")"
      ],
      "execution_count": null,
      "outputs": [
        {
          "output_type": "execute_result",
          "data": {
            "text/plain": [
              "['Datasets', 'pretrained word embeddings', 'jena_climate_Stacked_Gru.h5']"
            ]
          },
          "metadata": {
            "tags": []
          },
          "execution_count": 23
        }
      ]
    },
    {
      "cell_type": "code",
      "metadata": {
        "id": "oF1uo_Nkw8IY",
        "colab_type": "code",
        "colab": {
          "base_uri": "https://localhost:8080/",
          "height": 377
        },
        "outputId": "e7f23993-a013-4b49-9674-e66e12c47d02"
      },
      "source": [
        "# loading data again\n",
        "import pandas as pd\n",
        "import numpy as np\n",
        "\n",
        "df = pd.read_csv(\"/content/drive/My Drive/ML and AI/Datasets/jena_climate/jena_climate_2009_2016.csv\")\n",
        "print(\"Length of dataset :\",len(df))\n",
        "print()\n",
        "display(df.head())\n",
        "values = df.iloc[:,1:] # excluded date\n",
        "float_data = np.asarray(values) # converting in numpy array"
      ],
      "execution_count": 2,
      "outputs": [
        {
          "output_type": "stream",
          "text": [
            "Length of dataset : 420551\n",
            "\n"
          ],
          "name": "stdout"
        },
        {
          "output_type": "display_data",
          "data": {
            "text/html": [
              "<div>\n",
              "<style scoped>\n",
              "    .dataframe tbody tr th:only-of-type {\n",
              "        vertical-align: middle;\n",
              "    }\n",
              "\n",
              "    .dataframe tbody tr th {\n",
              "        vertical-align: top;\n",
              "    }\n",
              "\n",
              "    .dataframe thead th {\n",
              "        text-align: right;\n",
              "    }\n",
              "</style>\n",
              "<table border=\"1\" class=\"dataframe\">\n",
              "  <thead>\n",
              "    <tr style=\"text-align: right;\">\n",
              "      <th></th>\n",
              "      <th>Date Time</th>\n",
              "      <th>p (mbar)</th>\n",
              "      <th>T (degC)</th>\n",
              "      <th>Tpot (K)</th>\n",
              "      <th>Tdew (degC)</th>\n",
              "      <th>rh (%)</th>\n",
              "      <th>VPmax (mbar)</th>\n",
              "      <th>VPact (mbar)</th>\n",
              "      <th>VPdef (mbar)</th>\n",
              "      <th>sh (g/kg)</th>\n",
              "      <th>H2OC (mmol/mol)</th>\n",
              "      <th>rho (g/m**3)</th>\n",
              "      <th>wv (m/s)</th>\n",
              "      <th>max. wv (m/s)</th>\n",
              "      <th>wd (deg)</th>\n",
              "    </tr>\n",
              "  </thead>\n",
              "  <tbody>\n",
              "    <tr>\n",
              "      <th>0</th>\n",
              "      <td>01.01.2009 00:10:00</td>\n",
              "      <td>996.52</td>\n",
              "      <td>-8.02</td>\n",
              "      <td>265.40</td>\n",
              "      <td>-8.90</td>\n",
              "      <td>93.3</td>\n",
              "      <td>3.33</td>\n",
              "      <td>3.11</td>\n",
              "      <td>0.22</td>\n",
              "      <td>1.94</td>\n",
              "      <td>3.12</td>\n",
              "      <td>1307.75</td>\n",
              "      <td>1.03</td>\n",
              "      <td>1.75</td>\n",
              "      <td>152.3</td>\n",
              "    </tr>\n",
              "    <tr>\n",
              "      <th>1</th>\n",
              "      <td>01.01.2009 00:20:00</td>\n",
              "      <td>996.57</td>\n",
              "      <td>-8.41</td>\n",
              "      <td>265.01</td>\n",
              "      <td>-9.28</td>\n",
              "      <td>93.4</td>\n",
              "      <td>3.23</td>\n",
              "      <td>3.02</td>\n",
              "      <td>0.21</td>\n",
              "      <td>1.89</td>\n",
              "      <td>3.03</td>\n",
              "      <td>1309.80</td>\n",
              "      <td>0.72</td>\n",
              "      <td>1.50</td>\n",
              "      <td>136.1</td>\n",
              "    </tr>\n",
              "    <tr>\n",
              "      <th>2</th>\n",
              "      <td>01.01.2009 00:30:00</td>\n",
              "      <td>996.53</td>\n",
              "      <td>-8.51</td>\n",
              "      <td>264.91</td>\n",
              "      <td>-9.31</td>\n",
              "      <td>93.9</td>\n",
              "      <td>3.21</td>\n",
              "      <td>3.01</td>\n",
              "      <td>0.20</td>\n",
              "      <td>1.88</td>\n",
              "      <td>3.02</td>\n",
              "      <td>1310.24</td>\n",
              "      <td>0.19</td>\n",
              "      <td>0.63</td>\n",
              "      <td>171.6</td>\n",
              "    </tr>\n",
              "    <tr>\n",
              "      <th>3</th>\n",
              "      <td>01.01.2009 00:40:00</td>\n",
              "      <td>996.51</td>\n",
              "      <td>-8.31</td>\n",
              "      <td>265.12</td>\n",
              "      <td>-9.07</td>\n",
              "      <td>94.2</td>\n",
              "      <td>3.26</td>\n",
              "      <td>3.07</td>\n",
              "      <td>0.19</td>\n",
              "      <td>1.92</td>\n",
              "      <td>3.08</td>\n",
              "      <td>1309.19</td>\n",
              "      <td>0.34</td>\n",
              "      <td>0.50</td>\n",
              "      <td>198.0</td>\n",
              "    </tr>\n",
              "    <tr>\n",
              "      <th>4</th>\n",
              "      <td>01.01.2009 00:50:00</td>\n",
              "      <td>996.51</td>\n",
              "      <td>-8.27</td>\n",
              "      <td>265.15</td>\n",
              "      <td>-9.04</td>\n",
              "      <td>94.1</td>\n",
              "      <td>3.27</td>\n",
              "      <td>3.08</td>\n",
              "      <td>0.19</td>\n",
              "      <td>1.92</td>\n",
              "      <td>3.09</td>\n",
              "      <td>1309.00</td>\n",
              "      <td>0.32</td>\n",
              "      <td>0.63</td>\n",
              "      <td>214.3</td>\n",
              "    </tr>\n",
              "  </tbody>\n",
              "</table>\n",
              "</div>"
            ],
            "text/plain": [
              "             Date Time  p (mbar)  T (degC)  ...  wv (m/s)  max. wv (m/s)  wd (deg)\n",
              "0  01.01.2009 00:10:00    996.52     -8.02  ...      1.03           1.75     152.3\n",
              "1  01.01.2009 00:20:00    996.57     -8.41  ...      0.72           1.50     136.1\n",
              "2  01.01.2009 00:30:00    996.53     -8.51  ...      0.19           0.63     171.6\n",
              "3  01.01.2009 00:40:00    996.51     -8.31  ...      0.34           0.50     198.0\n",
              "4  01.01.2009 00:50:00    996.51     -8.27  ...      0.32           0.63     214.3\n",
              "\n",
              "[5 rows x 15 columns]"
            ]
          },
          "metadata": {
            "tags": []
          }
        }
      ]
    },
    {
      "cell_type": "code",
      "metadata": {
        "id": "p0AxmIxIyYit",
        "colab_type": "code",
        "colab": {}
      },
      "source": [
        "#normalizing data\n",
        "mean = float_data[:].mean(axis=0) # Before we normalize 200000 tarting\n",
        "float_data -= mean\n",
        "std = float_data[:].std(axis=0) # But now we are normalizing all\n",
        "float_data /= std"
      ],
      "execution_count": 3,
      "outputs": []
    },
    {
      "cell_type": "code",
      "metadata": {
        "id": "GMeHb4IpzCRj",
        "colab_type": "code",
        "colab": {}
      },
      "source": [
        "def generator(data, lookback, delay, min_index, max_index,shuffle=False, batch_size=128, step=6):\n",
        "    if max_index is None: #If max index is not specified, we will set it to very end of the data\n",
        "        max_index = len(data) - delay - 1 # 1 step peche kharehoke agay ka data pridict kara sakte hai\n",
        "    i = min_index + lookback # 0 se start nahe kersakte lookback kerna hai to utna agay se stat kerna parega\n",
        "    while 1:\n",
        "        if shuffle: \n",
        "            #Generate random rows\n",
        "            rows = np.random.randint(min_index + lookback, max_index, size=batch_size)\n",
        "        else:\n",
        "            if i + batch_size >= max_index: \n",
        "                i = min_index + lookback    # ager data khatam ho raha ho to yeah set kerdo\n",
        "            rows = np.arange(i, min(i + batch_size, max_index))\n",
        "            i += len(rows) # \n",
        "        samples = np.zeros((len(rows),lookback // step,data.shape[-1])) # past data\n",
        "        targets = np.zeros((len(rows),))\n",
        "        for j, row in enumerate(rows):\n",
        "            indices = range(rows[j] - lookback, rows[j], step)\n",
        "            samples[j] = data[indices]\n",
        "            targets[j] = data[rows[j] + delay][1]  ##The target is the second column in the data, which should be the '\"T (degC)\"'. So this model predicts the temperature in Celsius degree.\n",
        "        yield samples, targets # sample pe lookback aur target mai delay ka bht sara data hai"
      ],
      "execution_count": 4,
      "outputs": []
    },
    {
      "cell_type": "code",
      "metadata": {
        "id": "mXVG7Ud30GXm",
        "colab_type": "code",
        "colab": {}
      },
      "source": [
        "lookback = 1440   # 1440/6 = 240(samples) kitna past data dekhna hai\n",
        "step = 6          # 10 min bt ka data hai, 6 step matlab 60 min(1 hour) ke bt ka data lo\n",
        "delay = 144\n",
        "batch_size = 128  # kitne line uthane hai\n",
        "\n",
        "train_gen = generator(float_data,\n",
        "                        lookback=lookback,\n",
        "                        delay=delay,\n",
        "                        min_index=0,\n",
        "                        max_index=200000,\n",
        "                        shuffle=True,\n",
        "                        step=step,\n",
        "                        batch_size=batch_size)\n",
        "\n",
        "val_gen = generator(float_data,\n",
        "                    lookback=lookback,\n",
        "                    delay=delay,\n",
        "                    min_index=200001,\n",
        "                    max_index=300000,\n",
        "                    step=step,\n",
        "                    batch_size=batch_size)\n",
        "\n",
        "test_gen = generator(float_data,\n",
        "                    lookback=lookback,\n",
        "                    delay=delay,\n",
        "                    min_index=300001,\n",
        "                    max_index=None,\n",
        "                    step=step,\n",
        "                    batch_size=batch_size)\n",
        "\n",
        "val_steps = (300000 - 200001 - lookback) // batch_size # in book code batch size was not divided\n",
        "# How many steps to draw from val_gen in order to see the entire validation set\n",
        "\n",
        "test_steps = (len(float_data) - 300001 - lookback) // batch_size # in book code batch size was not divided\n",
        "# How many steps to draw from test_gen in order to see the entire test set "
      ],
      "execution_count": 8,
      "outputs": []
    },
    {
      "cell_type": "code",
      "metadata": {
        "id": "PcEPBmaS2Hq4",
        "colab_type": "code",
        "colab": {
          "base_uri": "https://localhost:8080/",
          "height": 105
        },
        "outputId": "e744237e-da34-4f14-e839-62b9d2eb14ef"
      },
      "source": [
        "# loading saved model\n",
        "\n",
        "from tensorflow.keras.models import load_model\n",
        "model = load_model('/content/drive/My Drive/ML and AI/jena_climate_Stacked_Gru.h5')\n",
        "print()\n",
        "print(\"model : jena_climate_Stacked_Gru.h5 was loaded\")"
      ],
      "execution_count": 5,
      "outputs": [
        {
          "output_type": "stream",
          "text": [
            "WARNING:tensorflow:Layer gru_1 will not use cuDNN kernel since it doesn't meet the cuDNN kernel criteria. It will use generic GPU kernel as fallback when running on GPU\n",
            "WARNING:tensorflow:Layer gru_2 will not use cuDNN kernel since it doesn't meet the cuDNN kernel criteria. It will use generic GPU kernel as fallback when running on GPU\n",
            "\n",
            "model : jena_climate_Stacked_Gru.h5 was loaded\n"
          ],
          "name": "stdout"
        }
      ]
    },
    {
      "cell_type": "code",
      "metadata": {
        "id": "2Mi9ojtx2gZ7",
        "colab_type": "code",
        "colab": {
          "base_uri": "https://localhost:8080/",
          "height": 272
        },
        "outputId": "f042127d-b7d0-48f1-a080-5eef4149bc5e"
      },
      "source": [
        "from tensorflow.keras.optimizers import RMSprop\n",
        "\n",
        "model.summary()\n",
        "model.compile(optimizer=RMSprop(), loss='mae')\n",
        "print(\"model compiled\")"
      ],
      "execution_count": 6,
      "outputs": [
        {
          "output_type": "stream",
          "text": [
            "Model: \"sequential_1\"\n",
            "_________________________________________________________________\n",
            "Layer (type)                 Output Shape              Param #   \n",
            "=================================================================\n",
            "gru_1 (GRU)                  (None, None, 32)          4608      \n",
            "_________________________________________________________________\n",
            "gru_2 (GRU)                  (None, 64)                18816     \n",
            "_________________________________________________________________\n",
            "dense_1 (Dense)              (None, 1)                 65        \n",
            "=================================================================\n",
            "Total params: 23,489\n",
            "Trainable params: 23,489\n",
            "Non-trainable params: 0\n",
            "_________________________________________________________________\n",
            "model compiled\n"
          ],
          "name": "stdout"
        }
      ]
    },
    {
      "cell_type": "code",
      "metadata": {
        "id": "EF2DRH2v2gdM",
        "colab_type": "code",
        "colab": {
          "base_uri": "https://localhost:8080/",
          "height": 122
        },
        "outputId": "8b26316b-0703-4217-d286-a548f8c24dc7"
      },
      "source": [
        "# PREDICT on ALL test data\n",
        "\n",
        "preds = model.predict_generator(test_gen, test_steps)\n",
        "print (type(preds))\n",
        "print(len(preds))"
      ],
      "execution_count": 9,
      "outputs": [
        {
          "output_type": "stream",
          "text": [
            "WARNING:tensorflow:From <ipython-input-9-56793d88cc8b>:3: Model.predict_generator (from tensorflow.python.keras.engine.training) is deprecated and will be removed in a future version.\n",
            "Instructions for updating:\n",
            "Please use Model.predict, which supports generators.\n",
            "<class 'numpy.ndarray'>\n",
            "119040\n"
          ],
          "name": "stdout"
        }
      ]
    },
    {
      "cell_type": "code",
      "metadata": {
        "id": "-U2-9x1e3Vhl",
        "colab_type": "code",
        "colab": {
          "base_uri": "https://localhost:8080/",
          "height": 299
        },
        "outputId": "7ef59b1b-ff49-4132-979d-45c4ed0e5b41"
      },
      "source": [
        "import matplotlib.pyplot as plt\n",
        "\n",
        "# Set the params for the charts\n",
        "lenPreds = len(preds)\n",
        "predTemp = preds[0:lenPreds,:]\n",
        "print(predTemp.shape)\n",
        "\n",
        "# CHART Predicted \n",
        "UlimPred = lenPreds\n",
        "#UlimPred = 10000\n",
        "LlimPred = 0\n",
        "SampleSizePred = UlimPred - LlimPred\n",
        "plt.plot(range(SampleSizePred), predTemp[LlimPred:UlimPred], 'b', linewidth=0.27)"
      ],
      "execution_count": 10,
      "outputs": [
        {
          "output_type": "stream",
          "text": [
            "(119040, 1)\n"
          ],
          "name": "stdout"
        },
        {
          "output_type": "execute_result",
          "data": {
            "text/plain": [
              "[<matplotlib.lines.Line2D at 0x7ff4ec6925c0>]"
            ]
          },
          "metadata": {
            "tags": []
          },
          "execution_count": 10
        },
        {
          "output_type": "display_data",
          "data": {
            "image/png": "[encoded data removed]",
            "text/plain": [
              "<Figure size 432x288 with 1 Axes>"
            ]
          },
          "metadata": {
            "tags": [],
            "needs_background": "light"
          }
        }
      ]
    },
    {
      "cell_type": "code",
      "metadata": {
        "id": "qm1WvQ4V3VfO",
        "colab_type": "code",
        "colab": {
          "base_uri": "https://localhost:8080/",
          "height": 282
        },
        "outputId": "ce7590bf-c579-4a2e-942c-7a8312a1e3ec"
      },
      "source": [
        "temp = float_data[:, 1] \n",
        "# Chart actual Test data \n",
        "# 420551 - 300k = 120551 samples\n",
        "# 120551 - 119040 preds = 1511 ... this is the starting point of the predictions on the test scale 300k-420551\n",
        "\n",
        "UlimReal = 420551\n",
        "#UlimReal = 311511\n",
        "LlimReal = 301511\n",
        "SampleSizeReal = UlimReal - LlimReal\n",
        "plt.plot(range(SampleSizeReal), temp[LlimReal:UlimReal], 'r', linewidth=0.27)"
      ],
      "execution_count": 11,
      "outputs": [
        {
          "output_type": "execute_result",
          "data": {
            "text/plain": [
              "[<matplotlib.lines.Line2D at 0x7ff4ec1d0b70>]"
            ]
          },
          "metadata": {
            "tags": []
          },
          "execution_count": 11
        },
        {
          "output_type": "display_data",
          "data": {
            "image/png": "[encoded data removed]",
            "text/plain": [
              "<Figure size 432x288 with 1 Axes>"
            ]
          },
          "metadata": {
            "tags": [],
            "needs_background": "light"
          }
        }
      ]
    },
    {
      "cell_type": "code",
      "metadata": {
        "id": "95RpEMs66xOy",
        "colab_type": "code",
        "colab": {
          "base_uri": "https://localhost:8080/",
          "height": 282
        },
        "outputId": "980d585c-d690-4528-a12b-e00289db2cf1"
      },
      "source": [
        "# Superimposed: model prediction (blue) vs reality (red)\n",
        "\n",
        "# Chart Test\n",
        "UlimReal = 420551\n",
        "#UlimReal = 311511\n",
        "LlimReal = 301511\n",
        "SampleSizeReal = UlimReal - LlimReal\n",
        "plt.plot(range(SampleSizeReal), temp[LlimReal:UlimReal], 'r', linewidth=0.27)\n",
        "\n",
        "# Chart Predicted \n",
        "UlimPred = lenPreds\n",
        "#UlimPred = 10000\n",
        "LlimPred = 0\n",
        "SampleSizePred = UlimPred - LlimPred\n",
        "plt.plot(range(SampleSizePred), predTemp[LlimPred:UlimPred], 'b', linewidth=0.27)"
      ],
      "execution_count": 12,
      "outputs": [
        {
          "output_type": "execute_result",
          "data": {
            "text/plain": [
              "[<matplotlib.lines.Line2D at 0x7ff4ec143470>]"
            ]
          },
          "metadata": {
            "tags": []
          },
          "execution_count": 12
        },
        {
          "output_type": "display_data",
          "data": {
            "image/png": "[encoded data removed]",
            "text/plain": [
              "<Figure size 432x288 with 1 Axes>"
            ]
          },
          "metadata": {
            "tags": [],
            "needs_background": "light"
          }
        }
      ]
    },
    {
      "cell_type": "code",
      "metadata": {
        "id": "qhNks5y5745h",
        "colab_type": "code",
        "colab": {}
      },
      "source": [
        ""
      ],
      "execution_count": null,
      "outputs": []
    }
  ]
}