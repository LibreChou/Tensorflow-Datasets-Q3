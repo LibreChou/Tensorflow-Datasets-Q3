{
  "nbformat": 4,
  "nbformat_minor": 0,
  "metadata": {
    "colab": {
      "name": "EMG_F.ipynb",
      "provenance": [],
      "collapsed_sections": []
    },
    "kernelspec": {
      "name": "python3",
      "display_name": "Python 3"
    },
    "accelerator": "GPU"
  },
  "cells": [
    {
      "cell_type": "markdown",
      "metadata": {
        "id": "7vANtJs1n92G"
      },
      "source": [
        "# EMG Signal for gesture recognition\n",
        "https://www.kaggle.com/sojanprajapati/emg-signal-for-gesture-recognition"
      ]
    },
    {
      "cell_type": "code",
      "metadata": {
        "id": "tzDMi_G3n-Hd"
      },
      "source": [
        "from google.colab import drive\n",
        "drive.mount('/content/drive')"
      ],
      "execution_count": null,
      "outputs": []
    },
    {
      "cell_type": "code",
      "metadata": {
        "id": "dcP0ePsyRblS",
        "outputId": "5f1d3966-9379-4281-a80f-b984b390b7c4",
        "colab": {
          "base_uri": "https://localhost:8080/"
        }
      },
      "source": [
        "import os\n",
        "os.listdir(\"/content/drive/My Drive/ML and AI/Datasets\") # datasets save in my google drive"
      ],
      "execution_count": 2,
      "outputs": [
        {
          "output_type": "execute_result",
          "data": {
            "text/plain": [
              "['cat vs dog',\n",
              " 'compresive_strength_concrete',\n",
              " 'Mnist_fashion_dataset',\n",
              " 'Boston Housing dataset',\n",
              " 'sonar dataset',\n",
              " 'Iris dataset',\n",
              " 'diabetes dataset',\n",
              " 'bbc dataset',\n",
              " 'IMDB dataset',\n",
              " 'jena_climate',\n",
              " 'Amazon_Reviews',\n",
              " 'EMG_Signal_for_gesture_recognition',\n",
              " 'Houses Dataset']"
            ]
          },
          "metadata": {
            "tags": []
          },
          "execution_count": 2
        }
      ]
    },
    {
      "cell_type": "code",
      "metadata": {
        "id": "LhFOScPZS5iR"
      },
      "source": [
        "import pandas as pd\n",
        "import tensorflow as tf\n",
        "import matplotlib.pyplot as plt\n",
        "import numpy as np"
      ],
      "execution_count": 3,
      "outputs": []
    },
    {
      "cell_type": "code",
      "metadata": {
        "id": "EkbB2qmXRdtr",
        "outputId": "076bcd19-0f15-4b1b-cef0-bb10df0b4076",
        "colab": {
          "base_uri": "https://localhost:8080/"
        }
      },
      "source": [
        "import pandas as pd\n",
        "Input_path = \"/content/drive/My Drive/ML and AI/Datasets/EMG_Signal_for_gesture_recognition/EMG-data.csv\"\n",
        "df = pd.read_csv(Input_path)\n",
        "print(df.head())\n",
        "print(df.shape)"
      ],
      "execution_count": 4,
      "outputs": [
        {
          "output_type": "stream",
          "text": [
            "   time  channel1  channel2  channel3  ...  channel7  channel8  class  label\n",
            "0     1   0.00001  -0.00002  -0.00001  ...   0.00000  -0.00001      0      1\n",
            "1     5   0.00001  -0.00002  -0.00001  ...   0.00000  -0.00001      0      1\n",
            "2     6  -0.00001   0.00001   0.00002  ...  -0.00001   0.00001      0      1\n",
            "3     7  -0.00001   0.00001   0.00002  ...  -0.00001   0.00001      0      1\n",
            "4     8  -0.00001   0.00001   0.00002  ...  -0.00001   0.00001      0      1\n",
            "\n",
            "[5 rows x 11 columns]\n",
            "(4237907, 11)\n"
          ],
          "name": "stdout"
        }
      ]
    },
    {
      "cell_type": "code",
      "metadata": {
        "id": "0EKLGPduSQ7F",
        "outputId": "04586f56-c508-4d5d-88d9-ab88b8b2b6c0",
        "colab": {
          "base_uri": "https://localhost:8080/"
        }
      },
      "source": [
        "print(\"class :\", df[\"class\"].unique())\n",
        "print()\n",
        "#print(\"Labels :\",df[\"label\"].unique()) # 36 people hand gesture data\n",
        "#print()\n",
        "print(\"Value Count :\\n\",df[\"class\"].value_counts())"
      ],
      "execution_count": 5,
      "outputs": [
        {
          "output_type": "stream",
          "text": [
            "class : [0 1 2 3 4 5 6 7]\n",
            "\n",
            "Value Count :\n",
            " 0    2725157\n",
            "6     253009\n",
            "5     251733\n",
            "4     251570\n",
            "1     250055\n",
            "3     249494\n",
            "2     243193\n",
            "7      13696\n",
            "Name: class, dtype: int64\n"
          ],
          "name": "stdout"
        }
      ]
    },
    {
      "cell_type": "code",
      "metadata": {
        "id": "2n0TlXtqSa2l",
        "outputId": "a412562a-5a6e-4aac-b658-c7ff245ad87a",
        "colab": {
          "base_uri": "https://localhost:8080/",
          "height": 206
        }
      },
      "source": [
        "features = df.drop(columns=[\"label\",\"class\",\"time\"])\n",
        "display(features.head())\n",
        "#print(features.shape())"
      ],
      "execution_count": 6,
      "outputs": [
        {
          "output_type": "display_data",
          "data": {
            "text/html": [
              "<div>\n",
              "<style scoped>\n",
              "    .dataframe tbody tr th:only-of-type {\n",
              "        vertical-align: middle;\n",
              "    }\n",
              "\n",
              "    .dataframe tbody tr th {\n",
              "        vertical-align: top;\n",
              "    }\n",
              "\n",
              "    .dataframe thead th {\n",
              "        text-align: right;\n",
              "    }\n",
              "</style>\n",
              "<table border=\"1\" class=\"dataframe\">\n",
              "  <thead>\n",
              "    <tr style=\"text-align: right;\">\n",
              "      <th></th>\n",
              "      <th>channel1</th>\n",
              "      <th>channel2</th>\n",
              "      <th>channel3</th>\n",
              "      <th>channel4</th>\n",
              "      <th>channel5</th>\n",
              "      <th>channel6</th>\n",
              "      <th>channel7</th>\n",
              "      <th>channel8</th>\n",
              "    </tr>\n",
              "  </thead>\n",
              "  <tbody>\n",
              "    <tr>\n",
              "      <th>0</th>\n",
              "      <td>0.00001</td>\n",
              "      <td>-0.00002</td>\n",
              "      <td>-0.00001</td>\n",
              "      <td>-0.00003</td>\n",
              "      <td>0.00000</td>\n",
              "      <td>-0.00001</td>\n",
              "      <td>0.00000</td>\n",
              "      <td>-0.00001</td>\n",
              "    </tr>\n",
              "    <tr>\n",
              "      <th>1</th>\n",
              "      <td>0.00001</td>\n",
              "      <td>-0.00002</td>\n",
              "      <td>-0.00001</td>\n",
              "      <td>-0.00003</td>\n",
              "      <td>0.00000</td>\n",
              "      <td>-0.00001</td>\n",
              "      <td>0.00000</td>\n",
              "      <td>-0.00001</td>\n",
              "    </tr>\n",
              "    <tr>\n",
              "      <th>2</th>\n",
              "      <td>-0.00001</td>\n",
              "      <td>0.00001</td>\n",
              "      <td>0.00002</td>\n",
              "      <td>0.00000</td>\n",
              "      <td>0.00001</td>\n",
              "      <td>-0.00002</td>\n",
              "      <td>-0.00001</td>\n",
              "      <td>0.00001</td>\n",
              "    </tr>\n",
              "    <tr>\n",
              "      <th>3</th>\n",
              "      <td>-0.00001</td>\n",
              "      <td>0.00001</td>\n",
              "      <td>0.00002</td>\n",
              "      <td>0.00000</td>\n",
              "      <td>0.00001</td>\n",
              "      <td>-0.00002</td>\n",
              "      <td>-0.00001</td>\n",
              "      <td>0.00001</td>\n",
              "    </tr>\n",
              "    <tr>\n",
              "      <th>4</th>\n",
              "      <td>-0.00001</td>\n",
              "      <td>0.00001</td>\n",
              "      <td>0.00002</td>\n",
              "      <td>0.00000</td>\n",
              "      <td>0.00001</td>\n",
              "      <td>-0.00002</td>\n",
              "      <td>-0.00001</td>\n",
              "      <td>0.00001</td>\n",
              "    </tr>\n",
              "  </tbody>\n",
              "</table>\n",
              "</div>"
            ],
            "text/plain": [
              "   channel1  channel2  channel3  ...  channel6  channel7  channel8\n",
              "0   0.00001  -0.00002  -0.00001  ...  -0.00001   0.00000  -0.00001\n",
              "1   0.00001  -0.00002  -0.00001  ...  -0.00001   0.00000  -0.00001\n",
              "2  -0.00001   0.00001   0.00002  ...  -0.00002  -0.00001   0.00001\n",
              "3  -0.00001   0.00001   0.00002  ...  -0.00002  -0.00001   0.00001\n",
              "4  -0.00001   0.00001   0.00002  ...  -0.00002  -0.00001   0.00001\n",
              "\n",
              "[5 rows x 8 columns]"
            ]
          },
          "metadata": {
            "tags": []
          }
        }
      ]
    },
    {
      "cell_type": "code",
      "metadata": {
        "id": "tLWCMkXASd_K",
        "outputId": "99bdadff-2551-43f4-fe93-5a6d2ee30dbb",
        "colab": {
          "base_uri": "https://localhost:8080/"
        }
      },
      "source": [
        "Class = df[\"class\"]\n",
        "print(Class.unique())\n",
        "#print(Class.shape())"
      ],
      "execution_count": 7,
      "outputs": [
        {
          "output_type": "stream",
          "text": [
            "[0 1 2 3 4 5 6 7]\n"
          ],
          "name": "stdout"
        }
      ]
    },
    {
      "cell_type": "code",
      "metadata": {
        "id": "nZM3B29xSl8s",
        "outputId": "62a2f6ac-0a6a-4d29-9da4-ee9aa24cd6d9",
        "colab": {
          "base_uri": "https://localhost:8080/"
        }
      },
      "source": [
        "print(type(Class))\n",
        "print(type(features))\n",
        "\n",
        "Class = Class.values\n",
        "features = features.values\n",
        "\n",
        "print(type(Class))\n",
        "print(type(features))"
      ],
      "execution_count": 8,
      "outputs": [
        {
          "output_type": "stream",
          "text": [
            "<class 'pandas.core.series.Series'>\n",
            "<class 'pandas.core.frame.DataFrame'>\n",
            "<class 'numpy.ndarray'>\n",
            "<class 'numpy.ndarray'>\n"
          ],
          "name": "stdout"
        }
      ]
    },
    {
      "cell_type": "code",
      "metadata": {
        "id": "MNT9FvwxSoGq"
      },
      "source": [
        "# split in training 80%, test 20% test \n",
        "from sklearn.model_selection import train_test_split\n",
        "\n",
        "x_train, x_test, y_train, y_test = train_test_split(features, Class, test_size=0.2, random_state=1)"
      ],
      "execution_count": 9,
      "outputs": []
    },
    {
      "cell_type": "code",
      "metadata": {
        "id": "kMAmEaHPSrSR"
      },
      "source": [
        "# Normalizing data\n",
        "mean = x_train.mean(axis=0)\n",
        "std = x_train.std(axis=0)\n",
        "\n",
        "x_train -= mean\n",
        "x_train /= std\n",
        "\n",
        "x_test -= mean\n",
        "x_test /= std"
      ],
      "execution_count": 10,
      "outputs": []
    },
    {
      "cell_type": "code",
      "metadata": {
        "id": "3WpOpN9CSwc6"
      },
      "source": [
        "# one hot encoding Labels\n",
        "y_train = tf.keras.utils.to_categorical(y_train)\n",
        "y_test = tf.keras.utils.to_categorical(y_test)"
      ],
      "execution_count": 11,
      "outputs": []
    },
    {
      "cell_type": "code",
      "metadata": {
        "id": "YqNtIiv0SxvD"
      },
      "source": [
        "# creating a function for plotting\n",
        "\n",
        "def plot(loss,val_loss,acc,val_acc):\n",
        "    loss = history.history['loss']\n",
        "    val_loss = history.history['val_loss']\n",
        "\n",
        "    epochs = range(1, len(loss) + 1)\n",
        "\n",
        "    plt.plot(epochs, loss, 'bo', label='Training loss')\n",
        "    plt.plot(epochs, val_loss, 'b', label='Validation loss')\n",
        "    plt.title('Training and validation loss')\n",
        "    plt.xlabel('Epochs')\n",
        "    plt.ylabel('Loss')\n",
        "    plt.legend()\n",
        "    plt.show()\n",
        "\n",
        "    acc = history.history['accuracy']\n",
        "    val_acc = history.history['val_accuracy']\n",
        "\n",
        "    epochs = range(1, len(acc) + 1)\n",
        "\n",
        "    plt.plot(epochs, acc, 'bo', label='Training acc')\n",
        "    plt.plot(epochs, val_acc, 'b', label='Validation acc')\n",
        "    plt.title('Training and validation acc')\n",
        "    plt.xlabel('Epochs')\n",
        "    plt.ylabel('acc')\n",
        "    plt.legend()\n",
        "    plt.show()"
      ],
      "execution_count": 12,
      "outputs": []
    },
    {
      "cell_type": "code",
      "metadata": {
        "id": "TtML1XBxjwHM"
      },
      "source": [
        "#################################"
      ],
      "execution_count": null,
      "outputs": []
    },
    {
      "cell_type": "code",
      "metadata": {
        "id": "whhF7VhOkUjV"
      },
      "source": [
        "from tensorflow.keras import layers, Sequential, optimizers, Input, Model\n",
        "\n",
        "input_tensor = Input(shape=(8,))\n",
        "x = layers.Dense(1024, activation='relu')(input_tensor)\n",
        "y = layers.Dense(512, activation='relu')(x)\n",
        "z = layers.Dense(256, activation='relu')(y)\n",
        "z = layers.Dense(128, activation='relu')(z)\n",
        "z = layers.Dense(64, activation='relu')(z)\n",
        "z = layers.Dense(32, activation='relu')(z)\n",
        "z = layers.Dense(128, activation='relu')(y) # acyclic graghs of layers\n",
        "z = layers.Dense(64, activation='relu')(z)\n",
        "z = layers.Dense(32, activation='relu')(z)\n",
        "output_tensor = layers.Dense(8, activation='softmax')(z)\n",
        "\n",
        "model = Model(input_tensor, output_tensor)\n",
        "\n",
        "#SGD #RMSprop #Adam #Adadelta #Adagrad ##Adamax ###Nadam #Ftrl\n",
        "opt = optimizers.Nadam(lr=1e-3)\n",
        "model.compile(optimizer = opt, \n",
        "              loss = \"categorical_crossentropy\",\n",
        "              metrics = [\"accuracy\"])\n",
        "\n",
        "#model.summary()"
      ],
      "execution_count": null,
      "outputs": []
    },
    {
      "cell_type": "code",
      "metadata": {
        "id": "UYxxVAP3k-Tz"
      },
      "source": [
        "# saving model, creating log for tensorboaed and applying few callbacks\n",
        "\n",
        "def callbacks(Log,Dir):\n",
        "  import tensorflow as tf\n",
        "  import os\n",
        "\n",
        "  Filepath = Path\n",
        "  logdir = os.path.join(Filepath, Dir)\n",
        "  \n",
        "  callbacks_list = [tf.keras.callbacks.TensorBoard(\n",
        "                    log_dir=logdir,                 #  tensorboard log path      \n",
        "                    histogram_freq=1,),\n",
        "                    tf.keras.callbacks.EarlyStopping(   # stop if not improving\n",
        "                    monitor='val_accuracy',patience=2,),           # monitor validation accuracy\n",
        "                    #tf.keras.callbacks.ReduceLROnPlateau(\n",
        "                    #monitor='val_loss',factor=0.1,         # lr ko .1 se multiply kerdo (kam kerdo)\n",
        "                    #patience=10,),                # reduce the lrate if val loss stop improving\n",
        "                    tf.keras.callbacks.ModelCheckpoint(\n",
        "                    filepath= Filepath,             # save model path\n",
        "                    monitor='val_loss',             # only save best weights\n",
        "                    save_best_only=True,)]\n",
        "  return callbacks_list"
      ],
      "execution_count": null,
      "outputs": []
    },
    {
      "cell_type": "code",
      "metadata": {
        "id": "D_bOgY4VjwPM",
        "outputId": "d336489d-3862-47ae-857f-fe39d0454669",
        "colab": {
          "base_uri": "https://localhost:8080/",
          "height": 1000
        }
      },
      "source": [
        "Path = \"model1\"\n",
        "Dir = \"my_log_dir\"   \n",
        "Call_B_Fun = callbacks(Path,Dir)\n",
        "\n",
        "batch_size = 512            \n",
        "epochs = 200                \n",
        "\n",
        "history = model.fit(x_train, y_train,\n",
        "                    batch_size=batch_size, epochs = epochs,\n",
        "                    validation_split = 0.2, callbacks=Call_B_Fun)\n",
        "\n",
        "loss = history.history['loss']\n",
        "val_loss = history.history['val_loss']\n",
        "acc = history.history['accuracy']\n",
        "val_acc = history.history['val_accuracy']\n",
        "plot(loss,val_loss,acc,val_acc)"
      ],
      "execution_count": null,
      "outputs": [
        {
          "output_type": "stream",
          "text": [
            "Epoch 1/200\n",
            "   1/5298 [..............................] - ETA: 0s - loss: 2.0781 - accuracy: 0.0312WARNING:tensorflow:From /usr/local/lib/python3.6/dist-packages/tensorflow/python/ops/summary_ops_v2.py:1277: stop (from tensorflow.python.eager.profiler) is deprecated and will be removed after 2020-07-01.\n",
            "Instructions for updating:\n",
            "use `tf.profiler.experimental.stop` instead.\n",
            "   2/5298 [..............................] - ETA: 3:42 - loss: 2.0452 - accuracy: 0.3213WARNING:tensorflow:Callbacks method `on_train_batch_end` is slow compared to the batch time (batch time: 0.0199s vs `on_train_batch_end` time: 0.0638s). Check your callbacks.\n",
            "5298/5298 [==============================] - ETA: 0s - loss: 0.9107 - accuracy: 0.6455WARNING:tensorflow:From /usr/local/lib/python3.6/dist-packages/tensorflow/python/training/tracking/tracking.py:111: Model.state_updates (from tensorflow.python.keras.engine.training) is deprecated and will be removed in a future version.\n",
            "Instructions for updating:\n",
            "This property should not be used in TensorFlow 2.0, as updates are applied automatically.\n",
            "WARNING:tensorflow:From /usr/local/lib/python3.6/dist-packages/tensorflow/python/training/tracking/tracking.py:111: Layer.updates (from tensorflow.python.keras.engine.base_layer) is deprecated and will be removed in a future version.\n",
            "Instructions for updating:\n",
            "This property should not be used in TensorFlow 2.0, as updates are applied automatically.\n",
            "INFO:tensorflow:Assets written to: model1/assets\n",
            "5298/5298 [==============================] - 28s 5ms/step - loss: 0.9107 - accuracy: 0.6455 - val_loss: 0.8852 - val_accuracy: 0.6493\n",
            "Epoch 2/200\n",
            "5290/5298 [============================>.] - ETA: 0s - loss: 0.8760 - accuracy: 0.6512INFO:tensorflow:Assets written to: model1/assets\n",
            "5298/5298 [==============================] - 28s 5ms/step - loss: 0.8759 - accuracy: 0.6512 - val_loss: 0.8689 - val_accuracy: 0.6550\n",
            "Epoch 3/200\n",
            "5290/5298 [============================>.] - ETA: 0s - loss: 0.8504 - accuracy: 0.6595INFO:tensorflow:Assets written to: model1/assets\n",
            "5298/5298 [==============================] - 28s 5ms/step - loss: 0.8504 - accuracy: 0.6595 - val_loss: 0.8416 - val_accuracy: 0.6625\n",
            "Epoch 4/200\n",
            "5295/5298 [============================>.] - ETA: 0s - loss: 0.8208 - accuracy: 0.6710INFO:tensorflow:Assets written to: model1/assets\n",
            "5298/5298 [==============================] - 28s 5ms/step - loss: 0.8208 - accuracy: 0.6710 - val_loss: 0.8131 - val_accuracy: 0.6755\n",
            "Epoch 5/200\n",
            "5290/5298 [============================>.] - ETA: 0s - loss: 0.7893 - accuracy: 0.6851INFO:tensorflow:Assets written to: model1/assets\n",
            "5298/5298 [==============================] - 28s 5ms/step - loss: 0.7893 - accuracy: 0.6850 - val_loss: 0.7841 - val_accuracy: 0.6896\n",
            "Epoch 6/200\n",
            "5298/5298 [==============================] - ETA: 0s - loss: 0.7580 - accuracy: 0.6995INFO:tensorflow:Assets written to: model1/assets\n",
            "5298/5298 [==============================] - 27s 5ms/step - loss: 0.7580 - accuracy: 0.6995 - val_loss: 0.7602 - val_accuracy: 0.7024\n",
            "Epoch 7/200\n",
            "5292/5298 [============================>.] - ETA: 0s - loss: 0.7292 - accuracy: 0.7133INFO:tensorflow:Assets written to: model1/assets\n",
            "5298/5298 [==============================] - 27s 5ms/step - loss: 0.7291 - accuracy: 0.7133 - val_loss: 0.7347 - val_accuracy: 0.7135\n",
            "Epoch 8/200\n",
            "5296/5298 [============================>.] - ETA: 0s - loss: 0.7021 - accuracy: 0.7263INFO:tensorflow:Assets written to: model1/assets\n",
            "5298/5298 [==============================] - 27s 5ms/step - loss: 0.7021 - accuracy: 0.7263 - val_loss: 0.7086 - val_accuracy: 0.7260\n",
            "Epoch 9/200\n",
            "5292/5298 [============================>.] - ETA: 0s - loss: 0.6775 - accuracy: 0.7380INFO:tensorflow:Assets written to: model1/assets\n",
            "5298/5298 [==============================] - 27s 5ms/step - loss: 0.6775 - accuracy: 0.7380 - val_loss: 0.6892 - val_accuracy: 0.7369\n",
            "Epoch 10/200\n",
            "5294/5298 [============================>.] - ETA: 0s - loss: 0.6544 - accuracy: 0.7492INFO:tensorflow:Assets written to: model1/assets\n",
            "5298/5298 [==============================] - 27s 5ms/step - loss: 0.6543 - accuracy: 0.7492 - val_loss: 0.6680 - val_accuracy: 0.7467\n",
            "Epoch 11/200\n",
            "5294/5298 [============================>.] - ETA: 0s - loss: 0.6334 - accuracy: 0.7587INFO:tensorflow:Assets written to: model1/assets\n",
            "5298/5298 [==============================] - 27s 5ms/step - loss: 0.6334 - accuracy: 0.7587 - val_loss: 0.6534 - val_accuracy: 0.7542\n",
            "Epoch 12/200\n",
            "5292/5298 [============================>.] - ETA: 0s - loss: 0.6141 - accuracy: 0.7675INFO:tensorflow:Assets written to: model1/assets\n",
            "5298/5298 [==============================] - 27s 5ms/step - loss: 0.6141 - accuracy: 0.7675 - val_loss: 0.6366 - val_accuracy: 0.7615\n",
            "Epoch 13/200\n",
            "5288/5298 [============================>.] - ETA: 0s - loss: 0.5959 - accuracy: 0.7760INFO:tensorflow:Assets written to: model1/assets\n",
            "5298/5298 [==============================] - 27s 5ms/step - loss: 0.5959 - accuracy: 0.7760 - val_loss: 0.6199 - val_accuracy: 0.7700\n",
            "Epoch 14/200\n",
            "5293/5298 [============================>.] - ETA: 0s - loss: 0.5797 - accuracy: 0.7831INFO:tensorflow:Assets written to: model1/assets\n",
            "5298/5298 [==============================] - 27s 5ms/step - loss: 0.5797 - accuracy: 0.7831 - val_loss: 0.6045 - val_accuracy: 0.7775\n",
            "Epoch 15/200\n",
            "5295/5298 [============================>.] - ETA: 0s - loss: 0.5643 - accuracy: 0.7901INFO:tensorflow:Assets written to: model1/assets\n",
            "5298/5298 [==============================] - 27s 5ms/step - loss: 0.5643 - accuracy: 0.7901 - val_loss: 0.5907 - val_accuracy: 0.7833\n",
            "Epoch 16/200\n",
            "5294/5298 [============================>.] - ETA: 0s - loss: 0.5505 - accuracy: 0.7963INFO:tensorflow:Assets written to: model1/assets\n",
            "5298/5298 [==============================] - 27s 5ms/step - loss: 0.5505 - accuracy: 0.7963 - val_loss: 0.5798 - val_accuracy: 0.7897\n",
            "Epoch 17/200\n",
            "5297/5298 [============================>.] - ETA: 0s - loss: 0.5371 - accuracy: 0.8022INFO:tensorflow:Assets written to: model1/assets\n",
            "5298/5298 [==============================] - 27s 5ms/step - loss: 0.5371 - accuracy: 0.8022 - val_loss: 0.5652 - val_accuracy: 0.7947\n",
            "Epoch 18/200\n",
            "5290/5298 [============================>.] - ETA: 0s - loss: 0.5247 - accuracy: 0.8077INFO:tensorflow:Assets written to: model1/assets\n",
            "5298/5298 [==============================] - 27s 5ms/step - loss: 0.5247 - accuracy: 0.8077 - val_loss: 0.5638 - val_accuracy: 0.7961\n",
            "Epoch 19/200\n",
            "5294/5298 [============================>.] - ETA: 0s - loss: 0.5133 - accuracy: 0.8127INFO:tensorflow:Assets written to: model1/assets\n",
            "5298/5298 [==============================] - 27s 5ms/step - loss: 0.5134 - accuracy: 0.8127 - val_loss: 0.5501 - val_accuracy: 0.8032\n",
            "Epoch 20/200\n",
            "5297/5298 [============================>.] - ETA: 0s - loss: 0.5026 - accuracy: 0.8172INFO:tensorflow:Assets written to: model1/assets\n",
            "5298/5298 [==============================] - 27s 5ms/step - loss: 0.5026 - accuracy: 0.8172 - val_loss: 0.5414 - val_accuracy: 0.8073\n",
            "Epoch 21/200\n",
            "5297/5298 [============================>.] - ETA: 0s - loss: 0.4923 - accuracy: 0.8217INFO:tensorflow:Assets written to: model1/assets\n",
            "5298/5298 [==============================] - 27s 5ms/step - loss: 0.4923 - accuracy: 0.8217 - val_loss: 0.5298 - val_accuracy: 0.8132\n",
            "Epoch 22/200\n",
            "5293/5298 [============================>.] - ETA: 0s - loss: 0.4826 - accuracy: 0.8259INFO:tensorflow:Assets written to: model1/assets\n",
            "5298/5298 [==============================] - 27s 5ms/step - loss: 0.4826 - accuracy: 0.8259 - val_loss: 0.5188 - val_accuracy: 0.8173\n",
            "Epoch 23/200\n",
            "5297/5298 [============================>.] - ETA: 0s - loss: 0.4739 - accuracy: 0.8293INFO:tensorflow:Assets written to: model1/assets\n",
            "5298/5298 [==============================] - 28s 5ms/step - loss: 0.4739 - accuracy: 0.8293 - val_loss: 0.5144 - val_accuracy: 0.8209\n",
            "Epoch 24/200\n",
            "5298/5298 [==============================] - 26s 5ms/step - loss: 0.4649 - accuracy: 0.8333 - val_loss: 0.5194 - val_accuracy: 0.8191\n",
            "Epoch 25/200\n",
            "5288/5298 [============================>.] - ETA: 0s - loss: 0.4574 - accuracy: 0.8363INFO:tensorflow:Assets written to: model1/assets\n",
            "5298/5298 [==============================] - 27s 5ms/step - loss: 0.4573 - accuracy: 0.8363 - val_loss: 0.4982 - val_accuracy: 0.8279\n",
            "Epoch 26/200\n",
            "5288/5298 [============================>.] - ETA: 0s - loss: 0.4490 - accuracy: 0.8401INFO:tensorflow:Assets written to: model1/assets\n",
            "5298/5298 [==============================] - 27s 5ms/step - loss: 0.4490 - accuracy: 0.8401 - val_loss: 0.4971 - val_accuracy: 0.8290\n",
            "Epoch 27/200\n",
            "5298/5298 [==============================] - ETA: 0s - loss: 0.4423 - accuracy: 0.8424INFO:tensorflow:Assets written to: model1/assets\n",
            "5298/5298 [==============================] - 27s 5ms/step - loss: 0.4423 - accuracy: 0.8424 - val_loss: 0.4900 - val_accuracy: 0.8321\n",
            "Epoch 28/200\n",
            "5296/5298 [============================>.] - ETA: 0s - loss: 0.4342 - accuracy: 0.8460INFO:tensorflow:Assets written to: model1/assets\n",
            "5298/5298 [==============================] - 27s 5ms/step - loss: 0.4342 - accuracy: 0.8460 - val_loss: 0.4831 - val_accuracy: 0.8359\n",
            "Epoch 29/200\n",
            "5288/5298 [============================>.] - ETA: 0s - loss: 0.4284 - accuracy: 0.8486INFO:tensorflow:Assets written to: model1/assets\n",
            "5298/5298 [==============================] - 27s 5ms/step - loss: 0.4284 - accuracy: 0.8485 - val_loss: 0.4787 - val_accuracy: 0.8378\n",
            "Epoch 30/200\n",
            "5297/5298 [============================>.] - ETA: 0s - loss: 0.4215 - accuracy: 0.8512INFO:tensorflow:Assets written to: model1/assets\n",
            "5298/5298 [==============================] - 27s 5ms/step - loss: 0.4215 - accuracy: 0.8512 - val_loss: 0.4774 - val_accuracy: 0.8381\n",
            "Epoch 31/200\n",
            "5291/5298 [============================>.] - ETA: 0s - loss: 0.4155 - accuracy: 0.8537INFO:tensorflow:Assets written to: model1/assets\n",
            "5298/5298 [==============================] - 27s 5ms/step - loss: 0.4155 - accuracy: 0.8537 - val_loss: 0.4651 - val_accuracy: 0.8435\n",
            "Epoch 32/200\n",
            "5292/5298 [============================>.] - ETA: 0s - loss: 0.4096 - accuracy: 0.8559INFO:tensorflow:Assets written to: model1/assets\n",
            "5298/5298 [==============================] - 27s 5ms/step - loss: 0.4096 - accuracy: 0.8559 - val_loss: 0.4606 - val_accuracy: 0.8463\n",
            "Epoch 33/200\n",
            "5298/5298 [==============================] - 27s 5ms/step - loss: 0.4035 - accuracy: 0.8587 - val_loss: 0.4622 - val_accuracy: 0.8451\n",
            "Epoch 34/200\n",
            "5291/5298 [============================>.] - ETA: 0s - loss: 0.3980 - accuracy: 0.8610INFO:tensorflow:Assets written to: model1/assets\n",
            "5298/5298 [==============================] - 28s 5ms/step - loss: 0.3981 - accuracy: 0.8610 - val_loss: 0.4519 - val_accuracy: 0.8500\n",
            "Epoch 35/200\n",
            "5294/5298 [============================>.] - ETA: 0s - loss: 0.3926 - accuracy: 0.8630INFO:tensorflow:Assets written to: model1/assets\n",
            "5298/5298 [==============================] - 28s 5ms/step - loss: 0.3926 - accuracy: 0.8630 - val_loss: 0.4518 - val_accuracy: 0.8491\n",
            "Epoch 36/200\n",
            "5297/5298 [============================>.] - ETA: 0s - loss: 0.3876 - accuracy: 0.8650INFO:tensorflow:Assets written to: model1/assets\n",
            "5298/5298 [==============================] - 27s 5ms/step - loss: 0.3876 - accuracy: 0.8650 - val_loss: 0.4464 - val_accuracy: 0.8533\n",
            "Epoch 37/200\n",
            "5291/5298 [============================>.] - ETA: 0s - loss: 0.3831 - accuracy: 0.8669INFO:tensorflow:Assets written to: model1/assets\n",
            "5298/5298 [==============================] - 27s 5ms/step - loss: 0.3832 - accuracy: 0.8669 - val_loss: 0.4406 - val_accuracy: 0.8561\n",
            "Epoch 38/200\n",
            "5297/5298 [============================>.] - ETA: 0s - loss: 0.3785 - accuracy: 0.8687INFO:tensorflow:Assets written to: model1/assets\n",
            "5298/5298 [==============================] - 27s 5ms/step - loss: 0.3785 - accuracy: 0.8687 - val_loss: 0.4368 - val_accuracy: 0.8578\n",
            "Epoch 39/200\n",
            "5294/5298 [============================>.] - ETA: 0s - loss: 0.3738 - accuracy: 0.8706INFO:tensorflow:Assets written to: model1/assets\n",
            "5298/5298 [==============================] - 27s 5ms/step - loss: 0.3738 - accuracy: 0.8706 - val_loss: 0.4326 - val_accuracy: 0.8588\n",
            "Epoch 40/200\n",
            "5298/5298 [==============================] - 27s 5ms/step - loss: 0.3696 - accuracy: 0.8724 - val_loss: 0.4368 - val_accuracy: 0.8587\n",
            "Epoch 41/200\n",
            "5298/5298 [==============================] - ETA: 0s - loss: 0.3654 - accuracy: 0.8740INFO:tensorflow:Assets written to: model1/assets\n",
            "5298/5298 [==============================] - 28s 5ms/step - loss: 0.3654 - accuracy: 0.8740 - val_loss: 0.4248 - val_accuracy: 0.8625\n",
            "Epoch 42/200\n",
            "5294/5298 [============================>.] - ETA: 0s - loss: 0.3608 - accuracy: 0.8758INFO:tensorflow:Assets written to: model1/assets\n",
            "5298/5298 [==============================] - 27s 5ms/step - loss: 0.3608 - accuracy: 0.8758 - val_loss: 0.4235 - val_accuracy: 0.8634\n",
            "Epoch 43/200\n",
            "5298/5298 [==============================] - 27s 5ms/step - loss: 0.3576 - accuracy: 0.8770 - val_loss: 0.4241 - val_accuracy: 0.8636\n",
            "Epoch 44/200\n",
            "5298/5298 [==============================] - ETA: 0s - loss: 0.3526 - accuracy: 0.8790INFO:tensorflow:Assets written to: model1/assets\n",
            "5298/5298 [==============================] - 28s 5ms/step - loss: 0.3526 - accuracy: 0.8790 - val_loss: 0.4166 - val_accuracy: 0.8670\n",
            "Epoch 45/200\n",
            "5298/5298 [==============================] - 27s 5ms/step - loss: 0.3497 - accuracy: 0.8805 - val_loss: 0.4172 - val_accuracy: 0.8674\n",
            "Epoch 46/200\n",
            "5293/5298 [============================>.] - ETA: 0s - loss: 0.3461 - accuracy: 0.8817INFO:tensorflow:Assets written to: model1/assets\n",
            "5298/5298 [==============================] - 28s 5ms/step - loss: 0.3461 - accuracy: 0.8817 - val_loss: 0.4082 - val_accuracy: 0.8715\n",
            "Epoch 47/200\n",
            "5291/5298 [============================>.] - ETA: 0s - loss: 0.3424 - accuracy: 0.8834INFO:tensorflow:Assets written to: model1/assets\n",
            "5298/5298 [==============================] - 28s 5ms/step - loss: 0.3424 - accuracy: 0.8834 - val_loss: 0.4081 - val_accuracy: 0.8725\n",
            "Epoch 48/200\n",
            "5298/5298 [==============================] - 27s 5ms/step - loss: 0.3394 - accuracy: 0.8843 - val_loss: 0.4172 - val_accuracy: 0.8685\n",
            "Epoch 49/200\n",
            "5294/5298 [============================>.] - ETA: 0s - loss: 0.3353 - accuracy: 0.8862INFO:tensorflow:Assets written to: model1/assets\n",
            "5298/5298 [==============================] - 27s 5ms/step - loss: 0.3353 - accuracy: 0.8862 - val_loss: 0.3986 - val_accuracy: 0.8750\n",
            "Epoch 50/200\n",
            "5298/5298 [==============================] - 27s 5ms/step - loss: 0.3323 - accuracy: 0.8872 - val_loss: 0.4008 - val_accuracy: 0.8752\n",
            "Epoch 51/200\n",
            "5298/5298 [==============================] - 27s 5ms/step - loss: 0.3296 - accuracy: 0.8882 - val_loss: 0.3995 - val_accuracy: 0.8764\n",
            "Epoch 52/200\n",
            "5297/5298 [============================>.] - ETA: 0s - loss: 0.3262 - accuracy: 0.8898INFO:tensorflow:Assets written to: model1/assets\n",
            "5298/5298 [==============================] - 27s 5ms/step - loss: 0.3262 - accuracy: 0.8898 - val_loss: 0.3959 - val_accuracy: 0.8786\n",
            "Epoch 53/200\n",
            "5297/5298 [============================>.] - ETA: 0s - loss: 0.3233 - accuracy: 0.8909INFO:tensorflow:Assets written to: model1/assets\n",
            "5298/5298 [==============================] - 28s 5ms/step - loss: 0.3233 - accuracy: 0.8909 - val_loss: 0.3924 - val_accuracy: 0.8798\n",
            "Epoch 54/200\n",
            "5297/5298 [============================>.] - ETA: 0s - loss: 0.3207 - accuracy: 0.8919INFO:tensorflow:Assets written to: model1/assets\n",
            "5298/5298 [==============================] - 28s 5ms/step - loss: 0.3207 - accuracy: 0.8919 - val_loss: 0.3897 - val_accuracy: 0.8805\n",
            "Epoch 55/200\n",
            "5297/5298 [============================>.] - ETA: 0s - loss: 0.3176 - accuracy: 0.8931INFO:tensorflow:Assets written to: model1/assets\n",
            "5298/5298 [==============================] - 28s 5ms/step - loss: 0.3176 - accuracy: 0.8931 - val_loss: 0.3875 - val_accuracy: 0.8824\n",
            "Epoch 56/200\n",
            "5295/5298 [============================>.] - ETA: 0s - loss: 0.3147 - accuracy: 0.8943INFO:tensorflow:Assets written to: model1/assets\n",
            "5298/5298 [==============================] - 27s 5ms/step - loss: 0.3147 - accuracy: 0.8943 - val_loss: 0.3874 - val_accuracy: 0.8826\n",
            "Epoch 57/200\n",
            "5298/5298 [==============================] - 28s 5ms/step - loss: 0.3126 - accuracy: 0.8951 - val_loss: 0.3888 - val_accuracy: 0.8818\n",
            "Epoch 58/200\n",
            "5292/5298 [============================>.] - ETA: 0s - loss: 0.3094 - accuracy: 0.8963INFO:tensorflow:Assets written to: model1/assets\n",
            "5298/5298 [==============================] - 28s 5ms/step - loss: 0.3095 - accuracy: 0.8963 - val_loss: 0.3865 - val_accuracy: 0.8837\n",
            "Epoch 59/200\n",
            "5289/5298 [============================>.] - ETA: 0s - loss: 0.3069 - accuracy: 0.8975INFO:tensorflow:Assets written to: model1/assets\n",
            "5298/5298 [==============================] - 28s 5ms/step - loss: 0.3069 - accuracy: 0.8975 - val_loss: 0.3780 - val_accuracy: 0.8870\n",
            "Epoch 60/200\n",
            "5290/5298 [============================>.] - ETA: 0s - loss: 0.3050 - accuracy: 0.8981INFO:tensorflow:Assets written to: model1/assets\n",
            "5298/5298 [==============================] - 28s 5ms/step - loss: 0.3050 - accuracy: 0.8981 - val_loss: 0.3756 - val_accuracy: 0.8878\n",
            "Epoch 61/200\n",
            "5298/5298 [==============================] - 27s 5ms/step - loss: 0.3024 - accuracy: 0.8993 - val_loss: 0.3778 - val_accuracy: 0.8873\n",
            "Epoch 62/200\n",
            "5298/5298 [==============================] - 27s 5ms/step - loss: 0.2999 - accuracy: 0.9001 - val_loss: 0.3882 - val_accuracy: 0.8837\n"
          ],
          "name": "stdout"
        },
        {
          "output_type": "display_data",
          "data": {
            "image/png": "[encoded data removed]",
            "text/plain": [
              "<Figure size 432x288 with 1 Axes>"
            ]
          },
          "metadata": {
            "tags": [],
            "needs_background": "light"
          }
        },
        {
          "output_type": "display_data",
          "data": {
            "image/png": "[encoded data removed]",
            "text/plain": [
              "<Figure size 432x288 with 1 Axes>"
            ]
          },
          "metadata": {
            "tags": [],
            "needs_background": "light"
          }
        }
      ]
    },
    {
      "cell_type": "code",
      "metadata": {
        "id": "R6uaEyPFjwSg"
      },
      "source": [
        "# saving our model\n",
        "model.save('model1/emg_1.h5')"
      ],
      "execution_count": null,
      "outputs": []
    },
    {
      "cell_type": "code",
      "metadata": {
        "id": "CDCBgOIjs8_m"
      },
      "source": [
        "#################"
      ],
      "execution_count": null,
      "outputs": []
    },
    {
      "cell_type": "code",
      "metadata": {
        "id": "IQSvDxmljwYb",
        "outputId": "38c295d5-5355-4380-871e-48f1a4c3142d",
        "colab": {
          "base_uri": "https://localhost:8080/",
          "height": 398
        }
      },
      "source": [
        "# loading saved model\n",
        "from tensorflow.keras.models import load_model\n",
        "emg = 'model1/emg_1.h5'\n",
        "emg_model = load_model(emg)\n",
        "#emg_model.summary()"
      ],
      "execution_count": null,
      "outputs": [
        {
          "output_type": "stream",
          "text": [
            "Model: \"functional_1\"\n",
            "_________________________________________________________________\n",
            "Layer (type)                 Output Shape              Param #   \n",
            "=================================================================\n",
            "input_1 (InputLayer)         [(None, 8)]               0         \n",
            "_________________________________________________________________\n",
            "dense (Dense)                (None, 1024)              9216      \n",
            "_________________________________________________________________\n",
            "dense_1 (Dense)              (None, 512)               524800    \n",
            "_________________________________________________________________\n",
            "dense_6 (Dense)              (None, 128)               65664     \n",
            "_________________________________________________________________\n",
            "dense_7 (Dense)              (None, 64)                8256      \n",
            "_________________________________________________________________\n",
            "dense_8 (Dense)              (None, 32)                2080      \n",
            "_________________________________________________________________\n",
            "dense_9 (Dense)              (None, 8)                 264       \n",
            "=================================================================\n",
            "Total params: 610,280\n",
            "Trainable params: 610,280\n",
            "Non-trainable params: 0\n",
            "_________________________________________________________________\n"
          ],
          "name": "stdout"
        }
      ]
    },
    {
      "cell_type": "code",
      "metadata": {
        "id": "Oya7H1NvvYjH",
        "outputId": "cbb86a39-0c93-4acc-eeb8-6a1f1af1a477",
        "colab": {
          "base_uri": "https://localhost:8080/",
          "height": 363
        }
      },
      "source": [
        "# Removing layers\n",
        "\n",
        "new_model = Model(emg_model.inputs, emg_model.layers[-2].output) # removing layers\n",
        "new_model.summary()\n",
        "# removed all layers except conv"
      ],
      "execution_count": null,
      "outputs": [
        {
          "output_type": "stream",
          "text": [
            "Model: \"functional_11\"\n",
            "_________________________________________________________________\n",
            "Layer (type)                 Output Shape              Param #   \n",
            "=================================================================\n",
            "input_1 (InputLayer)         [(None, 8)]               0         \n",
            "_________________________________________________________________\n",
            "dense (Dense)                (None, 1024)              9216      \n",
            "_________________________________________________________________\n",
            "dense_1 (Dense)              (None, 512)               524800    \n",
            "_________________________________________________________________\n",
            "dense_6 (Dense)              (None, 128)               65664     \n",
            "_________________________________________________________________\n",
            "dense_7 (Dense)              (None, 64)                8256      \n",
            "_________________________________________________________________\n",
            "dense_8 (Dense)              (None, 32)                2080      \n",
            "=================================================================\n",
            "Total params: 610,016\n",
            "Trainable params: 610,016\n",
            "Non-trainable params: 0\n",
            "_________________________________________________________________\n"
          ],
          "name": "stdout"
        }
      ]
    },
    {
      "cell_type": "code",
      "metadata": {
        "id": "6tprWYHNr7nQ",
        "outputId": "84c11a25-be80-4a89-aa2b-a8238342c60a",
        "colab": {
          "base_uri": "https://localhost:8080/",
          "height": 259
        }
      },
      "source": [
        "from tensorflow.keras import layers, optimizers, Input, Model\n",
        "\n",
        "input_tensor = Input(shape=(8,))\n",
        "x = new_model(input_tensor)       # this is our old model\n",
        "output_tensor = layers.Dense(8, activation='softmax')(x)\n",
        "\n",
        "model = Model(input_tensor, output_tensor)\n",
        "\n",
        "#SGD #RMSprop #Adam #Adadelta #Adagrad ##Adamax ###Nadam #Ftrl\n",
        "opt = optimizers.Nadam(lr=1e-3)\n",
        "model.compile(optimizer = opt, \n",
        "              loss = \"categorical_crossentropy\",\n",
        "              metrics = [\"accuracy\"])\n",
        "\n",
        "model.summary()"
      ],
      "execution_count": null,
      "outputs": [
        {
          "output_type": "stream",
          "text": [
            "Model: \"functional_13\"\n",
            "_________________________________________________________________\n",
            "Layer (type)                 Output Shape              Param #   \n",
            "=================================================================\n",
            "input_2 (InputLayer)         [(None, 8)]               0         \n",
            "_________________________________________________________________\n",
            "functional_11 (Functional)   (None, 32)                610016    \n",
            "_________________________________________________________________\n",
            "dense_10 (Dense)             (None, 8)                 264       \n",
            "=================================================================\n",
            "Total params: 610,280\n",
            "Trainable params: 610,280\n",
            "Non-trainable params: 0\n",
            "_________________________________________________________________\n"
          ],
          "name": "stdout"
        }
      ]
    },
    {
      "cell_type": "code",
      "metadata": {
        "id": "MilDJe_1vJ8p"
      },
      "source": [
        "def callbacks(Log,Dir):\n",
        "  import tensorflow as tf\n",
        "  import os\n",
        "\n",
        "  Filepath = Path\n",
        "  logdir = os.path.join(Filepath, Dir)\n",
        "  \n",
        "  callbacks_list = [tf.keras.callbacks.TensorBoard(\n",
        "                    log_dir=logdir,                 #  tensorboard log path      \n",
        "                    histogram_freq=1,),\n",
        "                    tf.keras.callbacks.EarlyStopping(   # stop if not improving\n",
        "                    monitor='val_loss',patience=2,),           # monitor validation loss\n",
        "                    tf.keras.callbacks.ReduceLROnPlateau(\n",
        "                    monitor='val_loss',factor=0.1,         # lr ko .1 se multiply kerdo (kam kerdo)\n",
        "                    patience=10,),                # reduce the lrate if val loss stop improving\n",
        "                    tf.keras.callbacks.ModelCheckpoint(\n",
        "                    filepath= Filepath,             # save model path\n",
        "                    monitor='val_loss',             # only save best weights\n",
        "                    save_best_only=True,)]\n",
        "  return callbacks_list"
      ],
      "execution_count": null,
      "outputs": []
    },
    {
      "cell_type": "code",
      "metadata": {
        "id": "JqzpvSCAv46r",
        "outputId": "9300bb8b-1532-489b-b2f5-2de62348a12e",
        "colab": {
          "base_uri": "https://localhost:8080/",
          "height": 1000
        }
      },
      "source": [
        "Path = \"model2\"\n",
        "Dir = \"my_log_dir\"   \n",
        "Call_B_Fun = callbacks(Path,Dir)\n",
        "\n",
        "batch_size = 512\n",
        "epochs = 200\n",
        "\n",
        "history = model.fit(x_train, y_train,\n",
        "                    batch_size=batch_size, epochs = epochs,\n",
        "                    validation_split = 0.2, callbacks=Call_B_Fun)\n",
        "\n",
        "loss = history.history['loss']\n",
        "val_loss = history.history['val_loss']\n",
        "acc = history.history['accuracy']\n",
        "val_acc = history.history['val_accuracy']\n",
        "plot(loss,val_loss,acc,val_acc)"
      ],
      "execution_count": null,
      "outputs": [
        {
          "output_type": "stream",
          "text": [
            "Epoch 1/200\n",
            "   2/5298 [..............................] - ETA: 3:35 - loss: 0.3995 - accuracy: 0.8535WARNING:tensorflow:Callbacks method `on_train_batch_end` is slow compared to the batch time (batch time: 0.0077s vs `on_train_batch_end` time: 0.0690s). Check your callbacks.\n",
            "5295/5298 [============================>.] - ETA: 0s - loss: 0.4029 - accuracy: 0.8537INFO:tensorflow:Assets written to: model2/assets\n",
            "5298/5298 [==============================] - 29s 5ms/step - loss: 0.4029 - accuracy: 0.8537 - val_loss: 0.4397 - val_accuracy: 0.8534\n",
            "Epoch 2/200\n",
            "5289/5298 [============================>.] - ETA: 0s - loss: 0.3586 - accuracy: 0.8739INFO:tensorflow:Assets written to: model2/assets\n",
            "5298/5298 [==============================] - 27s 5ms/step - loss: 0.3585 - accuracy: 0.8739 - val_loss: 0.4155 - val_accuracy: 0.8649\n",
            "Epoch 3/200\n",
            "5288/5298 [============================>.] - ETA: 0s - loss: 0.3416 - accuracy: 0.8814INFO:tensorflow:Assets written to: model2/assets\n",
            "5298/5298 [==============================] - 27s 5ms/step - loss: 0.3416 - accuracy: 0.8814 - val_loss: 0.4032 - val_accuracy: 0.8712\n",
            "Epoch 4/200\n",
            "5291/5298 [============================>.] - ETA: 0s - loss: 0.3281 - accuracy: 0.8872INFO:tensorflow:Assets written to: model2/assets\n",
            "5298/5298 [==============================] - 27s 5ms/step - loss: 0.3281 - accuracy: 0.8872 - val_loss: 0.3982 - val_accuracy: 0.8753\n",
            "Epoch 5/200\n",
            "5293/5298 [============================>.] - ETA: 0s - loss: 0.3184 - accuracy: 0.8915INFO:tensorflow:Assets written to: model2/assets\n",
            "5298/5298 [==============================] - 28s 5ms/step - loss: 0.3184 - accuracy: 0.8915 - val_loss: 0.3905 - val_accuracy: 0.8785\n",
            "Epoch 6/200\n",
            "5298/5298 [==============================] - 27s 5ms/step - loss: 0.3110 - accuracy: 0.8946 - val_loss: 0.3908 - val_accuracy: 0.8794\n",
            "Epoch 7/200\n",
            "5298/5298 [==============================] - ETA: 0s - loss: 0.3064 - accuracy: 0.8965INFO:tensorflow:Assets written to: model2/assets\n",
            "5298/5298 [==============================] - 28s 5ms/step - loss: 0.3064 - accuracy: 0.8965 - val_loss: 0.3760 - val_accuracy: 0.8860\n",
            "Epoch 8/200\n",
            "5290/5298 [============================>.] - ETA: 0s - loss: 0.3018 - accuracy: 0.8986INFO:tensorflow:Assets written to: model2/assets\n",
            "5298/5298 [==============================] - 27s 5ms/step - loss: 0.3018 - accuracy: 0.8986 - val_loss: 0.3759 - val_accuracy: 0.8864\n",
            "Epoch 9/200\n",
            "5298/5298 [==============================] - 27s 5ms/step - loss: 0.2977 - accuracy: 0.9001 - val_loss: 0.3796 - val_accuracy: 0.8859\n",
            "Epoch 10/200\n",
            "5292/5298 [============================>.] - ETA: 0s - loss: 0.2940 - accuracy: 0.9019INFO:tensorflow:Assets written to: model2/assets\n",
            "5298/5298 [==============================] - 28s 5ms/step - loss: 0.2940 - accuracy: 0.9019 - val_loss: 0.3705 - val_accuracy: 0.8901\n",
            "Epoch 11/200\n",
            "5294/5298 [============================>.] - ETA: 0s - loss: 0.2900 - accuracy: 0.9032INFO:tensorflow:Assets written to: model2/assets\n",
            "5298/5298 [==============================] - 28s 5ms/step - loss: 0.2900 - accuracy: 0.9032 - val_loss: 0.3675 - val_accuracy: 0.8913\n",
            "Epoch 12/200\n",
            "5298/5298 [==============================] - 27s 5ms/step - loss: 0.2870 - accuracy: 0.9046 - val_loss: 0.3697 - val_accuracy: 0.8906\n",
            "Epoch 13/200\n",
            "5294/5298 [============================>.] - ETA: 0s - loss: 0.2836 - accuracy: 0.9058INFO:tensorflow:Assets written to: model2/assets\n",
            "5298/5298 [==============================] - 28s 5ms/step - loss: 0.2836 - accuracy: 0.9058 - val_loss: 0.3638 - val_accuracy: 0.8945\n",
            "Epoch 14/200\n",
            "5298/5298 [==============================] - 27s 5ms/step - loss: 0.2813 - accuracy: 0.9069 - val_loss: 0.3806 - val_accuracy: 0.8890\n",
            "Epoch 15/200\n",
            "5292/5298 [============================>.] - ETA: 0s - loss: 0.2785 - accuracy: 0.9078INFO:tensorflow:Assets written to: model2/assets\n",
            "5298/5298 [==============================] - 27s 5ms/step - loss: 0.2785 - accuracy: 0.9078 - val_loss: 0.3634 - val_accuracy: 0.8950\n",
            "Epoch 16/200\n",
            "5294/5298 [============================>.] - ETA: 0s - loss: 0.2764 - accuracy: 0.9088INFO:tensorflow:Assets written to: model2/assets\n",
            "5298/5298 [==============================] - 28s 5ms/step - loss: 0.2764 - accuracy: 0.9088 - val_loss: 0.3563 - val_accuracy: 0.8979\n",
            "Epoch 17/200\n",
            "5298/5298 [==============================] - 27s 5ms/step - loss: 0.2744 - accuracy: 0.9095 - val_loss: 0.3571 - val_accuracy: 0.8980\n",
            "Epoch 18/200\n",
            "5298/5298 [==============================] - 27s 5ms/step - loss: 0.2716 - accuracy: 0.9109 - val_loss: 0.3565 - val_accuracy: 0.8987\n"
          ],
          "name": "stdout"
        },
        {
          "output_type": "display_data",
          "data": {
            "image/png": "[encoded data removed]",
            "text/plain": [
              "<Figure size 432x288 with 1 Axes>"
            ]
          },
          "metadata": {
            "tags": [],
            "needs_background": "light"
          }
        },
        {
          "output_type": "display_data",
          "data": {
            "image/png": "[encoded data removed]",
            "text/plain": [
              "<Figure size 432x288 with 1 Axes>"
            ]
          },
          "metadata": {
            "tags": [],
            "needs_background": "light"
          }
        }
      ]
    },
    {
      "cell_type": "code",
      "metadata": {
        "id": "G-RL82Bsv5AB"
      },
      "source": [
        "# saving our model\n",
        "model.save('model2/emg_2.h5')"
      ],
      "execution_count": null,
      "outputs": []
    },
    {
      "cell_type": "code",
      "metadata": {
        "id": "G-bk9G7Qv5Gz"
      },
      "source": [
        "###################"
      ],
      "execution_count": null,
      "outputs": []
    },
    {
      "cell_type": "code",
      "metadata": {
        "id": "hX-JbgrQv5EW"
      },
      "source": [
        "# loading saved model\n",
        "from tensorflow.keras.models import load_model\n",
        "emg = 'model2/emg_2.h5'\n",
        "emg_model = load_model(emg)\n",
        "#emg_model.summary()"
      ],
      "execution_count": null,
      "outputs": []
    },
    {
      "cell_type": "code",
      "metadata": {
        "id": "9cFdvNaH0gss"
      },
      "source": [
        "from tensorflow.keras import layers, Sequential, optimizers, Input, Model\n",
        "\n",
        "input_tensor = Input(shape=(8,))\n",
        "x = layers.Dense(1024, activation='relu')(input_tensor)\n",
        "y = layers.Dense(512, activation='relu')(x)\n",
        "z = layers.Dense(256, activation='relu')(y)\n",
        "z = layers.Dense(128, activation='relu')(z)\n",
        "z = layers.Dense(64, activation='relu')(z)\n",
        "z = layers.Dense(32, activation='relu')(z)\n",
        "z = layers.Dense(128, activation='relu')(y) # acyclic graghs of layers\n",
        "z = layers.Dense(64, activation='relu')(z)\n",
        "z = layers.Dense(32, activation='relu')(z)\n",
        "output_tensor = layers.Dense(8, activation='softmax')(z)\n",
        "\n",
        "model = Model(input_tensor, output_tensor)\n",
        "\n",
        "opt = optimizers.Nadam(lr=1e-3)\n",
        "model.compile(optimizer = opt, \n",
        "              loss = \"categorical_crossentropy\",\n",
        "              metrics = [\"accuracy\"])\n",
        "\n",
        "model.set_weights(emg_model.get_weights())   # using pretrained model weights\n",
        "\n",
        "#model.summary()"
      ],
      "execution_count": null,
      "outputs": []
    },
    {
      "cell_type": "code",
      "metadata": {
        "id": "jjPuVpgsv4-L",
        "outputId": "83047a16-c2b7-436c-a4d5-bae13b47486c",
        "colab": {
          "base_uri": "https://localhost:8080/",
          "height": 1000
        }
      },
      "source": [
        "callbacks_list = [tf.keras.callbacks.EarlyStopping(   # stop if not improving\n",
        "                monitor='acc',patience=5,),           # monitor validation accuracy\n",
        "                tf.keras.callbacks.ModelCheckpoint(\n",
        "                filepath='my_model.h5',\n",
        "                monitor='val_loss',                   # only save best weights\n",
        "                save_best_only=True,)]                # when vall loss is improved\n",
        "\n",
        "batch_size = 512            \n",
        "epochs = 50                \n",
        "\n",
        "history = model.fit(x_train, y_train,\n",
        "                    batch_size=batch_size, epochs = epochs,\n",
        "                    validation_split = 0.2,\n",
        "                    callbacks=callbacks_list)"
      ],
      "execution_count": null,
      "outputs": [
        {
          "output_type": "stream",
          "text": [
            "Epoch 1/50\n",
            "5295/5298 [============================>.] - ETA: 0s - loss: 0.2683 - accuracy: 0.9122WARNING:tensorflow:Early stopping conditioned on metric `acc` which is not available. Available metrics are: loss,accuracy,val_loss,val_accuracy\n",
            "5298/5298 [==============================] - 27s 5ms/step - loss: 0.2683 - accuracy: 0.9122 - val_loss: 0.3583 - val_accuracy: 0.8976\n",
            "Epoch 2/50\n",
            "5290/5298 [============================>.] - ETA: 0s - loss: 0.2660 - accuracy: 0.9130WARNING:tensorflow:Early stopping conditioned on metric `acc` which is not available. Available metrics are: loss,accuracy,val_loss,val_accuracy\n",
            "5298/5298 [==============================] - 27s 5ms/step - loss: 0.2660 - accuracy: 0.9130 - val_loss: 0.3544 - val_accuracy: 0.8996\n",
            "Epoch 3/50\n",
            "5297/5298 [============================>.] - ETA: 0s - loss: 0.2640 - accuracy: 0.9137WARNING:tensorflow:Early stopping conditioned on metric `acc` which is not available. Available metrics are: loss,accuracy,val_loss,val_accuracy\n",
            "5298/5298 [==============================] - 27s 5ms/step - loss: 0.2640 - accuracy: 0.9137 - val_loss: 0.3704 - val_accuracy: 0.8937\n",
            "Epoch 4/50\n",
            "5294/5298 [============================>.] - ETA: 0s - loss: 0.2634 - accuracy: 0.9140WARNING:tensorflow:Early stopping conditioned on metric `acc` which is not available. Available metrics are: loss,accuracy,val_loss,val_accuracy\n",
            "5298/5298 [==============================] - 27s 5ms/step - loss: 0.2634 - accuracy: 0.9140 - val_loss: 0.3509 - val_accuracy: 0.9022\n",
            "Epoch 5/50\n",
            "5296/5298 [============================>.] - ETA: 0s - loss: 0.2622 - accuracy: 0.9144WARNING:tensorflow:Early stopping conditioned on metric `acc` which is not available. Available metrics are: loss,accuracy,val_loss,val_accuracy\n",
            "5298/5298 [==============================] - 27s 5ms/step - loss: 0.2622 - accuracy: 0.9144 - val_loss: 0.3445 - val_accuracy: 0.9031\n",
            "Epoch 6/50\n",
            "5297/5298 [============================>.] - ETA: 0s - loss: 0.2600 - accuracy: 0.9152WARNING:tensorflow:Early stopping conditioned on metric `acc` which is not available. Available metrics are: loss,accuracy,val_loss,val_accuracy\n",
            "5298/5298 [==============================] - 27s 5ms/step - loss: 0.2600 - accuracy: 0.9152 - val_loss: 0.3394 - val_accuracy: 0.9063\n",
            "Epoch 7/50\n",
            "5294/5298 [============================>.] - ETA: 0s - loss: 0.2589 - accuracy: 0.9157WARNING:tensorflow:Early stopping conditioned on metric `acc` which is not available. Available metrics are: loss,accuracy,val_loss,val_accuracy\n",
            "5298/5298 [==============================] - 27s 5ms/step - loss: 0.2589 - accuracy: 0.9157 - val_loss: 0.3532 - val_accuracy: 0.9011\n",
            "Epoch 8/50\n",
            "5297/5298 [============================>.] - ETA: 0s - loss: 0.2568 - accuracy: 0.9165WARNING:tensorflow:Early stopping conditioned on metric `acc` which is not available. Available metrics are: loss,accuracy,val_loss,val_accuracy\n",
            "5298/5298 [==============================] - 27s 5ms/step - loss: 0.2567 - accuracy: 0.9165 - val_loss: 0.3436 - val_accuracy: 0.9044\n",
            "Epoch 9/50\n",
            "5295/5298 [============================>.] - ETA: 0s - loss: 0.2551 - accuracy: 0.9172WARNING:tensorflow:Early stopping conditioned on metric `acc` which is not available. Available metrics are: loss,accuracy,val_loss,val_accuracy\n",
            "5298/5298 [==============================] - 27s 5ms/step - loss: 0.2551 - accuracy: 0.9172 - val_loss: 0.3442 - val_accuracy: 0.9055\n",
            "Epoch 10/50\n",
            "5295/5298 [============================>.] - ETA: 0s - loss: 0.2539 - accuracy: 0.9177WARNING:tensorflow:Early stopping conditioned on metric `acc` which is not available. Available metrics are: loss,accuracy,val_loss,val_accuracy\n",
            "5298/5298 [==============================] - 27s 5ms/step - loss: 0.2540 - accuracy: 0.9177 - val_loss: 0.3591 - val_accuracy: 0.8995\n",
            "Epoch 11/50\n",
            "5289/5298 [============================>.] - ETA: 0s - loss: 0.2523 - accuracy: 0.9183WARNING:tensorflow:Early stopping conditioned on metric `acc` which is not available. Available metrics are: loss,accuracy,val_loss,val_accuracy\n",
            "5298/5298 [==============================] - 27s 5ms/step - loss: 0.2523 - accuracy: 0.9183 - val_loss: 0.3457 - val_accuracy: 0.9051\n",
            "Epoch 12/50\n",
            "5292/5298 [============================>.] - ETA: 0s - loss: 0.2505 - accuracy: 0.9189WARNING:tensorflow:Early stopping conditioned on metric `acc` which is not available. Available metrics are: loss,accuracy,val_loss,val_accuracy\n",
            "5298/5298 [==============================] - 27s 5ms/step - loss: 0.2505 - accuracy: 0.9189 - val_loss: 0.3473 - val_accuracy: 0.9047\n",
            "Epoch 13/50\n",
            "5298/5298 [==============================] - ETA: 0s - loss: 0.2492 - accuracy: 0.9195WARNING:tensorflow:Early stopping conditioned on metric `acc` which is not available. Available metrics are: loss,accuracy,val_loss,val_accuracy\n",
            "5298/5298 [==============================] - 28s 5ms/step - loss: 0.2492 - accuracy: 0.9195 - val_loss: 0.3455 - val_accuracy: 0.9052\n",
            "Epoch 14/50\n",
            "5297/5298 [============================>.] - ETA: 0s - loss: 0.2477 - accuracy: 0.9202WARNING:tensorflow:Early stopping conditioned on metric `acc` which is not available. Available metrics are: loss,accuracy,val_loss,val_accuracy\n",
            "5298/5298 [==============================] - 27s 5ms/step - loss: 0.2477 - accuracy: 0.9202 - val_loss: 0.3406 - val_accuracy: 0.9074\n",
            "Epoch 15/50\n",
            "5298/5298 [==============================] - ETA: 0s - loss: 0.2459 - accuracy: 0.9207WARNING:tensorflow:Early stopping conditioned on metric `acc` which is not available. Available metrics are: loss,accuracy,val_loss,val_accuracy\n",
            "5298/5298 [==============================] - 27s 5ms/step - loss: 0.2459 - accuracy: 0.9207 - val_loss: 0.3436 - val_accuracy: 0.9060\n",
            "Epoch 16/50\n",
            "5294/5298 [============================>.] - ETA: 0s - loss: 0.2445 - accuracy: 0.9212WARNING:tensorflow:Early stopping conditioned on metric `acc` which is not available. Available metrics are: loss,accuracy,val_loss,val_accuracy\n",
            "5298/5298 [==============================] - 27s 5ms/step - loss: 0.2445 - accuracy: 0.9212 - val_loss: 0.3408 - val_accuracy: 0.9079\n",
            "Epoch 17/50\n",
            "5289/5298 [============================>.] - ETA: 0s - loss: 0.2441 - accuracy: 0.9216WARNING:tensorflow:Early stopping conditioned on metric `acc` which is not available. Available metrics are: loss,accuracy,val_loss,val_accuracy\n",
            "5298/5298 [==============================] - 27s 5ms/step - loss: 0.2441 - accuracy: 0.9215 - val_loss: 0.3381 - val_accuracy: 0.9087\n",
            "Epoch 18/50\n",
            "5289/5298 [============================>.] - ETA: 0s - loss: 0.2410 - accuracy: 0.9225WARNING:tensorflow:Early stopping conditioned on metric `acc` which is not available. Available metrics are: loss,accuracy,val_loss,val_accuracy\n",
            "5298/5298 [==============================] - 27s 5ms/step - loss: 0.2410 - accuracy: 0.9225 - val_loss: 0.3424 - val_accuracy: 0.9071\n",
            "Epoch 19/50\n",
            "5297/5298 [============================>.] - ETA: 0s - loss: 0.2410 - accuracy: 0.9226WARNING:tensorflow:Early stopping conditioned on metric `acc` which is not available. Available metrics are: loss,accuracy,val_loss,val_accuracy\n",
            "5298/5298 [==============================] - 27s 5ms/step - loss: 0.2410 - accuracy: 0.9226 - val_loss: 0.3454 - val_accuracy: 0.9068\n",
            "Epoch 20/50\n",
            "5291/5298 [============================>.] - ETA: 0s - loss: 0.2397 - accuracy: 0.9232WARNING:tensorflow:Early stopping conditioned on metric `acc` which is not available. Available metrics are: loss,accuracy,val_loss,val_accuracy\n",
            "5298/5298 [==============================] - 27s 5ms/step - loss: 0.2397 - accuracy: 0.9232 - val_loss: 0.3358 - val_accuracy: 0.9109\n",
            "Epoch 21/50\n",
            "5298/5298 [==============================] - ETA: 0s - loss: 0.2377 - accuracy: 0.9237WARNING:tensorflow:Early stopping conditioned on metric `acc` which is not available. Available metrics are: loss,accuracy,val_loss,val_accuracy\n",
            "5298/5298 [==============================] - 27s 5ms/step - loss: 0.2377 - accuracy: 0.9237 - val_loss: 0.3360 - val_accuracy: 0.9104\n",
            "Epoch 22/50\n",
            "5297/5298 [============================>.] - ETA: 0s - loss: 0.2369 - accuracy: 0.9240WARNING:tensorflow:Early stopping conditioned on metric `acc` which is not available. Available metrics are: loss,accuracy,val_loss,val_accuracy\n",
            "5298/5298 [==============================] - 27s 5ms/step - loss: 0.2369 - accuracy: 0.9240 - val_loss: 0.3430 - val_accuracy: 0.9082\n",
            "Epoch 23/50\n",
            "5294/5298 [============================>.] - ETA: 0s - loss: 0.2349 - accuracy: 0.9250WARNING:tensorflow:Early stopping conditioned on metric `acc` which is not available. Available metrics are: loss,accuracy,val_loss,val_accuracy\n",
            "5298/5298 [==============================] - 27s 5ms/step - loss: 0.2349 - accuracy: 0.9250 - val_loss: 0.3304 - val_accuracy: 0.9131\n",
            "Epoch 24/50\n",
            "5295/5298 [============================>.] - ETA: 0s - loss: 0.2343 - accuracy: 0.9253WARNING:tensorflow:Early stopping conditioned on metric `acc` which is not available. Available metrics are: loss,accuracy,val_loss,val_accuracy\n",
            "5298/5298 [==============================] - 28s 5ms/step - loss: 0.2344 - accuracy: 0.9253 - val_loss: 0.3340 - val_accuracy: 0.9123\n",
            "Epoch 25/50\n",
            "5294/5298 [============================>.] - ETA: 0s - loss: 0.2333 - accuracy: 0.9257WARNING:tensorflow:Early stopping conditioned on metric `acc` which is not available. Available metrics are: loss,accuracy,val_loss,val_accuracy\n",
            "5298/5298 [==============================] - 27s 5ms/step - loss: 0.2333 - accuracy: 0.9257 - val_loss: 0.3336 - val_accuracy: 0.9121\n",
            "Epoch 26/50\n",
            "5294/5298 [============================>.] - ETA: 0s - loss: 0.2322 - accuracy: 0.9259WARNING:tensorflow:Early stopping conditioned on metric `acc` which is not available. Available metrics are: loss,accuracy,val_loss,val_accuracy\n",
            "5298/5298 [==============================] - 27s 5ms/step - loss: 0.2322 - accuracy: 0.9259 - val_loss: 0.3323 - val_accuracy: 0.9132\n",
            "Epoch 27/50\n",
            "5298/5298 [==============================] - ETA: 0s - loss: 0.2302 - accuracy: 0.9266WARNING:tensorflow:Early stopping conditioned on metric `acc` which is not available. Available metrics are: loss,accuracy,val_loss,val_accuracy\n",
            "5298/5298 [==============================] - 27s 5ms/step - loss: 0.2302 - accuracy: 0.9266 - val_loss: 0.3355 - val_accuracy: 0.9118\n",
            "Epoch 28/50\n",
            "5297/5298 [============================>.] - ETA: 0s - loss: 0.2292 - accuracy: 0.9269WARNING:tensorflow:Early stopping conditioned on metric `acc` which is not available. Available metrics are: loss,accuracy,val_loss,val_accuracy\n",
            "5298/5298 [==============================] - 27s 5ms/step - loss: 0.2292 - accuracy: 0.9269 - val_loss: 0.3375 - val_accuracy: 0.9114\n",
            "Epoch 29/50\n",
            "5297/5298 [============================>.] - ETA: 0s - loss: 0.2282 - accuracy: 0.9274WARNING:tensorflow:Early stopping conditioned on metric `acc` which is not available. Available metrics are: loss,accuracy,val_loss,val_accuracy\n",
            "5298/5298 [==============================] - 27s 5ms/step - loss: 0.2282 - accuracy: 0.9274 - val_loss: 0.3383 - val_accuracy: 0.9111\n",
            "Epoch 30/50\n",
            "5294/5298 [============================>.] - ETA: 0s - loss: 0.2276 - accuracy: 0.9276WARNING:tensorflow:Early stopping conditioned on metric `acc` which is not available. Available metrics are: loss,accuracy,val_loss,val_accuracy\n",
            "5298/5298 [==============================] - 27s 5ms/step - loss: 0.2276 - accuracy: 0.9276 - val_loss: 0.3446 - val_accuracy: 0.9084\n",
            "Epoch 31/50\n",
            "5295/5298 [============================>.] - ETA: 0s - loss: 0.2253 - accuracy: 0.9285WARNING:tensorflow:Early stopping conditioned on metric `acc` which is not available. Available metrics are: loss,accuracy,val_loss,val_accuracy\n",
            "5298/5298 [==============================] - 27s 5ms/step - loss: 0.2253 - accuracy: 0.9285 - val_loss: 0.3397 - val_accuracy: 0.9108\n",
            "Epoch 32/50\n",
            "5298/5298 [==============================] - ETA: 0s - loss: 0.2253 - accuracy: 0.9285WARNING:tensorflow:Early stopping conditioned on metric `acc` which is not available. Available metrics are: loss,accuracy,val_loss,val_accuracy\n",
            "5298/5298 [==============================] - 27s 5ms/step - loss: 0.2253 - accuracy: 0.9285 - val_loss: 0.3239 - val_accuracy: 0.9174\n",
            "Epoch 33/50\n",
            "5291/5298 [============================>.] - ETA: 0s - loss: 0.2231 - accuracy: 0.9292WARNING:tensorflow:Early stopping conditioned on metric `acc` which is not available. Available metrics are: loss,accuracy,val_loss,val_accuracy\n",
            "5298/5298 [==============================] - 27s 5ms/step - loss: 0.2231 - accuracy: 0.9292 - val_loss: 0.3272 - val_accuracy: 0.9166\n",
            "Epoch 34/50\n",
            "5297/5298 [============================>.] - ETA: 0s - loss: 0.2229 - accuracy: 0.9294WARNING:tensorflow:Early stopping conditioned on metric `acc` which is not available. Available metrics are: loss,accuracy,val_loss,val_accuracy\n",
            "5298/5298 [==============================] - 27s 5ms/step - loss: 0.2229 - accuracy: 0.9294 - val_loss: 0.3327 - val_accuracy: 0.9129\n",
            "Epoch 35/50\n",
            "5290/5298 [============================>.] - ETA: 0s - loss: 0.2213 - accuracy: 0.9301WARNING:tensorflow:Early stopping conditioned on metric `acc` which is not available. Available metrics are: loss,accuracy,val_loss,val_accuracy\n",
            "5298/5298 [==============================] - 27s 5ms/step - loss: 0.2213 - accuracy: 0.9301 - val_loss: 0.3221 - val_accuracy: 0.9188\n",
            "Epoch 36/50\n",
            "5296/5298 [============================>.] - ETA: 0s - loss: 0.2212 - accuracy: 0.9300WARNING:tensorflow:Early stopping conditioned on metric `acc` which is not available. Available metrics are: loss,accuracy,val_loss,val_accuracy\n",
            "5298/5298 [==============================] - 28s 5ms/step - loss: 0.2212 - accuracy: 0.9300 - val_loss: 0.3252 - val_accuracy: 0.9162\n",
            "Epoch 37/50\n",
            "5290/5298 [============================>.] - ETA: 0s - loss: 0.2203 - accuracy: 0.9304WARNING:tensorflow:Early stopping conditioned on metric `acc` which is not available. Available metrics are: loss,accuracy,val_loss,val_accuracy\n",
            "5298/5298 [==============================] - 27s 5ms/step - loss: 0.2203 - accuracy: 0.9304 - val_loss: 0.3230 - val_accuracy: 0.9179\n",
            "Epoch 38/50\n",
            "5293/5298 [============================>.] - ETA: 0s - loss: 0.2178 - accuracy: 0.9310WARNING:tensorflow:Early stopping conditioned on metric `acc` which is not available. Available metrics are: loss,accuracy,val_loss,val_accuracy\n",
            "5298/5298 [==============================] - 27s 5ms/step - loss: 0.2178 - accuracy: 0.9310 - val_loss: 0.3228 - val_accuracy: 0.9194\n",
            "Epoch 39/50\n",
            "5298/5298 [==============================] - ETA: 0s - loss: 0.2181 - accuracy: 0.9311WARNING:tensorflow:Early stopping conditioned on metric `acc` which is not available. Available metrics are: loss,accuracy,val_loss,val_accuracy\n",
            "5298/5298 [==============================] - 27s 5ms/step - loss: 0.2181 - accuracy: 0.9311 - val_loss: 0.3341 - val_accuracy: 0.9147\n",
            "Epoch 40/50\n",
            "5289/5298 [============================>.] - ETA: 0s - loss: 0.2164 - accuracy: 0.9316WARNING:tensorflow:Early stopping conditioned on metric `acc` which is not available. Available metrics are: loss,accuracy,val_loss,val_accuracy\n",
            "5298/5298 [==============================] - 27s 5ms/step - loss: 0.2164 - accuracy: 0.9316 - val_loss: 0.3273 - val_accuracy: 0.9175\n",
            "Epoch 41/50\n",
            "5294/5298 [============================>.] - ETA: 0s - loss: 0.2162 - accuracy: 0.9319WARNING:tensorflow:Early stopping conditioned on metric `acc` which is not available. Available metrics are: loss,accuracy,val_loss,val_accuracy\n",
            "5298/5298 [==============================] - 27s 5ms/step - loss: 0.2162 - accuracy: 0.9319 - val_loss: 0.3282 - val_accuracy: 0.9155\n",
            "Epoch 42/50\n",
            "5295/5298 [============================>.] - ETA: 0s - loss: 0.2149 - accuracy: 0.9322WARNING:tensorflow:Early stopping conditioned on metric `acc` which is not available. Available metrics are: loss,accuracy,val_loss,val_accuracy\n",
            "5298/5298 [==============================] - 28s 5ms/step - loss: 0.2149 - accuracy: 0.9322 - val_loss: 0.3256 - val_accuracy: 0.9175\n",
            "Epoch 43/50\n",
            "5296/5298 [============================>.] - ETA: 0s - loss: 0.2141 - accuracy: 0.9326WARNING:tensorflow:Early stopping conditioned on metric `acc` which is not available. Available metrics are: loss,accuracy,val_loss,val_accuracy\n",
            "5298/5298 [==============================] - 27s 5ms/step - loss: 0.2141 - accuracy: 0.9326 - val_loss: 0.3259 - val_accuracy: 0.9183\n",
            "Epoch 44/50\n",
            "5296/5298 [============================>.] - ETA: 0s - loss: 0.2131 - accuracy: 0.9329WARNING:tensorflow:Early stopping conditioned on metric `acc` which is not available. Available metrics are: loss,accuracy,val_loss,val_accuracy\n",
            "5298/5298 [==============================] - 27s 5ms/step - loss: 0.2131 - accuracy: 0.9329 - val_loss: 0.3245 - val_accuracy: 0.9183\n",
            "Epoch 45/50\n",
            "5298/5298 [==============================] - ETA: 0s - loss: 0.2118 - accuracy: 0.9335WARNING:tensorflow:Early stopping conditioned on metric `acc` which is not available. Available metrics are: loss,accuracy,val_loss,val_accuracy\n",
            "5298/5298 [==============================] - 27s 5ms/step - loss: 0.2118 - accuracy: 0.9335 - val_loss: 0.3249 - val_accuracy: 0.9184\n",
            "Epoch 46/50\n",
            "5295/5298 [============================>.] - ETA: 0s - loss: 0.2118 - accuracy: 0.9333WARNING:tensorflow:Early stopping conditioned on metric `acc` which is not available. Available metrics are: loss,accuracy,val_loss,val_accuracy\n",
            "5298/5298 [==============================] - 27s 5ms/step - loss: 0.2118 - accuracy: 0.9333 - val_loss: 0.3217 - val_accuracy: 0.9199\n",
            "Epoch 47/50\n",
            "5298/5298 [==============================] - ETA: 0s - loss: 0.2103 - accuracy: 0.9340WARNING:tensorflow:Early stopping conditioned on metric `acc` which is not available. Available metrics are: loss,accuracy,val_loss,val_accuracy\n",
            "5298/5298 [==============================] - 28s 5ms/step - loss: 0.2103 - accuracy: 0.9340 - val_loss: 0.3254 - val_accuracy: 0.9192\n",
            "Epoch 48/50\n",
            "5297/5298 [============================>.] - ETA: 0s - loss: 0.2101 - accuracy: 0.9340WARNING:tensorflow:Early stopping conditioned on metric `acc` which is not available. Available metrics are: loss,accuracy,val_loss,val_accuracy\n",
            "5298/5298 [==============================] - 27s 5ms/step - loss: 0.2101 - accuracy: 0.9340 - val_loss: 0.3227 - val_accuracy: 0.9198\n",
            "Epoch 49/50\n",
            "5291/5298 [============================>.] - ETA: 0s - loss: 0.2084 - accuracy: 0.9346WARNING:tensorflow:Early stopping conditioned on metric `acc` which is not available. Available metrics are: loss,accuracy,val_loss,val_accuracy\n",
            "5298/5298 [==============================] - 27s 5ms/step - loss: 0.2084 - accuracy: 0.9346 - val_loss: 0.3153 - val_accuracy: 0.9245\n",
            "Epoch 50/50\n",
            "5293/5298 [============================>.] - ETA: 0s - loss: 0.2077 - accuracy: 0.9350WARNING:tensorflow:Early stopping conditioned on metric `acc` which is not available. Available metrics are: loss,accuracy,val_loss,val_accuracy\n",
            "5298/5298 [==============================] - 27s 5ms/step - loss: 0.2077 - accuracy: 0.9350 - val_loss: 0.3203 - val_accuracy: 0.9222\n"
          ],
          "name": "stdout"
        }
      ]
    },
    {
      "cell_type": "code",
      "metadata": {
        "id": "oiH8gtt_0aSS"
      },
      "source": [
        "model.save('emg_3.h5')"
      ],
      "execution_count": null,
      "outputs": []
    },
    {
      "cell_type": "code",
      "metadata": {
        "id": "vszuFL6P0aP6",
        "outputId": "947157d0-7039-4f65-f273-25bf71e520e1",
        "colab": {
          "base_uri": "https://localhost:8080/",
          "height": 573
        }
      },
      "source": [
        "loss = history.history['loss']\n",
        "val_loss = history.history['val_loss']\n",
        "acc = history.history['accuracy']\n",
        "val_acc = history.history['val_accuracy']\n",
        "plot(loss,val_loss,acc,val_acc)"
      ],
      "execution_count": null,
      "outputs": [
        {
          "output_type": "display_data",
          "data": {
            "image/png": "[encoded data removed]",
            "text/plain": [
              "<Figure size 432x288 with 1 Axes>"
            ]
          },
          "metadata": {
            "tags": [],
            "needs_background": "light"
          }
        },
        {
          "output_type": "display_data",
          "data": {
            "image/png": "[encoded data removed]",
            "text/plain": [
              "<Figure size 432x288 with 1 Axes>"
            ]
          },
          "metadata": {
            "tags": [],
            "needs_background": "light"
          }
        }
      ]
    },
    {
      "cell_type": "code",
      "metadata": {
        "id": "Yhwxry0m6S3z",
        "outputId": "5b61770e-9b51-4ec2-8315-40cb0b29564c",
        "colab": {
          "base_uri": "https://localhost:8080/",
          "height": 86
        }
      },
      "source": [
        "evaluation = model.evaluate(x_test,  y_test,batch_size=batch_size, verbose=2)\n",
        "print()\n",
        "print(\"Test loss :\",evaluation[0]*100,\"%\")\n",
        "print(\"Test accuracy :\",evaluation[1]*100,\"%\")"
      ],
      "execution_count": null,
      "outputs": [
        {
          "output_type": "stream",
          "text": [
            "1656/1656 - 4s - loss: 0.3191 - accuracy: 0.9223\n",
            "\n",
            "Test loss : 31.909576058387756 %\n",
            "Test accuracy : 92.2270655632019 %\n"
          ],
          "name": "stdout"
        }
      ]
    },
    {
      "cell_type": "markdown",
      "metadata": {
        "id": "awiJTiJLnbRQ"
      },
      "source": [
        "### Prediction"
      ]
    },
    {
      "cell_type": "code",
      "metadata": {
        "id": "b0P5TPuki26a",
        "outputId": "5bb62742-ff13-4ba4-aefb-d86a428fd1e1",
        "colab": {
          "base_uri": "https://localhost:8080/"
        }
      },
      "source": [
        "predict = 105\n",
        "a = np.argmax(model.predict(x_test)[predict])\n",
        "print(\"Predicted Class: \",a)\n",
        "print(\"Actual Class: \",np.argmax(y_test[predict]))"
      ],
      "execution_count": 23,
      "outputs": [
        {
          "output_type": "stream",
          "text": [
            "Predicted value:  7\n",
            "Actual value:  7\n"
          ],
          "name": "stdout"
        }
      ]
    },
    {
      "cell_type": "code",
      "metadata": {
        "id": "AgUKgBXomszP"
      },
      "source": [
        ""
      ],
      "execution_count": null,
      "outputs": []
    }
  ]
}