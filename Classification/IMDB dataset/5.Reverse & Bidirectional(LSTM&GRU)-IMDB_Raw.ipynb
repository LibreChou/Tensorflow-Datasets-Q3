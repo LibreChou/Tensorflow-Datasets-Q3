{
  "nbformat": 4,
  "nbformat_minor": 0,
  "metadata": {
    "colab": {
      "name": "Bidirectional_RNN_IMDB_Raw.ipynb",
      "provenance": [],
      "collapsed_sections": []
    },
    "kernelspec": {
      "name": "python3",
      "display_name": "Python 3"
    },
    "accelerator": "GPU"
  },
  "cells": [
    {
      "cell_type": "code",
      "metadata": {
        "id": "_2oXV-d2uNGB",
        "colab_type": "code",
        "colab": {
          "base_uri": "https://localhost:8080/",
          "height": 34
        },
        "outputId": "d2e3e163-46f4-439e-e197-60711ca88d90"
      },
      "source": [
        "from google.colab import drive\n",
        "drive.mount('/content/drive')"
      ],
      "execution_count": 36,
      "outputs": [
        {
          "output_type": "stream",
          "text": [
            "Drive already mounted at /content/drive; to attempt to forcibly remount, call drive.mount(\"/content/drive\", force_remount=True).\n"
          ],
          "name": "stdout"
        }
      ]
    },
    {
      "cell_type": "markdown",
      "metadata": {
        "id": "H_1TP9temHPU",
        "colab_type": "text"
      },
      "source": [
        "Raw IMBD dataset\n",
        "Downloadable Link : http://mng.bz/0tIo"
      ]
    },
    {
      "cell_type": "code",
      "metadata": {
        "id": "8e-MncZ7u8Wf",
        "colab_type": "code",
        "colab": {
          "base_uri": "https://localhost:8080/",
          "height": 208
        },
        "outputId": "d589c0c9-5a85-4c76-870a-6c3cb7927cfd"
      },
      "source": [
        "import os\n",
        "os.listdir(\"/content/drive/My Drive/ML and AI/Datasets\") # datasets save in my google drive"
      ],
      "execution_count": 37,
      "outputs": [
        {
          "output_type": "execute_result",
          "data": {
            "text/plain": [
              "['cat vs dog',\n",
              " 'compresive_strength_concrete',\n",
              " 'Mnist_fashion_dataset',\n",
              " 'Boston Housing dataset',\n",
              " 'sonar dataset',\n",
              " 'Iris dataset',\n",
              " 'diabetes dataset',\n",
              " 'bbc dataset',\n",
              " 'IMDB dataset',\n",
              " 'jena_climate',\n",
              " 'Amazon_Reviews']"
            ]
          },
          "metadata": {
            "tags": []
          },
          "execution_count": 37
        }
      ]
    },
    {
      "cell_type": "code",
      "metadata": {
        "id": "OupSnmX-J0Ft",
        "colab_type": "code",
        "colab": {
          "base_uri": "https://localhost:8080/",
          "height": 34
        },
        "outputId": "bd6bb6f7-61e5-49f6-faaf-bec857ab19bb"
      },
      "source": [
        "os.listdir(\"/content/drive/My Drive/ML and AI/Datasets/IMDB dataset\")"
      ],
      "execution_count": 38,
      "outputs": [
        {
          "output_type": "execute_result",
          "data": {
            "text/plain": [
              "['IMDB Dataset.csv']"
            ]
          },
          "metadata": {
            "tags": []
          },
          "execution_count": 38
        }
      ]
    },
    {
      "cell_type": "code",
      "metadata": {
        "id": "5mRJ3yt3vP14",
        "colab_type": "code",
        "colab": {
          "base_uri": "https://localhost:8080/",
          "height": 206
        },
        "outputId": "ad2c347e-605f-4bb2-cb10-9ced7667f872"
      },
      "source": [
        "import pandas as pd\n",
        "import tensorflow as tf\n",
        "\n",
        "df = pd.read_csv('/content/drive/My Drive/ML and AI/Datasets/IMDB dataset/IMDB Dataset.csv')\n",
        "df.head()"
      ],
      "execution_count": 39,
      "outputs": [
        {
          "output_type": "execute_result",
          "data": {
            "text/html": [
              "<div>\n",
              "<style scoped>\n",
              "    .dataframe tbody tr th:only-of-type {\n",
              "        vertical-align: middle;\n",
              "    }\n",
              "\n",
              "    .dataframe tbody tr th {\n",
              "        vertical-align: top;\n",
              "    }\n",
              "\n",
              "    .dataframe thead th {\n",
              "        text-align: right;\n",
              "    }\n",
              "</style>\n",
              "<table border=\"1\" class=\"dataframe\">\n",
              "  <thead>\n",
              "    <tr style=\"text-align: right;\">\n",
              "      <th></th>\n",
              "      <th>review</th>\n",
              "      <th>sentiment</th>\n",
              "    </tr>\n",
              "  </thead>\n",
              "  <tbody>\n",
              "    <tr>\n",
              "      <th>0</th>\n",
              "      <td>One of the other reviewers has mentioned that ...</td>\n",
              "      <td>positive</td>\n",
              "    </tr>\n",
              "    <tr>\n",
              "      <th>1</th>\n",
              "      <td>A wonderful little production. &lt;br /&gt;&lt;br /&gt;The...</td>\n",
              "      <td>positive</td>\n",
              "    </tr>\n",
              "    <tr>\n",
              "      <th>2</th>\n",
              "      <td>I thought this was a wonderful way to spend ti...</td>\n",
              "      <td>positive</td>\n",
              "    </tr>\n",
              "    <tr>\n",
              "      <th>3</th>\n",
              "      <td>Basically there's a family where a little boy ...</td>\n",
              "      <td>negative</td>\n",
              "    </tr>\n",
              "    <tr>\n",
              "      <th>4</th>\n",
              "      <td>Petter Mattei's \"Love in the Time of Money\" is...</td>\n",
              "      <td>positive</td>\n",
              "    </tr>\n",
              "  </tbody>\n",
              "</table>\n",
              "</div>"
            ],
            "text/plain": [
              "                                              review sentiment\n",
              "0  One of the other reviewers has mentioned that ...  positive\n",
              "1  A wonderful little production. <br /><br />The...  positive\n",
              "2  I thought this was a wonderful way to spend ti...  positive\n",
              "3  Basically there's a family where a little boy ...  negative\n",
              "4  Petter Mattei's \"Love in the Time of Money\" is...  positive"
            ]
          },
          "metadata": {
            "tags": []
          },
          "execution_count": 39
        }
      ]
    },
    {
      "cell_type": "code",
      "metadata": {
        "id": "nDn4ExlFKxD5",
        "colab_type": "code",
        "colab": {
          "base_uri": "https://localhost:8080/",
          "height": 69
        },
        "outputId": "b2f322e5-032e-45a2-c4f9-609fc890f415"
      },
      "source": [
        "df['sentiment'].value_counts()"
      ],
      "execution_count": 40,
      "outputs": [
        {
          "output_type": "execute_result",
          "data": {
            "text/plain": [
              "positive    25000\n",
              "negative    25000\n",
              "Name: sentiment, dtype: int64"
            ]
          },
          "metadata": {
            "tags": []
          },
          "execution_count": 40
        }
      ]
    },
    {
      "cell_type": "code",
      "metadata": {
        "id": "NTYCOEVOLaw-",
        "colab_type": "code",
        "colab": {}
      },
      "source": [
        "labels = df[\"sentiment\"]\n",
        "features = df[\"review\"]"
      ],
      "execution_count": 41,
      "outputs": []
    },
    {
      "cell_type": "code",
      "metadata": {
        "id": "vb6XwA9GOE9U",
        "colab_type": "code",
        "colab": {
          "base_uri": "https://localhost:8080/",
          "height": 34
        },
        "outputId": "5166de53-c596-43db-bb03-58a032cce442"
      },
      "source": [
        "#Encoding Labels\n",
        "from sklearn import preprocessing\n",
        "\n",
        "le = preprocessing.LabelEncoder()\n",
        "labels = le.fit_transform(labels)\n",
        "print(labels)"
      ],
      "execution_count": 42,
      "outputs": [
        {
          "output_type": "stream",
          "text": [
            "[1 1 1 ... 0 0 0]\n"
          ],
          "name": "stdout"
        }
      ]
    },
    {
      "cell_type": "code",
      "metadata": {
        "id": "2HencTSaOE-4",
        "colab_type": "code",
        "colab": {}
      },
      "source": [
        "# Tokenizing the text\n",
        "from tensorflow.keras.preprocessing.text import Tokenizer\n",
        "\n",
        "max_words = 10000\n",
        "tokenizer = Tokenizer(num_words=max_words) \n",
        "tokenizer.fit_on_texts(features)\n",
        "features = tokenizer.texts_to_sequences(features)\n",
        "#print(features)"
      ],
      "execution_count": 43,
      "outputs": []
    },
    {
      "cell_type": "code",
      "metadata": {
        "id": "XoOzEfsHOFCA",
        "colab_type": "code",
        "colab": {}
      },
      "source": [
        "#Training & testing Split\n",
        "from sklearn.model_selection import train_test_split\n",
        "\n",
        "x_train, x_test, y_train, y_test = train_test_split(features,labels, test_size=0.2, random_state=1)"
      ],
      "execution_count": 44,
      "outputs": []
    },
    {
      "cell_type": "markdown",
      "metadata": {
        "id": "7t4x8CozS6uU",
        "colab_type": "text"
      },
      "source": [
        "# LSTM Using Reverse Seqence"
      ]
    },
    {
      "cell_type": "code",
      "metadata": {
        "id": "TqYuEqGSS5VQ",
        "colab_type": "code",
        "colab": {}
      },
      "source": [
        "# Reverses sequences ?\n",
        "R_x_train = [x[::-1] for x in x_train]\n",
        "R_x_test = [x[::-1] for x in x_test]"
      ],
      "execution_count": 45,
      "outputs": []
    },
    {
      "cell_type": "code",
      "metadata": {
        "id": "1Hx2_v-7V4qk",
        "colab_type": "code",
        "colab": {}
      },
      "source": [
        "# pad_sequences is used to ensure that all sequences in a list have the same length.\n",
        "\n",
        "maxlen = 20            # 20 word ka sentence hoga max\n",
        "\n",
        "from tensorflow.keras import preprocessing\n",
        "R_x_train = preprocessing.sequence.pad_sequences(R_x_train, maxlen=maxlen)\n",
        "R_x_test = preprocessing.sequence.pad_sequences(R_x_test, maxlen=maxlen)"
      ],
      "execution_count": 46,
      "outputs": []
    },
    {
      "cell_type": "code",
      "metadata": {
        "id": "HRj16_7kV4w0",
        "colab_type": "code",
        "colab": {}
      },
      "source": [
        "# padding to enshoure all the sentence are of same length\n",
        "# NORMAL SEQUENCE\n",
        "\n",
        "x_train = preprocessing.sequence.pad_sequences(x_train, maxlen=maxlen)\n",
        "x_test = preprocessing.sequence.pad_sequences(x_test, maxlen=maxlen)      "
      ],
      "execution_count": 49,
      "outputs": []
    },
    {
      "cell_type": "markdown",
      "metadata": {
        "id": "GiZ_5wVjoNd8",
        "colab_type": "text"
      },
      "source": [
        "#LSTM Using Reverse Seqence"
      ]
    },
    {
      "cell_type": "code",
      "metadata": {
        "id": "0FK-vwo5OFJ0",
        "colab_type": "code",
        "colab": {}
      },
      "source": [
        "max_features = 10000\n",
        "from tensorflow.keras.models import Sequential\n",
        "from tensorflow.keras import layers\n",
        "\n",
        "model = Sequential()\n",
        "model.add(layers.Embedding(max_features, 128))\n",
        "model.add(layers.LSTM(32))\n",
        "model.add(layers.Dense(1, activation='sigmoid'))\n",
        "\n",
        "model.compile(optimizer='rmsprop',\n",
        "loss='binary_crossentropy',\n",
        "metrics=['acc'])\n",
        "\n",
        "#model.summary()"
      ],
      "execution_count": 50,
      "outputs": []
    },
    {
      "cell_type": "code",
      "metadata": {
        "id": "bMy8HlodR_tw",
        "colab_type": "code",
        "colab": {
          "base_uri": "https://localhost:8080/",
          "height": 364
        },
        "outputId": "eabb8e28-9d6f-4406-e4da-626863cf18f6"
      },
      "source": [
        "history = model.fit(R_x_train, y_train,\n",
        "                    epochs=10,\n",
        "                    batch_size=128,\n",
        "                    validation_split=0.2)"
      ],
      "execution_count": 51,
      "outputs": [
        {
          "output_type": "stream",
          "text": [
            "Epoch 1/10\n",
            "250/250 [==============================] - 4s 18ms/step - loss: 0.5778 - acc: 0.6865 - val_loss: 0.5401 - val_acc: 0.7200\n",
            "Epoch 2/10\n",
            "250/250 [==============================] - 4s 17ms/step - loss: 0.4817 - acc: 0.7659 - val_loss: 0.5319 - val_acc: 0.7259\n",
            "Epoch 3/10\n",
            "250/250 [==============================] - 4s 14ms/step - loss: 0.4445 - acc: 0.7900 - val_loss: 0.5458 - val_acc: 0.7272\n",
            "Epoch 4/10\n",
            "250/250 [==============================] - 4s 14ms/step - loss: 0.4144 - acc: 0.8072 - val_loss: 0.5527 - val_acc: 0.7253\n",
            "Epoch 5/10\n",
            "250/250 [==============================] - 4s 14ms/step - loss: 0.3843 - acc: 0.8238 - val_loss: 0.5702 - val_acc: 0.7269\n",
            "Epoch 6/10\n",
            "250/250 [==============================] - 3s 14ms/step - loss: 0.3552 - acc: 0.8393 - val_loss: 0.5951 - val_acc: 0.7196\n",
            "Epoch 7/10\n",
            "250/250 [==============================] - 4s 14ms/step - loss: 0.3274 - acc: 0.8566 - val_loss: 0.6233 - val_acc: 0.7147\n",
            "Epoch 8/10\n",
            "250/250 [==============================] - 3s 14ms/step - loss: 0.3012 - acc: 0.8697 - val_loss: 0.6577 - val_acc: 0.7010\n",
            "Epoch 9/10\n",
            "250/250 [==============================] - 4s 14ms/step - loss: 0.2759 - acc: 0.8837 - val_loss: 0.7474 - val_acc: 0.7080\n",
            "Epoch 10/10\n",
            "250/250 [==============================] - 3s 14ms/step - loss: 0.2503 - acc: 0.8958 - val_loss: 0.7444 - val_acc: 0.7021\n"
          ],
          "name": "stdout"
        }
      ]
    },
    {
      "cell_type": "code",
      "metadata": {
        "id": "BL29yR9PYlE8",
        "colab_type": "code",
        "colab": {
          "base_uri": "https://localhost:8080/",
          "height": 320
        },
        "outputId": "8f5b51a6-ec6d-45ac-a6ca-c6fbda8636cd"
      },
      "source": [
        "import matplotlib.pyplot as plt\n",
        "def show_all(history):\n",
        "    def show(history,acc,val_acc,label):\n",
        "        epochs = range(1, len(history.history[acc])+1)\n",
        "        plt.plot(epochs,history.history[acc],label='Training '+label)\n",
        "        plt.plot(epochs,history.history[val_acc],label='Validation '+label)\n",
        "        plt.legend()\n",
        "        \n",
        "    plt.figure(figsize=(15,5))\n",
        "    \n",
        "    plt.subplot(121)\n",
        "    show(history,'acc','val_acc','acc')\n",
        "    plt.subplot(122)\n",
        "    show(history,'loss','val_loss','loss')\n",
        "show_all(history)"
      ],
      "execution_count": 52,
      "outputs": [
        {
          "output_type": "display_data",
          "data": {
            "image/png": "[encoded data removed]",
            "text/plain": [
              "<Figure size 1080x360 with 2 Axes>"
            ]
          },
          "metadata": {
            "tags": [],
            "needs_background": "light"
          }
        }
      ]
    },
    {
      "cell_type": "code",
      "metadata": {
        "id": "bT-OsxrNoddY",
        "colab_type": "code",
        "colab": {
          "base_uri": "https://localhost:8080/",
          "height": 86
        },
        "outputId": "79e275c9-d4f4-4d5f-c217-16af004bc1b6"
      },
      "source": [
        "evaluation = model.evaluate(R_x_test,y_test,verbose=2)\n",
        "print()\n",
        "print(\"Loss: \",evaluation[0]*100,\"%\")\n",
        "print(\"Accuracy: \",evaluation[1]*100,\"%\")"
      ],
      "execution_count": 54,
      "outputs": [
        {
          "output_type": "stream",
          "text": [
            "313/313 - 1s - loss: 0.7276 - acc: 0.7041\n",
            "\n",
            "Loss:  72.75513410568237 %\n",
            "Accuracy:  70.41000127792358 %\n"
          ],
          "name": "stdout"
        }
      ]
    },
    {
      "cell_type": "markdown",
      "metadata": {
        "id": "BbV7M_aXS3n4",
        "colab_type": "text"
      },
      "source": [
        "#Training and evaluating a bidirectional LSTM"
      ]
    },
    {
      "cell_type": "code",
      "metadata": {
        "id": "6nCdbeohR_w4",
        "colab_type": "code",
        "colab": {}
      },
      "source": [
        "# pad_sequences is used to ensure that all sequences in a list have the same length.\n",
        "\n",
        "maxlen = 20            # 20 word ka sentence hoga max\n",
        "\n",
        "from tensorflow.keras import preprocessing\n",
        "x_train = preprocessing.sequence.pad_sequences(x_train, maxlen=maxlen)\n",
        "x_test = preprocessing.sequence.pad_sequences(x_test, maxlen=maxlen)"
      ],
      "execution_count": 55,
      "outputs": []
    },
    {
      "cell_type": "code",
      "metadata": {
        "id": "ww0t0J7OR_yc",
        "colab_type": "code",
        "colab": {}
      },
      "source": [
        "# Bidirectional LSTM\n",
        "\n",
        "model = Sequential()\n",
        "model.add(layers.Embedding(max_features, 32))\n",
        "model.add(layers.Bidirectional(layers.LSTM(32)))\n",
        "model.add(layers.Dense(1, activation='sigmoid'))\n",
        "\n",
        "model.compile(optimizer='rmsprop', loss='binary_crossentropy', metrics=['acc'])"
      ],
      "execution_count": 56,
      "outputs": []
    },
    {
      "cell_type": "code",
      "metadata": {
        "id": "VkvXT-TkR_1k",
        "colab_type": "code",
        "colab": {
          "base_uri": "https://localhost:8080/",
          "height": 364
        },
        "outputId": "79ab6369-1292-4388-ae21-bac8c732157e"
      },
      "source": [
        "history = model.fit(x_train, y_train,\n",
        "                    epochs=10,\n",
        "                    batch_size=128,\n",
        "                    validation_split=0.2)"
      ],
      "execution_count": 57,
      "outputs": [
        {
          "output_type": "stream",
          "text": [
            "Epoch 1/10\n",
            "250/250 [==============================] - 5s 19ms/step - loss: 0.5256 - acc: 0.7273 - val_loss: 0.4830 - val_acc: 0.7635\n",
            "Epoch 2/10\n",
            "250/250 [==============================] - 4s 15ms/step - loss: 0.4211 - acc: 0.8075 - val_loss: 0.4708 - val_acc: 0.7720\n",
            "Epoch 3/10\n",
            "250/250 [==============================] - 4s 15ms/step - loss: 0.3879 - acc: 0.8258 - val_loss: 0.4664 - val_acc: 0.7770\n",
            "Epoch 4/10\n",
            "250/250 [==============================] - 4s 16ms/step - loss: 0.3619 - acc: 0.8397 - val_loss: 0.4727 - val_acc: 0.7753\n",
            "Epoch 5/10\n",
            "250/250 [==============================] - 4s 15ms/step - loss: 0.3389 - acc: 0.8523 - val_loss: 0.4968 - val_acc: 0.7764\n",
            "Epoch 6/10\n",
            "250/250 [==============================] - 4s 15ms/step - loss: 0.3179 - acc: 0.8625 - val_loss: 0.5241 - val_acc: 0.7736\n",
            "Epoch 7/10\n",
            "250/250 [==============================] - 4s 15ms/step - loss: 0.2990 - acc: 0.8710 - val_loss: 0.5276 - val_acc: 0.7682\n",
            "Epoch 8/10\n",
            "250/250 [==============================] - 4s 15ms/step - loss: 0.2823 - acc: 0.8796 - val_loss: 0.5273 - val_acc: 0.7692\n",
            "Epoch 9/10\n",
            "250/250 [==============================] - 4s 15ms/step - loss: 0.2680 - acc: 0.8881 - val_loss: 0.5548 - val_acc: 0.7701\n",
            "Epoch 10/10\n",
            "250/250 [==============================] - 4s 15ms/step - loss: 0.2531 - acc: 0.8942 - val_loss: 0.5921 - val_acc: 0.7646\n"
          ],
          "name": "stdout"
        }
      ]
    },
    {
      "cell_type": "code",
      "metadata": {
        "id": "JU_VwKDSR_4s",
        "colab_type": "code",
        "colab": {}
      },
      "source": [
        "#show_all(history)"
      ],
      "execution_count": 58,
      "outputs": []
    },
    {
      "cell_type": "code",
      "metadata": {
        "id": "mdg9-_1domz0",
        "colab_type": "code",
        "colab": {
          "base_uri": "https://localhost:8080/",
          "height": 86
        },
        "outputId": "731c2436-e05a-46dc-8d17-a061c5d4728d"
      },
      "source": [
        "evaluation = model.evaluate(x_test,y_test,verbose=2)\n",
        "print()\n",
        "print(\"Loss: \",evaluation[0]*100,\"%\")\n",
        "print(\"Accuracy: \",evaluation[1]*100,\"%\")"
      ],
      "execution_count": 59,
      "outputs": [
        {
          "output_type": "stream",
          "text": [
            "313/313 - 2s - loss: 0.6109 - acc: 0.7581\n",
            "\n",
            "Loss:  61.08575463294983 %\n",
            "Accuracy:  75.80999732017517 %\n"
          ],
          "name": "stdout"
        }
      ]
    },
    {
      "cell_type": "markdown",
      "metadata": {
        "id": "FJDPI6oTdMnA",
        "colab_type": "text"
      },
      "source": [
        "#Training a bidirectional GRU"
      ]
    },
    {
      "cell_type": "code",
      "metadata": {
        "id": "s0FvMBc1N7RQ",
        "colab_type": "code",
        "colab": {}
      },
      "source": [
        "from tensorflow.keras.models import Sequential\n",
        "from tensorflow.keras import layers\n",
        "from tensorflow.keras.optimizers import RMSprop"
      ],
      "execution_count": 60,
      "outputs": []
    },
    {
      "cell_type": "code",
      "metadata": {
        "id": "NsLgDeH6dRAQ",
        "colab_type": "code",
        "colab": {}
      },
      "source": [
        "model = Sequential()\n",
        "model.add(layers.Embedding(max_features, 32))\n",
        "model.add(layers.Bidirectional(layers.GRU(32)))\n",
        "model.add(layers.Dense(1, activation='sigmoid'))\n",
        "\n",
        "model.compile(optimizer=RMSprop(), loss='binary_crossentropy', metrics=['acc'])"
      ],
      "execution_count": 61,
      "outputs": []
    },
    {
      "cell_type": "code",
      "metadata": {
        "id": "xmVNd06GdW6Y",
        "colab_type": "code",
        "colab": {
          "base_uri": "https://localhost:8080/",
          "height": 364
        },
        "outputId": "058f330d-0960-4b3b-b0fd-69d9679c59b8"
      },
      "source": [
        "history = model.fit(x_train, y_train,\n",
        "                    epochs=10,\n",
        "                    batch_size=128,\n",
        "                    validation_split=0.2)"
      ],
      "execution_count": 62,
      "outputs": [
        {
          "output_type": "stream",
          "text": [
            "Epoch 1/10\n",
            "250/250 [==============================] - 5s 19ms/step - loss: 0.5401 - acc: 0.7137 - val_loss: 0.4766 - val_acc: 0.7716\n",
            "Epoch 2/10\n",
            "250/250 [==============================] - 4s 16ms/step - loss: 0.4258 - acc: 0.8046 - val_loss: 0.4738 - val_acc: 0.7735\n",
            "Epoch 3/10\n",
            "250/250 [==============================] - 4s 16ms/step - loss: 0.3986 - acc: 0.8196 - val_loss: 0.4746 - val_acc: 0.7742\n",
            "Epoch 4/10\n",
            "250/250 [==============================] - 4s 16ms/step - loss: 0.3821 - acc: 0.8303 - val_loss: 0.4663 - val_acc: 0.7761\n",
            "Epoch 5/10\n",
            "250/250 [==============================] - 4s 16ms/step - loss: 0.3693 - acc: 0.8369 - val_loss: 0.4693 - val_acc: 0.7766\n",
            "Epoch 6/10\n",
            "250/250 [==============================] - 4s 16ms/step - loss: 0.3593 - acc: 0.8419 - val_loss: 0.4701 - val_acc: 0.7710\n",
            "Epoch 7/10\n",
            "250/250 [==============================] - 4s 16ms/step - loss: 0.3458 - acc: 0.8478 - val_loss: 0.4819 - val_acc: 0.7746\n",
            "Epoch 8/10\n",
            "250/250 [==============================] - 4s 16ms/step - loss: 0.3319 - acc: 0.8545 - val_loss: 0.4943 - val_acc: 0.7763\n",
            "Epoch 9/10\n",
            "250/250 [==============================] - 4s 16ms/step - loss: 0.3176 - acc: 0.8619 - val_loss: 0.4992 - val_acc: 0.7739\n",
            "Epoch 10/10\n",
            "250/250 [==============================] - 4s 16ms/step - loss: 0.3017 - acc: 0.8701 - val_loss: 0.5028 - val_acc: 0.7739\n"
          ],
          "name": "stdout"
        }
      ]
    },
    {
      "cell_type": "code",
      "metadata": {
        "id": "eBQMFoqxdZWo",
        "colab_type": "code",
        "colab": {}
      },
      "source": [
        "#show_all(history)"
      ],
      "execution_count": 63,
      "outputs": []
    },
    {
      "cell_type": "code",
      "metadata": {
        "id": "Gs2vYBOdddEI",
        "colab_type": "code",
        "colab": {
          "base_uri": "https://localhost:8080/",
          "height": 86
        },
        "outputId": "eb92caae-1926-4e30-bb11-36aca72bd83a"
      },
      "source": [
        "evaluation = model.evaluate(x_test,y_test,verbose=2)\n",
        "print()\n",
        "print(\"Loss: \",evaluation[0]*100,\"%\")\n",
        "print(\"Accuracy: \",evaluation[1]*100,\"%\")"
      ],
      "execution_count": 64,
      "outputs": [
        {
          "output_type": "stream",
          "text": [
            "313/313 - 2s - loss: 0.5031 - acc: 0.7665\n",
            "\n",
            "Loss:  50.30665993690491 %\n",
            "Accuracy:  76.64999961853027 %\n"
          ],
          "name": "stdout"
        }
      ]
    },
    {
      "cell_type": "code",
      "metadata": {
        "id": "jh5zMfdPpPYs",
        "colab_type": "code",
        "colab": {}
      },
      "source": [
        ""
      ],
      "execution_count": null,
      "outputs": []
    }
  ]
}